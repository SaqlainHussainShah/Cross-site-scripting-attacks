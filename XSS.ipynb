{
 "cells": [
  {
   "cell_type": "markdown",
   "metadata": {},
   "source": [
    "### Paper:\n",
    "   #### Classification of Malicious Web Code Using Deep Learning [Manoj Kumar Selvam]\n",
    "### Dataset:\n",
    "Total rows 10187\n",
    "   #### 1. 7121 rows XSS: https://portswigger.net/web-security/cross-site-scripting/cheat-sheet\n",
    "   #### 2. 3066 rows\n",
    "   \n",
    "   "
   ]
  },
  {
   "cell_type": "code",
   "execution_count": 15,
   "metadata": {},
   "outputs": [
    {
     "name": "stderr",
     "output_type": "stream",
     "text": [
      "[nltk_data] Downloading package punkt to /home/ebryx/nltk_data...\n",
      "[nltk_data]   Package punkt is already up-to-date!\n",
      "[nltk_data] Downloading package stopwords to /home/ebryx/nltk_data...\n",
      "[nltk_data]   Package stopwords is already up-to-date!\n",
      "[nltk_data] Downloading package wordnet to /home/ebryx/nltk_data...\n",
      "[nltk_data]   Package wordnet is already up-to-date!\n"
     ]
    }
   ],
   "source": [
    "import numpy as np\n",
    "import pandas as pd\n",
    "import glob\n",
    "import time\n",
    "import pandas as pd\n",
    "# from xml.dom import minidom\n",
    "\n",
    "import nltk\n",
    "nltk.download('punkt')\n",
    "nltk.download('stopwords')\n",
    "nltk.download('wordnet')\n",
    "from nltk.corpus import stopwords \n",
    "\n",
    "\n",
    "import os\n",
    "import matplotlib.pyplot as plt\n",
    "import keras"
   ]
  },
  {
   "cell_type": "code",
   "execution_count": 2,
   "metadata": {},
   "outputs": [],
   "source": [
    "import cv2"
   ]
  },
  {
   "cell_type": "code",
   "execution_count": 19,
   "metadata": {},
   "outputs": [],
   "source": [
    "path='./data/portswigger.txt'\n",
    "\n",
    "sqli_sentences=[]\n",
    "f = open(path, \"r\")\n",
    "for x in f:\n",
    "    sqli_sentences.append(x)"
   ]
  },
  {
   "cell_type": "code",
   "execution_count": 20,
   "metadata": {},
   "outputs": [
    {
     "data": {
      "text/plain": [
       "7121"
      ]
     },
     "execution_count": 20,
     "metadata": {},
     "output_type": "execute_result"
    }
   ],
   "source": [
    "len(sqli_sentences)"
   ]
  },
  {
   "cell_type": "code",
   "execution_count": 6,
   "metadata": {},
   "outputs": [],
   "source": [
    "# Manually removed tag data\n",
    "\n",
    "\n",
    "path='./data/'\n",
    "file=\"scottparker_ml_sqli_src__trainingdata_plain.txt\""
   ]
  },
  {
   "cell_type": "code",
   "execution_count": 7,
   "metadata": {},
   "outputs": [],
   "source": [
    "df = pd.read_csv(os.path.join(path,file), sep='Aw3s0meSc0t7', names=['benign'], header=None, engine='python')"
   ]
  },
  {
   "cell_type": "code",
   "execution_count": 8,
   "metadata": {},
   "outputs": [
    {
     "data": {
      "text/html": [
       "<div>\n",
       "<style scoped>\n",
       "    .dataframe tbody tr th:only-of-type {\n",
       "        vertical-align: middle;\n",
       "    }\n",
       "\n",
       "    .dataframe tbody tr th {\n",
       "        vertical-align: top;\n",
       "    }\n",
       "\n",
       "    .dataframe thead th {\n",
       "        text-align: right;\n",
       "    }\n",
       "</style>\n",
       "<table border=\"1\" class=\"dataframe\">\n",
       "  <thead>\n",
       "    <tr style=\"text-align: right;\">\n",
       "      <th></th>\n",
       "      <th>benign</th>\n",
       "    </tr>\n",
       "  </thead>\n",
       "  <tbody>\n",
       "    <tr>\n",
       "      <th>0</th>\n",
       "      <td>Add plain text here</td>\n",
       "    </tr>\n",
       "    <tr>\n",
       "      <th>1</th>\n",
       "      <td>Ne te quaesiveris extra.</td>\n",
       "    </tr>\n",
       "    <tr>\n",
       "      <th>2</th>\n",
       "      <td>Man is his own star; and the soul that can</td>\n",
       "    </tr>\n",
       "    <tr>\n",
       "      <th>3</th>\n",
       "      <td>Render an honest and a perfect man,</td>\n",
       "    </tr>\n",
       "    <tr>\n",
       "      <th>4</th>\n",
       "      <td>Commands all light, all influence, all fate;</td>\n",
       "    </tr>\n",
       "  </tbody>\n",
       "</table>\n",
       "</div>"
      ],
      "text/plain": [
       "                                         benign\n",
       "0                           Add plain text here\n",
       "1                      Ne te quaesiveris extra.\n",
       "2    Man is his own star; and the soul that can\n",
       "3           Render an honest and a perfect man,\n",
       "4  Commands all light, all influence, all fate;"
      ]
     },
     "execution_count": 8,
     "metadata": {},
     "output_type": "execute_result"
    }
   ],
   "source": [
    "df.head()"
   ]
  },
  {
   "cell_type": "code",
   "execution_count": 9,
   "metadata": {},
   "outputs": [],
   "source": [
    "plain_text=df['benign'].values"
   ]
  },
  {
   "cell_type": "code",
   "execution_count": 10,
   "metadata": {},
   "outputs": [
    {
     "data": {
      "text/plain": [
       "array(['Add plain text here', 'Ne te quaesiveris extra.',\n",
       "       'Man is his own star; and the soul that can',\n",
       "       'Render an honest and a perfect man,',\n",
       "       'Commands all light, all influence, all fate;'], dtype=object)"
      ]
     },
     "execution_count": 10,
     "metadata": {},
     "output_type": "execute_result"
    }
   ],
   "source": [
    "plain_text[:5]"
   ]
  },
  {
   "cell_type": "code",
   "execution_count": 11,
   "metadata": {},
   "outputs": [],
   "source": [
    "plain_text=plain_text[:-22] # removed last 22 records that were urls"
   ]
  },
  {
   "cell_type": "code",
   "execution_count": 225,
   "metadata": {},
   "outputs": [
    {
     "data": {
      "text/plain": [
       "3641"
      ]
     },
     "execution_count": 225,
     "metadata": {},
     "output_type": "execute_result"
    }
   ],
   "source": [
    "len(plain_text)"
   ]
  },
  {
   "cell_type": "code",
   "execution_count": 226,
   "metadata": {},
   "outputs": [],
   "source": [
    "data=''\n",
    "for x in plain_text:\n",
    "    data+=\" \" + x"
   ]
  },
  {
   "cell_type": "code",
   "execution_count": 227,
   "metadata": {},
   "outputs": [],
   "source": [
    "stop_words = set(stopwords.words('english')) \n",
    "def fun_remove_stop_words(posts):\n",
    "    filtered=''\n",
    "    for x in posts.split(' '):\n",
    "        if x not in stop_words:\n",
    "            filtered+=' '+x\n",
    "    return filtered"
   ]
  },
  {
   "cell_type": "code",
   "execution_count": 228,
   "metadata": {},
   "outputs": [],
   "source": [
    "data=fun_remove_stop_words(data)\n",
    "data=data.split('.')"
   ]
  },
  {
   "cell_type": "code",
   "execution_count": 18,
   "metadata": {},
   "outputs": [
    {
     "data": {
      "text/plain": [
       "['  Add plain text Ne te quaesiveris extra',\n",
       " ' Man star; soul Render honest perfect man, Commands light, influence, fate; Nothing falls early late',\n",
       " ' Our acts angels are, good ill, Our fatal shadows walk us still',\n",
       " ' Epilogue Beaumont Fletcher’s Honest Man’s Fortune Cast bantling rocks, Suckle she-wolf’s teat; Wintered hawk fox, Power speed hands feet',\n",
       " ' I read day verses written eminent painter original conventional']"
      ]
     },
     "execution_count": 18,
     "metadata": {},
     "output_type": "execute_result"
    }
   ],
   "source": [
    "data[:5]"
   ]
  },
  {
   "cell_type": "code",
   "execution_count": 229,
   "metadata": {},
   "outputs": [
    {
     "data": {
      "text/plain": [
       "3066"
      ]
     },
     "execution_count": 229,
     "metadata": {},
     "output_type": "execute_result"
    }
   ],
   "source": [
    "len(data)"
   ]
  },
  {
   "cell_type": "code",
   "execution_count": 22,
   "metadata": {},
   "outputs": [],
   "source": [
    "values=[]\n",
    "for i in sqli_sentences:\n",
    "    values.append((i,1))"
   ]
  },
  {
   "cell_type": "code",
   "execution_count": 23,
   "metadata": {},
   "outputs": [],
   "source": [
    "\n",
    "\n",
    "for i in data:\n",
    "    values.append((i,0))\n",
    "\n"
   ]
  },
  {
   "cell_type": "code",
   "execution_count": 24,
   "metadata": {},
   "outputs": [],
   "source": [
    "df=pd.DataFrame(values,columns=['Sentence','Label'])"
   ]
  },
  {
   "cell_type": "code",
   "execution_count": 156,
   "metadata": {},
   "outputs": [],
   "source": [
    "df.to_csv('XSS_dataset.csv', encoding='utf-8-sig')"
   ]
  },
  {
   "cell_type": "code",
   "execution_count": 25,
   "metadata": {},
   "outputs": [
    {
     "data": {
      "text/plain": [
       "10187"
      ]
     },
     "execution_count": 25,
     "metadata": {},
     "output_type": "execute_result"
    }
   ],
   "source": [
    "len(values)"
   ]
  },
  {
   "cell_type": "code",
   "execution_count": 26,
   "metadata": {},
   "outputs": [
    {
     "data": {
      "text/plain": [
       "('<a draggable=\"true\" ondragend=\"alert(1)\">test</a>\\n', 1)"
      ]
     },
     "execution_count": 26,
     "metadata": {},
     "output_type": "execute_result"
    }
   ],
   "source": [
    "values[1]"
   ]
  },
  {
   "cell_type": "code",
   "execution_count": 27,
   "metadata": {},
   "outputs": [
    {
     "data": {
      "text/plain": [
       "('com\" style=\"max-width:450px;float:left;padding:10px 10px 10px 0px;border:0px;\">As type buying selling turn 2145 215 22 220 540 543 544473 buy omnicef diners club store 544473\">buy omnicef diners club store 544473\"]buy omnicef diners club store 9ArATgxuN99s5bw1e@V$K@JrLjlTnn1aFZqEw2cH@V$K@1d2RRER7vmuzdd4nPCz@V$K@/CkclyEqatPpZvNr == ==01 @7520 A3B10 A3B12C41 A3B12C411 APP AR-203 ASCd AgAHMzM3MsdfjMwMExG6Pvz1i3DhGd7DSt5Ve9Qu/n91BdfdEB5EbdeO/M5lphLOo5yOn/ZyS1jabRmzu2WUHoScLEwJjaDz2yHm9tJWbLuELC/JM8Eix/VtyWmMO5osa8FbYZnPanAxI7Ty0n7avQytu2rEK2F+N+C390zLVThtSXL1Isk49OSEWuEAzdaRlmLUWcpx6XSDjFZ++1cgwEoAILJ9Q5NObm6nYipbGovJ6YZgiEncnT9GU6x6sgKNppX0YgXXmss+0Qi5eXWmDn30UlwjfTbmc+Ta17XLDXGm6f/hiM7f4fde+5c+Pavn9EIZXYe9K6G/GyCM7I0dzjPIsjEOwl96y+fYXoZoJcp79kLwtTy6F1dL1HAs8DSFoIrfoUs7zyFtzgMnV2K0sT68IwWkiof2eM1Xes5nbDzmHOEQZ+loGLF2UBIyGcz4cSCtdZhrJXt7TxSIzeHKYpCgtVhNo4zJDlHo7zpUnR+8dSlUsdf18e08zs4iGMRK43bhv6oGA6dUw/dX+exrGTL+NMOThQUQvFdYNsc+AFGWo3PqLFhjQ9s3RzK5krr6II3e2vKhs36q7NgNgaIlQNiqNo8cNbE8iVUxZcHhvxaOStpiUN+N9KY4sZ51Ole8offosPb1NqXs3575SXU+1dEpaggUrUJqKjeUM4Hu90KoHmbL2+/zt6Bk+GCnk2WBKJENscEetfLBCBzBGXPlKC7/G5W4k8Gviynn4qCUoD9FvagtKTTF4MaA5rZtrKRabUae++259WRUZ3VEHfzjpXLaogS9DoeVHDebAClkkuAdU6F6fa2wFIM58= AgAHMzM3MjMwMJnS2WotX5wisoSRNiccx9VSfDnC/TFaDo/9wddE55SqhLOo5yOn/ZyS1jabRmzu2WUHoScLEwJjDz2yHsm9tJWa4Oyj22HdAIrJSshxe0KmKTxD4lBsReQqG6IN3ULz8oaEwMT7lKcx4Ukfep1IwCe7xHXlsW2gCFxdZmh731jKLuFDn/9rcY4AkdgqajLoHmVnLk3uBcTxbQS8XWJJk8++VnGu9toYSualxl0CgjSRgl01ddYqiaVYQOBShAcHCdfbHmbDZIPrPowSVFUAGpYsVDx3fVEdDa8NKRAPMI3wAlq40FqZDdhNXNr70OL9ZRzS82kWdHP8w2hd1KcIheAxDSw4a5FLAjzSWrdjcOvUfJQO5QT/90J19i2IWnuTNIdTzOcf3uVy23sHyWmsBEWHyaSsKDm7dfOPPwHIWamQKkdcm5KoWp/FgoIR09S0cn/BZzLOsdcFSbhYOxA== B_qna B_solution Bn2GepSdoAsdfe4V4a1@V$K@Bn2GepSdoAe4V4a1@23V$K@PlVEBnTVHAYa01hH@V$K@eTZyMZ0F3YBl4Ozr@V$K@Bn2GepSdoAe4V4a1@V$K@xJ8t+K+x1e6/nqCp@V$a1K@PLnd8fSYoXD3QL3s Board00001 C CYsdfSL7J/aXGaV/30TU412JWfjHA== Cont Content-Disposi Content-Disposition: form- Content-Disposition: form-data; name=\"app\" Content-Disposition: form-data; name=\"cd_loan_type\" Content-Disposition: form-data; name=\"id_finance\" Content-Disposition: form-data; name=\"mode\" Content-Disposition: form-data; name=\"no\" Content-Disposition: form-data; name=\"no_goods\" Content-Disposition: form-data; name=\"path\" Content-Disposition: form-data; name=\"pnm\" Content-Disposition: form-data; name=\"return_page\" Content-Disposition: form-data; name=\"type\" D2 D3 DC-3000 DF Del E EA F1 F4 F5 F6 FG123P8HQ+vasd0pVzD2O+YlD+v1V2g== FmsdfVDvlXqIVetUIzs@V$K@Vj+fqZ6TuN123pq1X2w@V$K@dqRLntgax88tXGB3@V$K@R43SsinxoXFCKjAy FmVDvlXqIVetUIzs@V$K@n5aESvV0q4Se1iBn8@Vasd$K@M5IvfWDvvs5y1TnouS@V$K@Vj+fqZ6TuNpq1X2w@V$K@fuvKbfOrsGKtsDsdf7l@V$K@ZtgfO1WcVPD67KFos@V$K@dqRLntgax88tXGB3 Free Fun Hf6DNiDdq1xzaB3bdDT@V$512K@MRn61gAqhi0iae213dd@V$K@Hf6DNisdfDxzaB3bdDT@V$K@rSTgzjcYIY7Iirl+@V$K@iTI/NtJsfFTdH8ah@V$K@Hf6DNiDxzaB3bdDT@V$K@EdodGNxPNEYWbWcs JVwH/8xSq6ezJPYt@V$s23K@vPr4I41U8oeym0BEi+@V$K@3WPcTx1mJ5sBdACl@V$K@3WPcTx1mJ5sBdACl@V$K@QpmadUUMPKv2tSJP@V$K@JVwH/8xSq6ezasdfJPYt@V$K@vPr4IU8oeym0BEi+ L-840 360ml 트리거 L-840 450 트리거 L5VSRxv4dfoDXwH+hZ@V$K@T0NO9ASwF7J4gKAh@V$K@VWvmclMqqannOAJf@V$K@ERQVjx2OGeE0Mxdf@V$K@VicBva15FL1xm0WH@Va123$K@T0NO9ASwF7J4gKAh@V$K@VicBva15FL1xm0WH PSC-1 NPP Purchase omnicef without prescri QJt5lWbasdftpJ3yciKW@V$K@Hf6DNi123Dxz1aB3bdDT@V$K@iTI/NtJsfFaTdH8vah@V$K@MRn61gAqhi0iaedd QNA_7 R RandD S SF-1013 SR-600 School TC-100 TP1 TracyJat TzwvXJPEcaaOZ9DhJ0@V$K@6DPV+YkQBHbJYSMo@V$Kw@fykXPjdnQQrXTvasdfSr@V$K@c1LOcyiCkFas+XHzbo@V$K@LIHG/+VLgv8RRGR01123@V$K@TzwvXJPEcOZ9DhJ0@V$K@uiGFBm0312rIUaiuBxk UWxvAe743xrPY10JM@V$K@rojWCf7y+OXORcBK@V$Kv@0AIa2oYla5Nt1ckw3@V$K@GMPMso40NCSoArEA V V0hYD71LOy24uhiN4N@3V$K@L5VSRxv4oDXwH+hZ@Vsdf$K@znwrm3vjnUyJBkle@V$K@OuJAnfBzCHbLSge1 VISITVIEW WJyyJ+94QQ2bZbMjn@V$K@kyzIU123+92FxfeBsdfaTn@V$K@3GcBPScFJ6QQEw12gn@V$K@kyzIU+92FsdxfeBaTn@V$K@kNefOsew6E+LZCD51r@V$K@WJyyJ+94Q4asdfkQbZbMjn@V123$K@WJyyJ+94QQbZbMjn WlDxZ/Xl9Gqymv123SWnoZdkHQ== WnuIfx55kZ XQg12SK2QaeLWOadsfsa124yeMxePT1Pg== Y Y&check_name Y,Y,Y,Y,Y,Y,Y,Y,Y,Y,Y,Y Y29k123ZT1mcmVlJnNlYXJjaasdvFa9pdGVtPSZzZWFyY2hfb3JkZXI9JnVuc2luZ2NvZGUxPTEyNTc3NTU2OTEkljoimdW5zasadfW5nY29kZTI9MTI1Nzc1NTc4123OCZ1asdfbnNpbmdjb232Rl41Mz0mY2F0ZT0mcHdkPQ==|| Y29kZTasdf1xbmEmc2VcwehcmNoX2l0ZW09JnNlYXJjaF9vcmRlcasdj0mdW5zaW5nY29kZTE9MTIc131Nzc1NTY5MSZ1bnNpbmdjb2RlMj0xMjU3NzU1NzczJnVuc2412sasdfqluZ2NvasdfpwZGUzPSZjYXRlPSZwd2Q9|| YM YYkswPo6JL4ZZMkx@V$K@JnrdZp35dfasbHSPasldfp1123x571@V$K@7QbUi7a/9aCtxupAas;ldf@V$K@7QbUi7a/9aCtxupA@V$Ks;dlfsalkl;k@jW4BJJFvS0sJfNr9@V$K@YYkswPo6JL4ZZMkx@V$asdlkfjK@cM7J0WfRkiELyEje YcrJWg5O Yfrhmym9asdfkHyKybz9y@V$K@7asdlfksaldfXRKgdViFaBwTq7N@V$K@Yfrhmym9HyasldfkpoKybz9y@V$K@ZIKXXH1fCD3qlt7L add again_loan_Mobile agree_10_1 agree_20_1 agree_20_2 agree_30_1 agree_30_2 agree_30_3 agree_30_4 agree_40_1 agree_40_2 and1 ap14 application apply2 checkPwd',\n",
       " 0)"
      ]
     },
     "execution_count": 27,
     "metadata": {},
     "output_type": "execute_result"
    }
   ],
   "source": [
    "values[-1]"
   ]
  },
  {
   "cell_type": "code",
   "execution_count": null,
   "metadata": {},
   "outputs": [],
   "source": [
    "sentences=df['Sentence'].values\n",
    "sentences[1]"
   ]
  },
  {
   "cell_type": "code",
   "execution_count": 235,
   "metadata": {},
   "outputs": [],
   "source": [
    "def convert_to_ascii(sentence):\n",
    "    sentence_ascii=[]\n",
    "\n",
    "    for i in sentence:\n",
    "        sentence_ascii.append(ord(i))\n",
    "\n",
    "    zer=np.zeros((10000))\n",
    "\n",
    "    for i in range(len(sentence_ascii)):\n",
    "        zer[i]=sentence_ascii[i]\n",
    "\n",
    "    zer.shape=(100, 100)\n",
    "\n",
    "\n",
    "#     plt.plot(image)\n",
    "#     plt.show()\n",
    "    return zer\n"
   ]
  },
  {
   "cell_type": "code",
   "execution_count": 236,
   "metadata": {},
   "outputs": [],
   "source": [
    "# display_ascii(sentences[100])\n",
    "\n",
    "\n",
    "arr=np.zeros((10187,100,100))\n",
    "\n",
    "for i in range(len(sentences)):\n",
    "    \n",
    "    image=convert_to_ascii(sentences[i])\n",
    "\n",
    "    x=np.asarray(image,dtype='float')\n",
    "    image =  cv2.resize(x, dsize=(100,100), interpolation=cv2.INTER_CUBIC)\n",
    "    image/=128\n",
    "    \n",
    "#     if i==1:\n",
    "#         plt.plot(image)\n",
    "#         plt.show()    \n",
    "    arr[i]=image"
   ]
  },
  {
   "cell_type": "code",
   "execution_count": 237,
   "metadata": {},
   "outputs": [
    {
     "data": {
      "text/plain": [
       "(10187, 100, 100)"
      ]
     },
     "execution_count": 237,
     "metadata": {},
     "output_type": "execute_result"
    }
   ],
   "source": [
    "arr.shape"
   ]
  },
  {
   "cell_type": "code",
   "execution_count": 238,
   "metadata": {},
   "outputs": [],
   "source": [
    "data = arr.reshape(arr.shape[0], 100, 100, 1)"
   ]
  },
  {
   "cell_type": "code",
   "execution_count": 239,
   "metadata": {},
   "outputs": [],
   "source": [
    "y=df['Label'].values"
   ]
  },
  {
   "cell_type": "code",
   "execution_count": 240,
   "metadata": {},
   "outputs": [],
   "source": [
    "from sklearn.model_selection import train_test_split\n",
    "trainX, testX, trainY, testY = train_test_split(data,y, test_size=0.2, random_state=42)"
   ]
  },
  {
   "cell_type": "code",
   "execution_count": 241,
   "metadata": {},
   "outputs": [],
   "source": [
    "\n",
    "\n",
    "from keras.models import Sequential\n",
    "from keras.layers import Dense, Activation, Conv2D, MaxPooling2D,Flatten,Dropout,MaxPool2D, BatchNormalization\n",
    "\n"
   ]
  },
  {
   "cell_type": "code",
   "execution_count": 242,
   "metadata": {},
   "outputs": [],
   "source": [
    "\n",
    "model = Sequential()\n",
    "model.add(keras.layers.Flatten(input_shape=(100,100,1)))\n",
    "model.add(keras.layers.Dense(20,  activation='relu'))\n",
    "model.add(keras.layers.Dense(10,  activation='tanh'))\n",
    "# model.add(layers.Flatten())\n",
    "model.add(keras.layers.Dense(1024, activation='relu'))\n",
    "\n",
    "model.add(keras.layers.BatchNormalization())\n",
    "model.add(keras.layers.Dropout(0.5))\n",
    "model.add(keras.layers.Dense(1, activation='sigmoid'))"
   ]
  },
  {
   "cell_type": "code",
   "execution_count": 243,
   "metadata": {},
   "outputs": [
    {
     "name": "stdout",
     "output_type": "stream",
     "text": [
      "Model: \"sequential_18\"\n",
      "_________________________________________________________________\n",
      "Layer (type)                 Output Shape              Param #   \n",
      "=================================================================\n",
      "flatten_15 (Flatten)         (None, 10000)             0         \n",
      "_________________________________________________________________\n",
      "dense_53 (Dense)             (None, 20)                200020    \n",
      "_________________________________________________________________\n",
      "dense_54 (Dense)             (None, 10)                210       \n",
      "_________________________________________________________________\n",
      "dense_55 (Dense)             (None, 1024)              11264     \n",
      "_________________________________________________________________\n",
      "batch_normalization_8 (Batch (None, 1024)              4096      \n",
      "_________________________________________________________________\n",
      "dropout_8 (Dropout)          (None, 1024)              0         \n",
      "_________________________________________________________________\n",
      "dense_56 (Dense)             (None, 1)                 1025      \n",
      "=================================================================\n",
      "Total params: 216,615\n",
      "Trainable params: 214,567\n",
      "Non-trainable params: 2,048\n",
      "_________________________________________________________________\n"
     ]
    }
   ],
   "source": [
    "\n",
    "\n",
    "model.compile(loss='binary_crossentropy', \n",
    "              optimizer='adam', \n",
    "              metrics=['accuracy'])\n",
    "model.summary()\n",
    "\n"
   ]
  },
  {
   "cell_type": "code",
   "execution_count": 248,
   "metadata": {},
   "outputs": [],
   "source": [
    "import tensorflow as tf\n",
    "\n",
    "class myCallback(tf.keras.callbacks.Callback):\n",
    "    def on_epoch_end(self, epoch, logs={}):\n",
    "        print(logs)\n",
    "        if(logs.get('val_accuracy')>0.95):\n",
    "            print(\" \\n Reached 95% + validation accuracy\")\n",
    "            self.model.stop_training=True\n",
    "callbacks = myCallback()"
   ]
  },
  {
   "cell_type": "code",
   "execution_count": 249,
   "metadata": {},
   "outputs": [
    {
     "name": "stdout",
     "output_type": "stream",
     "text": [
      "Train on 8149 samples, validate on 2038 samples\n",
      "Epoch 1/10\n",
      "8149/8149 [==============================] - 1s 138us/step - loss: 0.0133 - accuracy: 0.9975 - val_loss: 0.1825 - val_accuracy: 0.9200\n",
      "{'val_loss': 0.18250111151958237, 'val_accuracy': 0.9200196266174316, 'loss': 0.01332159837763192, 'accuracy': 0.9975457}\n",
      "Epoch 2/10\n",
      "8149/8149 [==============================] - 1s 150us/step - loss: 0.0626 - accuracy: 0.9827 - val_loss: 0.1198 - val_accuracy: 0.9725\n",
      "{'val_loss': 0.11980633327958629, 'val_accuracy': 0.9725220799446106, 'loss': 0.06258909140595455, 'accuracy': 0.98269725}\n",
      " \n",
      " Reached 95% + validation accuracy\n"
     ]
    }
   ],
   "source": [
    "batch_size = 128\n",
    "num_epoch = 10\n",
    "#model training\n",
    "model_log = model.fit(trainX, trainY,\n",
    "          batch_size=batch_size,\n",
    "          epochs=num_epoch,\n",
    "          verbose=1,\n",
    "          validation_data=( testX,  testY),\n",
    "                      callbacks=[callbacks])"
   ]
  },
  {
   "cell_type": "code",
   "execution_count": 250,
   "metadata": {},
   "outputs": [],
   "source": [
    "pred=model.predict(testX)"
   ]
  },
  {
   "cell_type": "code",
   "execution_count": 251,
   "metadata": {},
   "outputs": [],
   "source": [
    "for i in range(len(pred)):\n",
    "    if pred[i]>0.5:\n",
    "        pred[i]=1\n",
    "    elif pred[i]<=0.5:\n",
    "        pred[i]=0"
   ]
  },
  {
   "cell_type": "code",
   "execution_count": 252,
   "metadata": {},
   "outputs": [],
   "source": [
    "true=0\n",
    "false=0\n",
    "\n",
    "for i in range(len(pred)):\n",
    "    if pred[i] == testY[i]:\n",
    "        true+=1\n",
    "    else:\n",
    "        false+=1"
   ]
  },
  {
   "cell_type": "code",
   "execution_count": 253,
   "metadata": {},
   "outputs": [
    {
     "name": "stdout",
     "output_type": "stream",
     "text": [
      "correct predicted ::  1982\n"
     ]
    }
   ],
   "source": [
    "print(\"correct predicted :: \", true)"
   ]
  },
  {
   "cell_type": "code",
   "execution_count": 254,
   "metadata": {},
   "outputs": [
    {
     "name": "stdout",
     "output_type": "stream",
     "text": [
      "false prediction ::  56\n"
     ]
    }
   ],
   "source": [
    "print(\"false prediction :: \", false)"
   ]
  },
  {
   "cell_type": "code",
   "execution_count": 255,
   "metadata": {},
   "outputs": [],
   "source": [
    "attack=0\n",
    "benign=0\n",
    "for i in range(len(testY)):\n",
    "    if testY[i]==1:\n",
    "        attack+=1\n",
    "    else:\n",
    "        benign+=1"
   ]
  },
  {
   "cell_type": "code",
   "execution_count": 256,
   "metadata": {},
   "outputs": [
    {
     "name": "stdout",
     "output_type": "stream",
     "text": [
      "Attack data in test set ::  1423\n"
     ]
    }
   ],
   "source": [
    "print(\"Attack data in test set :: \", attack)"
   ]
  },
  {
   "cell_type": "code",
   "execution_count": 257,
   "metadata": {},
   "outputs": [
    {
     "name": "stdout",
     "output_type": "stream",
     "text": [
      " Benign data in test set ::  615\n"
     ]
    }
   ],
   "source": [
    "print(\" Benign data in test set :: \", benign)"
   ]
  },
  {
   "cell_type": "markdown",
   "metadata": {},
   "source": [
    "## Confusion Matrix"
   ]
  },
  {
   "cell_type": "code",
   "execution_count": 258,
   "metadata": {},
   "outputs": [],
   "source": [
    "def accuracy_function(tp,tn,fp,fn):\n",
    "    \n",
    "    accuracy = (tp+tn) / (tp+tn+fp+fn)\n",
    "    \n",
    "    return accuracy\n"
   ]
  },
  {
   "cell_type": "code",
   "execution_count": 259,
   "metadata": {},
   "outputs": [],
   "source": [
    "def precision_function(tp,fp):\n",
    "    \n",
    "    precision = tp / (tp+fp)\n",
    "    \n",
    "    return precision\n"
   ]
  },
  {
   "cell_type": "code",
   "execution_count": 260,
   "metadata": {},
   "outputs": [],
   "source": [
    "\n",
    "\n",
    "def recall_function(tp,fn):\n",
    "    \n",
    "    recall=tp / (tp+fn)\n",
    "    \n",
    "    return recall\n",
    "\n"
   ]
  },
  {
   "cell_type": "code",
   "execution_count": 261,
   "metadata": {},
   "outputs": [],
   "source": [
    "def confusion_matrix(truth,predicted):\n",
    "    \n",
    "    true_positive = 0\n",
    "    true_negative = 0\n",
    "    false_positive = 0\n",
    "    false_negative = 0\n",
    "    \n",
    "    for true,pred in zip(truth,predicted):\n",
    "        if true == 1:\n",
    "            if pred == true:\n",
    "                true_positive += 1\n",
    "            elif pred != true:\n",
    "                false_negative += 1\n",
    "\n",
    "        elif true == 0:\n",
    "            if pred == true:\n",
    "                true_negative += 1\n",
    "            elif pred != true:\n",
    "                false_positive += 1\n",
    "            \n",
    "    accuracy=accuracy_function(true_positive, true_negative, false_positive, false_negative)\n",
    "    precision=precision_function(true_positive, false_positive)\n",
    "    recall=recall_function(true_positive, false_negative)\n",
    "    \n",
    "    return (accuracy,\n",
    "            precision,\n",
    "           recall)"
   ]
  },
  {
   "cell_type": "code",
   "execution_count": 262,
   "metadata": {},
   "outputs": [],
   "source": [
    "accuracy,precision,recall=confusion_matrix(testY,pred)"
   ]
  },
  {
   "cell_type": "code",
   "execution_count": 263,
   "metadata": {},
   "outputs": [
    {
     "name": "stdout",
     "output_type": "stream",
     "text": [
      " Accuracy : 0.97252208047105 \n",
      " Precision : 0.9659168370824812 \n",
      " Recall : 0.9957835558678847\n"
     ]
    }
   ],
   "source": [
    "print(\" Accuracy : {0} \\n Precision : {1} \\n Recall : {2}\".format(accuracy, precision, recall))\n"
   ]
  },
  {
   "cell_type": "code",
   "execution_count": 265,
   "metadata": {},
   "outputs": [
    {
     "data": {
      "text/plain": [
       "0.9659168370824812"
      ]
     },
     "execution_count": 265,
     "metadata": {},
     "output_type": "execute_result"
    }
   ],
   "source": [
    "from sklearn.metrics import precision_score\n",
    "precision_score(testY, pred)"
   ]
  },
  {
   "cell_type": "code",
   "execution_count": 267,
   "metadata": {},
   "outputs": [
    {
     "data": {
      "text/plain": [
       "0.9957835558678847"
      ]
     },
     "execution_count": 267,
     "metadata": {},
     "output_type": "execute_result"
    }
   ],
   "source": [
    "from sklearn.metrics import recall_score\n",
    "recall_score(testY, pred)\n"
   ]
  }
 ],
 "metadata": {
  "kernelspec": {
   "display_name": "Python 3",
   "language": "python",
   "name": "python3"
  },
  "language_info": {
   "codemirror_mode": {
    "name": "ipython",
    "version": 3
   },
   "file_extension": ".py",
   "mimetype": "text/x-python",
   "name": "python",
   "nbconvert_exporter": "python",
   "pygments_lexer": "ipython3",
   "version": "3.7.6"
  }
 },
 "nbformat": 4,
 "nbformat_minor": 4
}
