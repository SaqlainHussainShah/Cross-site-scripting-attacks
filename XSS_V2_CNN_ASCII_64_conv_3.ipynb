{
  "nbformat": 4,
  "nbformat_minor": 0,
  "metadata": {
    "colab": {
      "name": "XSS V2 CNN ASCII 64 conv 3.ipynb",
      "provenance": [],
      "collapsed_sections": [],
      "authorship_tag": "ABX9TyMYYI1oILeaStQcPdVGkhfO",
      "include_colab_link": true
    },
    "kernelspec": {
      "name": "python3",
      "display_name": "Python 3"
    },
    "accelerator": "GPU"
  },
  "cells": [
    {
      "cell_type": "markdown",
      "metadata": {
        "id": "view-in-github",
        "colab_type": "text"
      },
      "source": [
        "<a href=\"https://colab.research.google.com/github/SaqlainHussainShah/Cross-site-scripting-attacks/blob/master/XSS_V2_CNN_ASCII_64_conv_3.ipynb\" target=\"_parent\"><img src=\"https://colab.research.google.com/assets/colab-badge.svg\" alt=\"Open In Colab\"/></a>"
      ]
    },
    {
      "cell_type": "code",
      "metadata": {
        "id": "mnnlKfhoPS3r",
        "colab_type": "code",
        "outputId": "9b0f5011-4d66-474d-814e-f609fa900ed2",
        "colab": {
          "base_uri": "https://localhost:8080/",
          "height": 121
        }
      },
      "source": [
        "import numpy as np\n",
        "import pandas as pd\n",
        "import glob\n",
        "import time\n",
        "import pandas as pd\n",
        "# from xml.dom import minidom\n",
        "\n",
        "import nltk\n",
        "nltk.download('punkt')\n",
        "nltk.download('stopwords')\n",
        "nltk.download('wordnet')\n",
        "from nltk.corpus import stopwords \n",
        "\n",
        "import tensorflow as tf\n",
        "from tensorflow import keras\n",
        "import os\n",
        "import matplotlib.pyplot as plt\n",
        "\n"
      ],
      "execution_count": 1,
      "outputs": [
        {
          "output_type": "stream",
          "text": [
            "[nltk_data] Downloading package punkt to /root/nltk_data...\n",
            "[nltk_data]   Unzipping tokenizers/punkt.zip.\n",
            "[nltk_data] Downloading package stopwords to /root/nltk_data...\n",
            "[nltk_data]   Unzipping corpora/stopwords.zip.\n",
            "[nltk_data] Downloading package wordnet to /root/nltk_data...\n",
            "[nltk_data]   Unzipping corpora/wordnet.zip.\n"
          ],
          "name": "stdout"
        }
      ]
    },
    {
      "cell_type": "code",
      "metadata": {
        "id": "eEzQrH0SQnmH",
        "colab_type": "code",
        "colab": {}
      },
      "source": [
        "import cv2"
      ],
      "execution_count": 0,
      "outputs": []
    },
    {
      "cell_type": "code",
      "metadata": {
        "id": "UxOs_BtqPnvd",
        "colab_type": "code",
        "colab": {}
      },
      "source": [
        "df = pd.read_csv('./XSS.csv', encoding='utf-8-sig')"
      ],
      "execution_count": 0,
      "outputs": []
    },
    {
      "cell_type": "code",
      "metadata": {
        "id": "Ynlw9wzJQLht",
        "colab_type": "code",
        "outputId": "dfc474da-bb1f-4ae1-f4af-3820ba5e554b",
        "colab": {
          "base_uri": "https://localhost:8080/",
          "height": 191
        }
      },
      "source": [
        "df.info()"
      ],
      "execution_count": 17,
      "outputs": [
        {
          "output_type": "stream",
          "text": [
            "<class 'pandas.core.frame.DataFrame'>\n",
            "RangeIndex: 16317 entries, 0 to 16316\n",
            "Data columns (total 3 columns):\n",
            " #   Column      Non-Null Count  Dtype \n",
            "---  ------      --------------  ----- \n",
            " 0   Unnamed: 0  16317 non-null  int64 \n",
            " 1   Sentence    16317 non-null  object\n",
            " 2   Label       16317 non-null  int64 \n",
            "dtypes: int64(2), object(1)\n",
            "memory usage: 382.6+ KB\n"
          ],
          "name": "stdout"
        }
      ]
    },
    {
      "cell_type": "code",
      "metadata": {
        "id": "BudpjIEf_0kN",
        "colab_type": "code",
        "colab": {
          "base_uri": "https://localhost:8080/",
          "height": 206
        },
        "outputId": "47a113de-6278-489c-8bb0-83d698d912d5"
      },
      "source": [
        "df.head()"
      ],
      "execution_count": 18,
      "outputs": [
        {
          "output_type": "execute_result",
          "data": {
            "text/html": [
              "<div>\n",
              "<style scoped>\n",
              "    .dataframe tbody tr th:only-of-type {\n",
              "        vertical-align: middle;\n",
              "    }\n",
              "\n",
              "    .dataframe tbody tr th {\n",
              "        vertical-align: top;\n",
              "    }\n",
              "\n",
              "    .dataframe thead th {\n",
              "        text-align: right;\n",
              "    }\n",
              "</style>\n",
              "<table border=\"1\" class=\"dataframe\">\n",
              "  <thead>\n",
              "    <tr style=\"text-align: right;\">\n",
              "      <th></th>\n",
              "      <th>Unnamed: 0</th>\n",
              "      <th>Sentence</th>\n",
              "      <th>Label</th>\n",
              "    </tr>\n",
              "  </thead>\n",
              "  <tbody>\n",
              "    <tr>\n",
              "      <th>0</th>\n",
              "      <td>0</td>\n",
              "      <td>['canfranc' 8 'norm' 'norm']</td>\n",
              "      <td>0</td>\n",
              "    </tr>\n",
              "    <tr>\n",
              "      <th>1</th>\n",
              "      <td>1</td>\n",
              "      <td>&lt;abbr oncut=\"alert(1)\" contenteditable&gt;test&lt;/a...</td>\n",
              "      <td>1</td>\n",
              "    </tr>\n",
              "    <tr>\n",
              "      <th>2</th>\n",
              "      <td>2</td>\n",
              "      <td>&lt;picture onmouseover=\"alert(1)\"&gt;test&lt;/picture&gt;</td>\n",
              "      <td>1</td>\n",
              "    </tr>\n",
              "    <tr>\n",
              "      <th>3</th>\n",
              "      <td>3</td>\n",
              "      <td>&lt;div role=\"navigation\" class=\"navbox\" aria-lab...</td>\n",
              "      <td>0</td>\n",
              "    </tr>\n",
              "    <tr>\n",
              "      <th>4</th>\n",
              "      <td>4</td>\n",
              "      <td>&lt;li id=\"cite_note-FOOTNOTEDomingos2015210-207\"...</td>\n",
              "      <td>0</td>\n",
              "    </tr>\n",
              "  </tbody>\n",
              "</table>\n",
              "</div>"
            ],
            "text/plain": [
              "   Unnamed: 0                                           Sentence  Label\n",
              "0           0                       ['canfranc' 8 'norm' 'norm']      0\n",
              "1           1  <abbr oncut=\"alert(1)\" contenteditable>test</a...      1\n",
              "2           2     <picture onmouseover=\"alert(1)\">test</picture>      1\n",
              "3           3  <div role=\"navigation\" class=\"navbox\" aria-lab...      0\n",
              "4           4  <li id=\"cite_note-FOOTNOTEDomingos2015210-207\"...      0"
            ]
          },
          "metadata": {
            "tags": []
          },
          "execution_count": 18
        }
      ]
    },
    {
      "cell_type": "code",
      "metadata": {
        "id": "FGwwNoph__V_",
        "colab_type": "code",
        "colab": {
          "base_uri": "https://localhost:8080/",
          "height": 206
        },
        "outputId": "eb632318-e2c6-4c67-881c-b9a4aa5980e1"
      },
      "source": [
        "df.head()"
      ],
      "execution_count": 19,
      "outputs": [
        {
          "output_type": "execute_result",
          "data": {
            "text/html": [
              "<div>\n",
              "<style scoped>\n",
              "    .dataframe tbody tr th:only-of-type {\n",
              "        vertical-align: middle;\n",
              "    }\n",
              "\n",
              "    .dataframe tbody tr th {\n",
              "        vertical-align: top;\n",
              "    }\n",
              "\n",
              "    .dataframe thead th {\n",
              "        text-align: right;\n",
              "    }\n",
              "</style>\n",
              "<table border=\"1\" class=\"dataframe\">\n",
              "  <thead>\n",
              "    <tr style=\"text-align: right;\">\n",
              "      <th></th>\n",
              "      <th>Unnamed: 0</th>\n",
              "      <th>Sentence</th>\n",
              "      <th>Label</th>\n",
              "    </tr>\n",
              "  </thead>\n",
              "  <tbody>\n",
              "    <tr>\n",
              "      <th>0</th>\n",
              "      <td>0</td>\n",
              "      <td>['canfranc' 8 'norm' 'norm']</td>\n",
              "      <td>0</td>\n",
              "    </tr>\n",
              "    <tr>\n",
              "      <th>1</th>\n",
              "      <td>1</td>\n",
              "      <td>&lt;abbr oncut=\"alert(1)\" contenteditable&gt;test&lt;/a...</td>\n",
              "      <td>1</td>\n",
              "    </tr>\n",
              "    <tr>\n",
              "      <th>2</th>\n",
              "      <td>2</td>\n",
              "      <td>&lt;picture onmouseover=\"alert(1)\"&gt;test&lt;/picture&gt;</td>\n",
              "      <td>1</td>\n",
              "    </tr>\n",
              "    <tr>\n",
              "      <th>3</th>\n",
              "      <td>3</td>\n",
              "      <td>&lt;div role=\"navigation\" class=\"navbox\" aria-lab...</td>\n",
              "      <td>0</td>\n",
              "    </tr>\n",
              "    <tr>\n",
              "      <th>4</th>\n",
              "      <td>4</td>\n",
              "      <td>&lt;li id=\"cite_note-FOOTNOTEDomingos2015210-207\"...</td>\n",
              "      <td>0</td>\n",
              "    </tr>\n",
              "  </tbody>\n",
              "</table>\n",
              "</div>"
            ],
            "text/plain": [
              "   Unnamed: 0                                           Sentence  Label\n",
              "0           0                       ['canfranc' 8 'norm' 'norm']      0\n",
              "1           1  <abbr oncut=\"alert(1)\" contenteditable>test</a...      1\n",
              "2           2     <picture onmouseover=\"alert(1)\">test</picture>      1\n",
              "3           3  <div role=\"navigation\" class=\"navbox\" aria-lab...      0\n",
              "4           4  <li id=\"cite_note-FOOTNOTEDomingos2015210-207\"...      0"
            ]
          },
          "metadata": {
            "tags": []
          },
          "execution_count": 19
        }
      ]
    },
    {
      "cell_type": "code",
      "metadata": {
        "id": "kE2_oUHlQMb4",
        "colab_type": "code",
        "colab": {}
      },
      "source": [
        "df=df[df.columns[-2:]]  # Only get sentence and labels"
      ],
      "execution_count": 0,
      "outputs": []
    },
    {
      "cell_type": "code",
      "metadata": {
        "id": "fcFZegMuQNzy",
        "colab_type": "code",
        "outputId": "19edf96a-1f97-423e-bedc-a4c7eab6f0ed",
        "colab": {
          "base_uri": "https://localhost:8080/",
          "height": 206
        }
      },
      "source": [
        "df.head()"
      ],
      "execution_count": 21,
      "outputs": [
        {
          "output_type": "execute_result",
          "data": {
            "text/html": [
              "<div>\n",
              "<style scoped>\n",
              "    .dataframe tbody tr th:only-of-type {\n",
              "        vertical-align: middle;\n",
              "    }\n",
              "\n",
              "    .dataframe tbody tr th {\n",
              "        vertical-align: top;\n",
              "    }\n",
              "\n",
              "    .dataframe thead th {\n",
              "        text-align: right;\n",
              "    }\n",
              "</style>\n",
              "<table border=\"1\" class=\"dataframe\">\n",
              "  <thead>\n",
              "    <tr style=\"text-align: right;\">\n",
              "      <th></th>\n",
              "      <th>Sentence</th>\n",
              "      <th>Label</th>\n",
              "    </tr>\n",
              "  </thead>\n",
              "  <tbody>\n",
              "    <tr>\n",
              "      <th>0</th>\n",
              "      <td>['canfranc' 8 'norm' 'norm']</td>\n",
              "      <td>0</td>\n",
              "    </tr>\n",
              "    <tr>\n",
              "      <th>1</th>\n",
              "      <td>&lt;abbr oncut=\"alert(1)\" contenteditable&gt;test&lt;/a...</td>\n",
              "      <td>1</td>\n",
              "    </tr>\n",
              "    <tr>\n",
              "      <th>2</th>\n",
              "      <td>&lt;picture onmouseover=\"alert(1)\"&gt;test&lt;/picture&gt;</td>\n",
              "      <td>1</td>\n",
              "    </tr>\n",
              "    <tr>\n",
              "      <th>3</th>\n",
              "      <td>&lt;div role=\"navigation\" class=\"navbox\" aria-lab...</td>\n",
              "      <td>0</td>\n",
              "    </tr>\n",
              "    <tr>\n",
              "      <th>4</th>\n",
              "      <td>&lt;li id=\"cite_note-FOOTNOTEDomingos2015210-207\"...</td>\n",
              "      <td>0</td>\n",
              "    </tr>\n",
              "  </tbody>\n",
              "</table>\n",
              "</div>"
            ],
            "text/plain": [
              "                                            Sentence  Label\n",
              "0                       ['canfranc' 8 'norm' 'norm']      0\n",
              "1  <abbr oncut=\"alert(1)\" contenteditable>test</a...      1\n",
              "2     <picture onmouseover=\"alert(1)\">test</picture>      1\n",
              "3  <div role=\"navigation\" class=\"navbox\" aria-lab...      0\n",
              "4  <li id=\"cite_note-FOOTNOTEDomingos2015210-207\"...      0"
            ]
          },
          "metadata": {
            "tags": []
          },
          "execution_count": 21
        }
      ]
    },
    {
      "cell_type": "code",
      "metadata": {
        "id": "zcoDotTHQVzK",
        "colab_type": "code",
        "outputId": "584b80be-a738-4bff-fe38-8cb06288da58",
        "colab": {
          "base_uri": "https://localhost:8080/",
          "height": 34
        }
      },
      "source": [
        "sentences=df['Sentence'].values\n",
        "sentences[1]"
      ],
      "execution_count": 22,
      "outputs": [
        {
          "output_type": "execute_result",
          "data": {
            "text/plain": [
              "'<abbr oncut=\"alert(1)\" contenteditable>test</abbr>'"
            ]
          },
          "metadata": {
            "tags": []
          },
          "execution_count": 22
        }
      ]
    },
    {
      "cell_type": "code",
      "metadata": {
        "id": "6bgO-dsxQV4R",
        "colab_type": "code",
        "outputId": "d9269cd5-4bcb-40b2-d72a-501799065acb",
        "colab": {
          "base_uri": "https://localhost:8080/",
          "height": 34
        }
      },
      "source": [
        "print(len(sentences))"
      ],
      "execution_count": 23,
      "outputs": [
        {
          "output_type": "stream",
          "text": [
            "16317\n"
          ],
          "name": "stdout"
        }
      ]
    },
    {
      "cell_type": "code",
      "metadata": {
        "id": "Hxk2E29sQV9O",
        "colab_type": "code",
        "colab": {}
      },
      "source": [
        "df_xss = df[df['Label'] == 1]"
      ],
      "execution_count": 0,
      "outputs": []
    },
    {
      "cell_type": "code",
      "metadata": {
        "id": "xuKMgv2ZQWAW",
        "colab_type": "code",
        "outputId": "fb434ec7-4f17-4d3d-f3d5-dcdefbaaf963",
        "colab": {
          "base_uri": "https://localhost:8080/",
          "height": 173
        }
      },
      "source": [
        "df_xss.info()"
      ],
      "execution_count": 25,
      "outputs": [
        {
          "output_type": "stream",
          "text": [
            "<class 'pandas.core.frame.DataFrame'>\n",
            "Int64Index: 8004 entries, 1 to 16316\n",
            "Data columns (total 2 columns):\n",
            " #   Column    Non-Null Count  Dtype \n",
            "---  ------    --------------  ----- \n",
            " 0   Sentence  8004 non-null   object\n",
            " 1   Label     8004 non-null   int64 \n",
            "dtypes: int64(1), object(1)\n",
            "memory usage: 187.6+ KB\n"
          ],
          "name": "stdout"
        }
      ]
    },
    {
      "cell_type": "code",
      "metadata": {
        "id": "Mxkn6-JUQV2H",
        "colab_type": "code",
        "colab": {}
      },
      "source": [
        "df_benign = df[df['Label'] == 0]\n"
      ],
      "execution_count": 0,
      "outputs": []
    },
    {
      "cell_type": "code",
      "metadata": {
        "id": "revc1A-iQgy3",
        "colab_type": "code",
        "outputId": "9f34882d-ad7e-4d06-d428-d1a639585f95",
        "colab": {
          "base_uri": "https://localhost:8080/",
          "height": 173
        }
      },
      "source": [
        "df_benign.info()"
      ],
      "execution_count": 27,
      "outputs": [
        {
          "output_type": "stream",
          "text": [
            "<class 'pandas.core.frame.DataFrame'>\n",
            "Int64Index: 8313 entries, 0 to 16308\n",
            "Data columns (total 2 columns):\n",
            " #   Column    Non-Null Count  Dtype \n",
            "---  ------    --------------  ----- \n",
            " 0   Sentence  8313 non-null   object\n",
            " 1   Label     8313 non-null   int64 \n",
            "dtypes: int64(1), object(1)\n",
            "memory usage: 194.8+ KB\n"
          ],
          "name": "stdout"
        }
      ]
    },
    {
      "cell_type": "code",
      "metadata": {
        "id": "LMXjZTmXQh10",
        "colab_type": "code",
        "colab": {}
      },
      "source": [
        "# Convert to ASCII\n",
        "\n",
        "def convert_to_ascii(sentence):\n",
        "    sentence_ascii=[]\n",
        "\n",
        "    for i in sentence:\n",
        "        \n",
        "        \n",
        "        \"\"\"Some characters have values very big e.d 8221 adn some are chinese letters\n",
        "        I am removing letters having values greater than 8222 and for rest greater \n",
        "        than 128 and smaller than 8222 assigning them values so they can easily be normalized\"\"\"\n",
        "       \n",
        "        if(ord(i)<8222):      # ” has ASCII of 8221\n",
        "            \n",
        "            if(ord(i)==8217): # ’  :  8217\n",
        "                sentence_ascii.append(134)\n",
        "            \n",
        "            \n",
        "            if(ord(i)==8221): # ”  :  8221\n",
        "                sentence_ascii.append(129)\n",
        "                \n",
        "            if(ord(i)==8220): # “  :  8220\n",
        "                sentence_ascii.append(130)\n",
        "                \n",
        "                \n",
        "            if(ord(i)==8216): # ‘  :  8216\n",
        "                sentence_ascii.append(131)\n",
        "                \n",
        "            if(ord(i)==8217): # ’  :  8217\n",
        "                sentence_ascii.append(132)\n",
        "            \n",
        "            if(ord(i)==8211): # –  :  8211\n",
        "                sentence_ascii.append(133)\n",
        "                \n",
        "                \n",
        "            \"\"\"\n",
        "            If values less than 128 store them else discard them\n",
        "            \"\"\"\n",
        "            if (ord(i)<=128):\n",
        "                    sentence_ascii.append(ord(i))\n",
        "    \n",
        "            else:\n",
        "                    pass\n",
        "            \n",
        "\n",
        "    zer=np.zeros((10000))\n",
        "\n",
        "    for i in range(len(sentence_ascii)):\n",
        "        zer[i]=sentence_ascii[i]\n",
        "\n",
        "    zer.shape=(100, 100)\n",
        "\n",
        "\n",
        "#     plt.plot(image)\n",
        "#     plt.show()\n",
        "    return zer"
      ],
      "execution_count": 0,
      "outputs": []
    },
    {
      "cell_type": "code",
      "metadata": {
        "id": "he5EGd4fQkc_",
        "colab_type": "code",
        "colab": {}
      },
      "source": [
        "arr=np.zeros((len(sentences),100,100))\n",
        "\n",
        "for i in range(len(sentences)):\n",
        "    \n",
        "    image=convert_to_ascii(sentences[i])\n",
        "\n",
        "    x=np.asarray(image,dtype='float')\n",
        "    image =  cv2.resize(x, dsize=(100,100), interpolation=cv2.INTER_CUBIC)\n",
        "    image/=128\n",
        "\n",
        "    \n",
        "#     if i==1:\n",
        "#         plt.plot(image)\n",
        "#         plt.show()    \n",
        "    arr[i]=image"
      ],
      "execution_count": 0,
      "outputs": []
    },
    {
      "cell_type": "code",
      "metadata": {
        "id": "-AKSjJOiQl-A",
        "colab_type": "code",
        "colab": {}
      },
      "source": [
        "data = arr.reshape(arr.shape[0], 100, 100, 1)"
      ],
      "execution_count": 0,
      "outputs": []
    },
    {
      "cell_type": "code",
      "metadata": {
        "id": "N-sFumF4Q0Z2",
        "colab_type": "code",
        "outputId": "a3b057e4-eba9-4abc-fa0d-20026894e09c",
        "colab": {
          "base_uri": "https://localhost:8080/",
          "height": 34
        }
      },
      "source": [
        "data.shape"
      ],
      "execution_count": 31,
      "outputs": [
        {
          "output_type": "execute_result",
          "data": {
            "text/plain": [
              "(16317, 100, 100, 1)"
            ]
          },
          "metadata": {
            "tags": []
          },
          "execution_count": 31
        }
      ]
    },
    {
      "cell_type": "code",
      "metadata": {
        "id": "PBWqr_uRQ4Tj",
        "colab_type": "code",
        "colab": {}
      },
      "source": [
        "y=df['Label'].values"
      ],
      "execution_count": 0,
      "outputs": []
    },
    {
      "cell_type": "code",
      "metadata": {
        "id": "2YnnaRZgQ5lB",
        "colab_type": "code",
        "colab": {}
      },
      "source": [
        "\n",
        "\n",
        "# Split into train/test data\n",
        "from sklearn.model_selection import train_test_split\n",
        "trainX, testX, trainY, testY = train_test_split(data,y, test_size=0.2, random_state=42)\n",
        "\n"
      ],
      "execution_count": 0,
      "outputs": []
    },
    {
      "cell_type": "code",
      "metadata": {
        "id": "jXh2epnLQ7L-",
        "colab_type": "code",
        "outputId": "9931ed80-ccdd-4912-a94b-c6326a2ee519",
        "colab": {
          "base_uri": "https://localhost:8080/",
          "height": 34
        }
      },
      "source": [
        "trainX.shape\n"
      ],
      "execution_count": 34,
      "outputs": [
        {
          "output_type": "execute_result",
          "data": {
            "text/plain": [
              "(13053, 100, 100, 1)"
            ]
          },
          "metadata": {
            "tags": []
          },
          "execution_count": 34
        }
      ]
    },
    {
      "cell_type": "code",
      "metadata": {
        "id": "EkU10KQLQ-IJ",
        "colab_type": "code",
        "outputId": "57372cec-9937-4f95-c29b-e7fadb4cf369",
        "colab": {
          "base_uri": "https://localhost:8080/",
          "height": 34
        }
      },
      "source": [
        "\n",
        "\n",
        "# import libraries for Making Model\n",
        "import tensorflow as tf\n",
        "from keras.models import Sequential\n",
        "from keras.layers import Dense, Activation, Conv2D, MaxPooling2D,Flatten,Dropout,MaxPool2D, BatchNormalization\n",
        "\n"
      ],
      "execution_count": 36,
      "outputs": [
        {
          "output_type": "stream",
          "text": [
            "Using TensorFlow backend.\n"
          ],
          "name": "stderr"
        }
      ]
    },
    {
      "cell_type": "code",
      "metadata": {
        "id": "UhGl9XzRRAt7",
        "colab_type": "code",
        "colab": {}
      },
      "source": [
        "model=tf.keras.models.Sequential([\n",
        "    \n",
        "    tf.keras.layers.Conv2D(64,(3,3), activation=tf.nn.relu, input_shape=(100,100,1)),\n",
        "    tf.keras.layers.MaxPooling2D(2,2),\n",
        "    \n",
        "    tf.keras.layers.Conv2D(128,(3,3), activation='relu'),\n",
        "    tf.keras.layers.MaxPooling2D(2,2),\n",
        "    \n",
        "    tf.keras.layers.Conv2D(256,(3,3), activation='relu'),\n",
        "    tf.keras.layers.MaxPooling2D(2,2),\n",
        "    \n",
        "    tf.keras.layers.Flatten(),\n",
        "    tf.keras.layers.Dense(256, activation='relu'),\n",
        "    tf.keras.layers.Dense(128, activation='relu'),\n",
        "    tf.keras.layers.Dense(64, activation='relu'),\n",
        "    tf.keras.layers.Dense(1, activation='sigmoid')\n",
        "    \n",
        "])"
      ],
      "execution_count": 0,
      "outputs": []
    },
    {
      "cell_type": "code",
      "metadata": {
        "id": "_vKK_7XRRCVD",
        "colab_type": "code",
        "outputId": "b89ed7d6-cf6e-42e9-c0c5-ba9d83d4ec9d",
        "colab": {
          "base_uri": "https://localhost:8080/",
          "height": 538
        }
      },
      "source": [
        "model.compile(loss='binary_crossentropy', \n",
        "              optimizer='adam', \n",
        "              metrics=['accuracy'])\n",
        "model.summary()"
      ],
      "execution_count": 81,
      "outputs": [
        {
          "output_type": "stream",
          "text": [
            "Model: \"sequential_3\"\n",
            "_________________________________________________________________\n",
            "Layer (type)                 Output Shape              Param #   \n",
            "=================================================================\n",
            "conv2d_8 (Conv2D)            (None, 98, 98, 64)        640       \n",
            "_________________________________________________________________\n",
            "max_pooling2d_8 (MaxPooling2 (None, 49, 49, 64)        0         \n",
            "_________________________________________________________________\n",
            "conv2d_9 (Conv2D)            (None, 47, 47, 128)       73856     \n",
            "_________________________________________________________________\n",
            "max_pooling2d_9 (MaxPooling2 (None, 23, 23, 128)       0         \n",
            "_________________________________________________________________\n",
            "conv2d_10 (Conv2D)           (None, 21, 21, 256)       295168    \n",
            "_________________________________________________________________\n",
            "max_pooling2d_10 (MaxPooling (None, 10, 10, 256)       0         \n",
            "_________________________________________________________________\n",
            "flatten_3 (Flatten)          (None, 25600)             0         \n",
            "_________________________________________________________________\n",
            "dense_11 (Dense)             (None, 256)               6553856   \n",
            "_________________________________________________________________\n",
            "dense_12 (Dense)             (None, 128)               32896     \n",
            "_________________________________________________________________\n",
            "dense_13 (Dense)             (None, 64)                8256      \n",
            "_________________________________________________________________\n",
            "dense_14 (Dense)             (None, 1)                 65        \n",
            "=================================================================\n",
            "Total params: 6,964,737\n",
            "Trainable params: 6,964,737\n",
            "Non-trainable params: 0\n",
            "_________________________________________________________________\n"
          ],
          "name": "stdout"
        }
      ]
    },
    {
      "cell_type": "code",
      "metadata": {
        "id": "afpNcCH2REC8",
        "colab_type": "code",
        "colab": {}
      },
      "source": [
        "\n",
        "class myCallback(tf.keras.callbacks.Callback):\n",
        "    def on_epoch_end(self, epoch, logs={}):\n",
        "        if(logs.get('val_accuracy')>0.97):\n",
        "            print(\" \\n Reached 99% + validation accuracy\")\n",
        "            self.model.stop_training=True\n",
        "callbacks = myCallback()"
      ],
      "execution_count": 0,
      "outputs": []
    },
    {
      "cell_type": "code",
      "metadata": {
        "id": "wmtxLmEYRHsU",
        "colab_type": "code",
        "outputId": "c403c5a4-4f49-4cf1-90ad-0cc84c7c783b",
        "colab": {
          "base_uri": "https://localhost:8080/",
          "height": 384
        }
      },
      "source": [
        "\n",
        "\n",
        "batch_size = 64\n",
        "num_epoch = 10\n",
        "#model training\n",
        "model_log = model.fit(trainX, trainY,\n",
        "          batch_size=batch_size,\n",
        "          epochs=num_epoch,\n",
        "          verbose=1,\n",
        "          validation_data=( testX,  testY)\n",
        "#                        callbacks=[callbacks]\n",
        "                     )\n",
        "\n"
      ],
      "execution_count": 83,
      "outputs": [
        {
          "output_type": "stream",
          "text": [
            "Epoch 1/10\n",
            "204/204 [==============================] - 9s 45ms/step - loss: 0.4340 - accuracy: 0.7933 - val_loss: 0.2699 - val_accuracy: 0.8934\n",
            "Epoch 2/10\n",
            "204/204 [==============================] - 9s 45ms/step - loss: 0.1762 - accuracy: 0.9383 - val_loss: 0.1602 - val_accuracy: 0.9427\n",
            "Epoch 3/10\n",
            "204/204 [==============================] - 9s 45ms/step - loss: 0.0966 - accuracy: 0.9697 - val_loss: 0.0944 - val_accuracy: 0.9721\n",
            "Epoch 4/10\n",
            "204/204 [==============================] - 9s 45ms/step - loss: 0.0801 - accuracy: 0.9746 - val_loss: 0.0736 - val_accuracy: 0.9752\n",
            "Epoch 5/10\n",
            "204/204 [==============================] - 9s 45ms/step - loss: 0.0564 - accuracy: 0.9825 - val_loss: 0.0590 - val_accuracy: 0.9810\n",
            "Epoch 6/10\n",
            "204/204 [==============================] - 9s 44ms/step - loss: 0.0608 - accuracy: 0.9798 - val_loss: 0.0536 - val_accuracy: 0.9813\n",
            "Epoch 7/10\n",
            "204/204 [==============================] - 9s 44ms/step - loss: 0.0402 - accuracy: 0.9858 - val_loss: 0.0740 - val_accuracy: 0.9776\n",
            "Epoch 8/10\n",
            "204/204 [==============================] - 9s 44ms/step - loss: 0.0314 - accuracy: 0.9897 - val_loss: 0.0593 - val_accuracy: 0.9835\n",
            "Epoch 9/10\n",
            "204/204 [==============================] - 9s 45ms/step - loss: 0.0269 - accuracy: 0.9915 - val_loss: 0.0455 - val_accuracy: 0.9862\n",
            "Epoch 10/10\n",
            "204/204 [==============================] - 9s 45ms/step - loss: 0.0201 - accuracy: 0.9923 - val_loss: 0.0482 - val_accuracy: 0.9853\n"
          ],
          "name": "stdout"
        }
      ]
    },
    {
      "cell_type": "code",
      "metadata": {
        "id": "8n64lpeARJdP",
        "colab_type": "code",
        "colab": {}
      },
      "source": [
        "pred=model.predict(testX)"
      ],
      "execution_count": 0,
      "outputs": []
    },
    {
      "cell_type": "code",
      "metadata": {
        "id": "KUnTm8muRMF-",
        "colab_type": "code",
        "colab": {}
      },
      "source": [
        "\n",
        "for i in range(len(pred)):\n",
        "    if pred[i]>0.5:\n",
        "        pred[i]=1\n",
        "    elif pred[i]<=0.5:\n",
        "        pred[i]=0"
      ],
      "execution_count": 0,
      "outputs": []
    },
    {
      "cell_type": "code",
      "metadata": {
        "id": "XjYXV45cRNjP",
        "colab_type": "code",
        "outputId": "3ccf4584-beda-4764-bb68-3d9264e7a158",
        "colab": {
          "base_uri": "https://localhost:8080/",
          "height": 52
        }
      },
      "source": [
        "\n",
        "true=0\n",
        "false=0\n",
        "\n",
        "for i in range(len(pred)):\n",
        "    if pred[i] == testY[i]:\n",
        "        true+=1\n",
        "    else:\n",
        "        false+=1\n",
        "        \n",
        "print(\"correct predicted :: \", true)\n",
        "print(\"false prediction :: \", false)"
      ],
      "execution_count": 86,
      "outputs": [
        {
          "output_type": "stream",
          "text": [
            "correct predicted ::  3216\n",
            "false prediction ::  48\n"
          ],
          "name": "stdout"
        }
      ]
    },
    {
      "cell_type": "code",
      "metadata": {
        "id": "cx-UJ5wERPNx",
        "colab_type": "code",
        "outputId": "dd3fae82-fb02-4b36-ab70-0b616d332a3e",
        "colab": {
          "base_uri": "https://localhost:8080/",
          "height": 52
        }
      },
      "source": [
        "attack=0\n",
        "benign=0\n",
        "for i in range(len(testY)):\n",
        "    if testY[i]==1:\n",
        "        attack+=1\n",
        "    else:\n",
        "        benign+=1\n",
        "\n",
        "print(\"Attack data in test set :: \", attack)\n",
        "print(\" Benign data in test set :: \", benign)"
      ],
      "execution_count": 87,
      "outputs": [
        {
          "output_type": "stream",
          "text": [
            "Attack data in test set ::  1615\n",
            " Benign data in test set ::  1649\n"
          ],
          "name": "stdout"
        }
      ]
    },
    {
      "cell_type": "code",
      "metadata": {
        "id": "E26RtMcjRRwK",
        "colab_type": "code",
        "colab": {}
      },
      "source": [
        "\n",
        "def accuracy_function(tp,tn,fp,fn):\n",
        "    \n",
        "    accuracy = (tp+tn) / (tp+tn+fp+fn)\n",
        "    \n",
        "    return accuracy"
      ],
      "execution_count": 0,
      "outputs": []
    },
    {
      "cell_type": "code",
      "metadata": {
        "id": "WvS47cm8RT-C",
        "colab_type": "code",
        "colab": {}
      },
      "source": [
        "def precision_function(tp,fp):\n",
        "    \n",
        "    precision = tp / (tp+fp)\n",
        "    \n",
        "    return precision"
      ],
      "execution_count": 0,
      "outputs": []
    },
    {
      "cell_type": "code",
      "metadata": {
        "id": "1ONuiy5IRVW3",
        "colab_type": "code",
        "colab": {}
      },
      "source": [
        "def recall_function(tp,fn):\n",
        "    \n",
        "    recall=tp / (tp+fn)\n",
        "    \n",
        "    return recall"
      ],
      "execution_count": 0,
      "outputs": []
    },
    {
      "cell_type": "code",
      "metadata": {
        "id": "XPGoziiVRWoN",
        "colab_type": "code",
        "colab": {}
      },
      "source": [
        "def confusion_matrix(truth,predicted):\n",
        "    \n",
        "    true_positive = 0\n",
        "    true_negative = 0\n",
        "    false_positive = 0\n",
        "    false_negative = 0\n",
        "    \n",
        "    for true,pred in zip(truth,predicted):\n",
        "        if true == 1:\n",
        "            if pred == true:\n",
        "                true_positive += 1\n",
        "            elif pred != true:\n",
        "                false_negative += 1\n",
        "\n",
        "        elif true == 0:\n",
        "            if pred == true:\n",
        "                true_negative += 1\n",
        "            elif pred != true:\n",
        "                false_positive += 1\n",
        "            \n",
        "    accuracy=accuracy_function(true_positive, true_negative, false_positive, false_negative)\n",
        "    precision=precision_function(true_positive, false_positive)\n",
        "    recall=recall_function(true_positive, false_negative)\n",
        "    \n",
        "    return (accuracy,\n",
        "            precision,\n",
        "           recall)"
      ],
      "execution_count": 0,
      "outputs": []
    },
    {
      "cell_type": "code",
      "metadata": {
        "id": "rRytssYzRYyB",
        "colab_type": "code",
        "colab": {}
      },
      "source": [
        "accuracy,precision,recall=confusion_matrix(testY,pred)"
      ],
      "execution_count": 0,
      "outputs": []
    },
    {
      "cell_type": "code",
      "metadata": {
        "id": "9fkQRl4KRaN1",
        "colab_type": "code",
        "outputId": "3aa4b1c9-baf7-4f9a-e9a7-856563342861",
        "colab": {
          "base_uri": "https://localhost:8080/",
          "height": 104
        }
      },
      "source": [
        "\n",
        "\n",
        "\n",
        "print(\" For CNN with batch size {3} \\n Accuracy : {0} \\n Precision : {1} \\n Recall : {2} \\n\".format(accuracy, precision, recall,batch_size))\n",
        "\n"
      ],
      "execution_count": 93,
      "outputs": [
        {
          "output_type": "stream",
          "text": [
            " For CNN with batch size 64 \n",
            " Accuracy : 0.9852941176470589 \n",
            " Precision : 0.9821538461538462 \n",
            " Recall : 0.9882352941176471 \n",
            "\n"
          ],
          "name": "stdout"
        }
      ]
    },
    {
      "cell_type": "code",
      "metadata": {
        "id": "Svw-OYZiRbnO",
        "colab_type": "code",
        "colab": {}
      },
      "source": [
        ""
      ],
      "execution_count": 0,
      "outputs": []
    }
  ]
}