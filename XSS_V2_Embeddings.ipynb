{
  "nbformat": 4,
  "nbformat_minor": 0,
  "metadata": {
    "colab": {
      "name": "XSS V2 Embeddings.ipynb",
      "provenance": [],
      "collapsed_sections": [],
      "authorship_tag": "ABX9TyNFBp2yWRvtjgJgaHehy+I2",
      "include_colab_link": true
    },
    "kernelspec": {
      "name": "python3",
      "display_name": "Python 3"
    },
    "accelerator": "GPU"
  },
  "cells": [
    {
      "cell_type": "markdown",
      "metadata": {
        "id": "view-in-github",
        "colab_type": "text"
      },
      "source": [
        "<a href=\"https://colab.research.google.com/github/SaqlainHussainShah/Cross-site-scripting-attacks/blob/master/XSS_V2_Embeddings.ipynb\" target=\"_parent\"><img src=\"https://colab.research.google.com/assets/colab-badge.svg\" alt=\"Open In Colab\"/></a>"
      ]
    },
    {
      "cell_type": "code",
      "metadata": {
        "id": "p9bvmQ-ERE-t",
        "colab_type": "code",
        "colab": {
          "base_uri": "https://localhost:8080/",
          "height": 121
        },
        "outputId": "28b2d4c1-26b1-42d9-aef4-d9048f9fe987"
      },
      "source": [
        "import numpy as np\n",
        "import pandas as pd\n",
        "import glob\n",
        "import time\n",
        "import pandas as pd\n",
        "# from xml.dom import minidom\n",
        "\n",
        "import nltk\n",
        "nltk.download('punkt')\n",
        "nltk.download('stopwords')\n",
        "nltk.download('wordnet')\n",
        "from nltk.corpus import stopwords \n",
        "\n",
        "import tensorflow as tf\n",
        "from tensorflow import keras\n",
        "import os\n",
        "import matplotlib.pyplot as plt"
      ],
      "execution_count": 1,
      "outputs": [
        {
          "output_type": "stream",
          "text": [
            "[nltk_data] Downloading package punkt to /root/nltk_data...\n",
            "[nltk_data]   Unzipping tokenizers/punkt.zip.\n",
            "[nltk_data] Downloading package stopwords to /root/nltk_data...\n",
            "[nltk_data]   Unzipping corpora/stopwords.zip.\n",
            "[nltk_data] Downloading package wordnet to /root/nltk_data...\n",
            "[nltk_data]   Unzipping corpora/wordnet.zip.\n"
          ],
          "name": "stdout"
        }
      ]
    },
    {
      "cell_type": "code",
      "metadata": {
        "id": "4kDOxF6rTGDH",
        "colab_type": "code",
        "colab": {}
      },
      "source": [
        "df = pd.read_csv('./XSS.csv', encoding='utf-8-sig')"
      ],
      "execution_count": 0,
      "outputs": []
    },
    {
      "cell_type": "code",
      "metadata": {
        "id": "hiwKkhgSTIOK",
        "colab_type": "code",
        "colab": {
          "base_uri": "https://localhost:8080/",
          "height": 191
        },
        "outputId": "16a79b1f-2579-4784-d4a3-3d90e41056fe"
      },
      "source": [
        "df.info()"
      ],
      "execution_count": 62,
      "outputs": [
        {
          "output_type": "stream",
          "text": [
            "<class 'pandas.core.frame.DataFrame'>\n",
            "RangeIndex: 16317 entries, 0 to 16316\n",
            "Data columns (total 3 columns):\n",
            " #   Column      Non-Null Count  Dtype \n",
            "---  ------      --------------  ----- \n",
            " 0   Unnamed: 0  16317 non-null  int64 \n",
            " 1   Sentence    16317 non-null  object\n",
            " 2   Label       16317 non-null  int64 \n",
            "dtypes: int64(2), object(1)\n",
            "memory usage: 382.6+ KB\n"
          ],
          "name": "stdout"
        }
      ]
    },
    {
      "cell_type": "code",
      "metadata": {
        "id": "LVpLeaBZTKNS",
        "colab_type": "code",
        "colab": {}
      },
      "source": [
        "df=df[df.columns[-2:]]  # Only get sentence and labels"
      ],
      "execution_count": 0,
      "outputs": []
    },
    {
      "cell_type": "code",
      "metadata": {
        "id": "OyEqz52VTMAC",
        "colab_type": "code",
        "colab": {
          "base_uri": "https://localhost:8080/",
          "height": 34
        },
        "outputId": "e812538d-35ba-400e-c161-4fa75e483f46"
      },
      "source": [
        "\n",
        "\n",
        "sentences=df['Sentence'].values\n",
        "sentences[1]\n",
        "\n"
      ],
      "execution_count": 64,
      "outputs": [
        {
          "output_type": "execute_result",
          "data": {
            "text/plain": [
              "'<abbr oncut=\"alert(1)\" contenteditable>test</abbr>'"
            ]
          },
          "metadata": {
            "tags": []
          },
          "execution_count": 64
        }
      ]
    },
    {
      "cell_type": "code",
      "metadata": {
        "id": "HqHke_82TSV9",
        "colab_type": "code",
        "colab": {}
      },
      "source": [
        "labels = df['Label'].values"
      ],
      "execution_count": 0,
      "outputs": []
    },
    {
      "cell_type": "code",
      "metadata": {
        "id": "bM3eqidbTmMQ",
        "colab_type": "code",
        "colab": {
          "base_uri": "https://localhost:8080/",
          "height": 489
        },
        "outputId": "a125d895-b7c5-4b31-d8dd-5eba44aaeefa"
      },
      "source": [
        "sentences[:30]"
      ],
      "execution_count": 66,
      "outputs": [
        {
          "output_type": "execute_result",
          "data": {
            "text/plain": [
              "array([\"['canfranc' 8 'norm' 'norm']\",\n",
              "       '<abbr oncut=\"alert(1)\" contenteditable>test</abbr>',\n",
              "       '<picture onmouseover=\"alert(1)\">test</picture>',\n",
              "       '<div role=\"navigation\" class=\"navbox\" aria-labelledby=\"Emerging_technologies_in_information_and_communications\" style=\"padding:3px\"><table class=\"nowraplinks hlist mw-collapsible autocollapse navbox-inner\" style=\"border-spacing:0;background:transparent;color:inherit\"><tbody><tr><th scope=\"col\" class=\"navbox-title\" colspan=\"2\" style=\"text-align: center;\">',\n",
              "       '<li id=\"cite_note-FOOTNOTEDomingos2015210-207\"><span class=\"mw-cite-backlink\"><b><a href=\"#cite_ref-FOOTNOTEDomingos2015210_207-0\">^ </a> </b> ',\n",
              "       '<li><cite id=\"CITEREFMoravec1988\" class=\"citation book\"><a href=\"/wiki/Hans_Moravec\" title=\"Hans Moravec\">Moravec, Hans </a> (1988). <span class=\"cs1-lock-registration\" title=\"Free registration required\"><a rel=\"nofollow\" class=\"external text\" href=\"https://archive.org/details/mindchildrenfutu00mora\"><i>Mind Children </i> </a> ',\n",
              "       '<dt><a class=\"reference internal\" href=\"topics/feed-exports.html\"><span class=\"doc\">Feed exports',\n",
              "       \"['61z' 3 'norm' 'norm']\", \"['rurick5' 7 'norm' 'norm']\", ' </li>',\n",
              "       '<menu id=x tabindex=1 onfocusin=alert(1)></menu>',\n",
              "       '<li id=\"cite_note-48\"><span class=\"mw-cite-backlink\"><b><a href=\"#cite_ref-48\">^ </a> </b> ',\n",
              "       '<div draggable=\"true\" contenteditable>drag me</div><noscript ondrop=alert(1) contenteditable>drop here</noscript>',\n",
              "       '<ol><li>Is <a href=\"/wiki/Artificial_general_intelligence\" title=\"Artificial general intelligence\">artificial general intelligence </a> possible? Can a machine solve any problem that a human being can solve using intelligence? Or are there hard limits to what a machine can accomplish? </li>',\n",
              "       '\\t </span> <span class=\"reference-text\"><cite class=\"citation journal\">Hinton, G.; Deng, L.; Yu, D.; Dahl, G.; Mohamed, A.; Jaitly, N.; Senior, A.; Vanhoucke, V.; Nguyen, P.; Sainath, T.; Kingsbury, B. (2012). \"Deep Neural Networks for Acoustic Modeling in Speech Recognition – The shared views of four research groups\". <i>IEEE Signal Processing Magazine </i>. <b>29 </b> (6): 82–97. <a href=\"/wiki/Digital_object_identifier\" title=\"Digital object identifier\">doi </a>:<a rel=\"nofollow\" class=\"external text\" href=\"https://doi.org/10.1109%2Fmsp.2012.2205597\">10.1109/msp.2012.2205597 </a>. </cite><span title=\"ctx_ver=Z39.88-2004&amp;rft_val_fmt=info%3Aofi%2Ffmt%3Akev%3Amtx%3Ajournal&amp;rft.genre=article&amp;rft.jtitle=IEEE+Signal+Processing+Magazine&amp;rft.atitle=Deep+Neural+Networks+for+Acoustic+Modeling+in+Speech+Recognition+%E2%80%93+The+shared+views+of+four+research+groups&amp;rft.volume=29&amp;rft.issue=6&amp;rft.pages=82-97&amp;rft.date=2012&amp;rft_id=info%3Adoi%2F10.1109%2Fmsp.2012.2205597&amp;rft.aulast=Hinton&amp;rft.aufirst=G.&amp;rft.au=Deng%2C+L.&amp;rft.au=Yu%2C+D.&amp;rft.au=Dahl%2C+G.&amp;rft.au=Mohamed%2C+A.&amp;rft.au=Jaitly%2C+N.&amp;rft.au=Senior%2C+A.&amp;rft.au=Vanhoucke%2C+V.&amp;rft.au=Nguyen%2C+P.&amp;rft.au=Sainath%2C+T.&amp;rft.au=Kingsbury%2C+B.&amp;rfr_id=info%3Asid%2Fen.wikipedia.org%3AArtificial+intelligence\" class=\"Z3988\"> ',\n",
              "       '\\t </span> </a> </li>', '</div>',\n",
              "       '<q onblur=alert(1) tabindex=1 id=x></q><input autofocus>',\n",
              "       \"['15423399j' 9 'norm' 'norm']\",\n",
              "       '<table oncopy=\"alert(1)\" contenteditable>test</table>',\n",
              "       '<li><a href=\"/wiki/OpenAI\" title=\"OpenAI\">OpenAI </a> </li> </ul>',\n",
              "       '<style>@keyframes x{}</style><wbr style=\"animation-name:x\" onanimationstart=\"alert(1)\"></wbr>',\n",
              "       '<p>AI has developed many tools to solve the most difficult problems in <a href=\"/wiki/Computer_science\" title=\"Computer science\">computer science </a>. A few of the most general of these methods are discussed below.',\n",
              "       '<style>:target {color: red;}</style><del id=x style=\"transition:color 10s\" ontransitioncancel=alert(1)></del>',\n",
              "       '\\t </span>', ' ', '     </li>',\n",
              "       \"['7745667684469889' 16 'norm' 'norm']\",\n",
              "       '<li draggable=\"true\" ondragleave=\"alert(1)\">test</li>',\n",
              "       '<li id=\"cite_note-282\"><span class=\"mw-cite-backlink\"><b><a href=\"#cite_ref-282\">^ </a> </b> '],\n",
              "      dtype=object)"
            ]
          },
          "metadata": {
            "tags": []
          },
          "execution_count": 66
        }
      ]
    },
    {
      "cell_type": "code",
      "metadata": {
        "id": "6XcX6A5FTiON",
        "colab_type": "code",
        "colab": {}
      },
      "source": [
        "\n",
        "\n",
        "def preprocess_xss_data(data):\n",
        "    \n",
        "    for i in range(len(data)):\n",
        "        \n",
        "        data[i]=data[i].replace('<', ' lessthan ')\n",
        "        data[i]=data[i].replace('>', ' greaterthan ')\n",
        "        data[i]=data[i].replace('/', ' forwardslash ')\n",
        "        data[i]=data[i].replace('(', ' roundbracketstart ')\n",
        "        data[i]=data[i].replace(')', ' roundbracketend ')\n",
        "        data[i]=data[i].replace('=', ' = ')\n",
        "    \n",
        "    return data\n",
        "\n"
      ],
      "execution_count": 0,
      "outputs": []
    },
    {
      "cell_type": "code",
      "metadata": {
        "id": "7XwExD17UK2y",
        "colab_type": "code",
        "colab": {}
      },
      "source": [
        "sentences = preprocess_xss_data(sentences)"
      ],
      "execution_count": 0,
      "outputs": []
    },
    {
      "cell_type": "code",
      "metadata": {
        "id": "hdFaVhxwUS5u",
        "colab_type": "code",
        "colab": {
          "base_uri": "https://localhost:8080/",
          "height": 34
        },
        "outputId": "03c31d8f-d0e4-4af3-8071-64e75c564f1a"
      },
      "source": [
        "len(sentences)"
      ],
      "execution_count": 69,
      "outputs": [
        {
          "output_type": "execute_result",
          "data": {
            "text/plain": [
              "16317"
            ]
          },
          "metadata": {
            "tags": []
          },
          "execution_count": 69
        }
      ]
    },
    {
      "cell_type": "code",
      "metadata": {
        "id": "g4pdZ8LCUV7z",
        "colab_type": "code",
        "colab": {
          "base_uri": "https://localhost:8080/",
          "height": 541
        },
        "outputId": "2880502d-4d1b-4e0b-b310-a0fe43c2085c"
      },
      "source": [
        "sentences[:30]"
      ],
      "execution_count": 70,
      "outputs": [
        {
          "output_type": "execute_result",
          "data": {
            "text/plain": [
              "array([\"['canfranc' 8 'norm' 'norm']\",\n",
              "       ' lessthan abbr oncut = \"alert roundbracketstart 1 roundbracketend \" contenteditable greaterthan test lessthan  forwardslash abbr greaterthan ',\n",
              "       ' lessthan picture onmouseover = \"alert roundbracketstart 1 roundbracketend \" greaterthan test lessthan  forwardslash picture greaterthan ',\n",
              "       ' lessthan div role = \"navigation\" class = \"navbox\" aria-labelledby = \"Emerging_technologies_in_information_and_communications\" style = \"padding:3px\" greaterthan  lessthan table class = \"nowraplinks hlist mw-collapsible autocollapse navbox-inner\" style = \"border-spacing:0;background:transparent;color:inherit\" greaterthan  lessthan tbody greaterthan  lessthan tr greaterthan  lessthan th scope = \"col\" class = \"navbox-title\" colspan = \"2\" style = \"text-align: center;\" greaterthan ',\n",
              "       ' lessthan li id = \"cite_note-FOOTNOTEDomingos2015210-207\" greaterthan  lessthan span class = \"mw-cite-backlink\" greaterthan  lessthan b greaterthan  lessthan a href = \"#cite_ref-FOOTNOTEDomingos2015210_207-0\" greaterthan ^  lessthan  forwardslash a greaterthan   lessthan  forwardslash b greaterthan  ',\n",
              "       ' lessthan li greaterthan  lessthan cite id = \"CITEREFMoravec1988\" class = \"citation book\" greaterthan  lessthan a href = \" forwardslash wiki forwardslash Hans_Moravec\" title = \"Hans Moravec\" greaterthan Moravec, Hans  lessthan  forwardslash a greaterthan   roundbracketstart 1988 roundbracketend .  lessthan span class = \"cs1-lock-registration\" title = \"Free registration required\" greaterthan  lessthan a rel = \"nofollow\" class = \"external text\" href = \"https: forwardslash  forwardslash archive.org forwardslash details forwardslash mindchildrenfutu00mora\" greaterthan  lessthan i greaterthan Mind Children  lessthan  forwardslash i greaterthan   lessthan  forwardslash a greaterthan  ',\n",
              "       ' lessthan dt greaterthan  lessthan a class = \"reference internal\" href = \"topics forwardslash feed-exports.html\" greaterthan  lessthan span class = \"doc\" greaterthan Feed exports',\n",
              "       \"['61z' 3 'norm' 'norm']\", \"['rurick5' 7 'norm' 'norm']\",\n",
              "       '  lessthan  forwardslash li greaterthan ',\n",
              "       ' lessthan menu id = x tabindex = 1 onfocusin = alert roundbracketstart 1 roundbracketend  greaterthan  lessthan  forwardslash menu greaterthan ',\n",
              "       ' lessthan li id = \"cite_note-48\" greaterthan  lessthan span class = \"mw-cite-backlink\" greaterthan  lessthan b greaterthan  lessthan a href = \"#cite_ref-48\" greaterthan ^  lessthan  forwardslash a greaterthan   lessthan  forwardslash b greaterthan  ',\n",
              "       ' lessthan div draggable = \"true\" contenteditable greaterthan drag me lessthan  forwardslash div greaterthan  lessthan noscript ondrop = alert roundbracketstart 1 roundbracketend  contenteditable greaterthan drop here lessthan  forwardslash noscript greaterthan ',\n",
              "       ' lessthan ol greaterthan  lessthan li greaterthan Is  lessthan a href = \" forwardslash wiki forwardslash Artificial_general_intelligence\" title = \"Artificial general intelligence\" greaterthan artificial general intelligence  lessthan  forwardslash a greaterthan  possible? Can a machine solve any problem that a human being can solve using intelligence? Or are there hard limits to what a machine can accomplish?  lessthan  forwardslash li greaterthan ',\n",
              "       '\\t  lessthan  forwardslash span greaterthan   lessthan span class = \"reference-text\" greaterthan  lessthan cite class = \"citation journal\" greaterthan Hinton, G.; Deng, L.; Yu, D.; Dahl, G.; Mohamed, A.; Jaitly, N.; Senior, A.; Vanhoucke, V.; Nguyen, P.; Sainath, T.; Kingsbury, B.  roundbracketstart 2012 roundbracketend . \"Deep Neural Networks for Acoustic Modeling in Speech Recognition – The shared views of four research groups\".  lessthan i greaterthan IEEE Signal Processing Magazine  lessthan  forwardslash i greaterthan .  lessthan b greaterthan 29  lessthan  forwardslash b greaterthan   roundbracketstart 6 roundbracketend : 82–97.  lessthan a href = \" forwardslash wiki forwardslash Digital_object_identifier\" title = \"Digital object identifier\" greaterthan doi  lessthan  forwardslash a greaterthan : lessthan a rel = \"nofollow\" class = \"external text\" href = \"https: forwardslash  forwardslash doi.org forwardslash 10.1109%2Fmsp.2012.2205597\" greaterthan 10.1109 forwardslash msp.2012.2205597  lessthan  forwardslash a greaterthan .  lessthan  forwardslash cite greaterthan  lessthan span title = \"ctx_ver = Z39.88-2004&amp;rft_val_fmt = info%3Aofi%2Ffmt%3Akev%3Amtx%3Ajournal&amp;rft.genre = article&amp;rft.jtitle = IEEE+Signal+Processing+Magazine&amp;rft.atitle = Deep+Neural+Networks+for+Acoustic+Modeling+in+Speech+Recognition+%E2%80%93+The+shared+views+of+four+research+groups&amp;rft.volume = 29&amp;rft.issue = 6&amp;rft.pages = 82-97&amp;rft.date = 2012&amp;rft_id = info%3Adoi%2F10.1109%2Fmsp.2012.2205597&amp;rft.aulast = Hinton&amp;rft.aufirst = G.&amp;rft.au = Deng%2C+L.&amp;rft.au = Yu%2C+D.&amp;rft.au = Dahl%2C+G.&amp;rft.au = Mohamed%2C+A.&amp;rft.au = Jaitly%2C+N.&amp;rft.au = Senior%2C+A.&amp;rft.au = Vanhoucke%2C+V.&amp;rft.au = Nguyen%2C+P.&amp;rft.au = Sainath%2C+T.&amp;rft.au = Kingsbury%2C+B.&amp;rfr_id = info%3Asid%2Fen.wikipedia.org%3AArtificial+intelligence\" class = \"Z3988\" greaterthan  ',\n",
              "       '\\t  lessthan  forwardslash span greaterthan   lessthan  forwardslash a greaterthan   lessthan  forwardslash li greaterthan ',\n",
              "       ' lessthan  forwardslash div greaterthan ',\n",
              "       ' lessthan q onblur = alert roundbracketstart 1 roundbracketend  tabindex = 1 id = x greaterthan  lessthan  forwardslash q greaterthan  lessthan input autofocus greaterthan ',\n",
              "       \"['15423399j' 9 'norm' 'norm']\",\n",
              "       ' lessthan table oncopy = \"alert roundbracketstart 1 roundbracketend \" contenteditable greaterthan test lessthan  forwardslash table greaterthan ',\n",
              "       ' lessthan li greaterthan  lessthan a href = \" forwardslash wiki forwardslash OpenAI\" title = \"OpenAI\" greaterthan OpenAI  lessthan  forwardslash a greaterthan   lessthan  forwardslash li greaterthan   lessthan  forwardslash ul greaterthan ',\n",
              "       ' lessthan style greaterthan @keyframes x{} lessthan  forwardslash style greaterthan  lessthan wbr style = \"animation-name:x\" onanimationstart = \"alert roundbracketstart 1 roundbracketend \" greaterthan  lessthan  forwardslash wbr greaterthan ',\n",
              "       ' lessthan p greaterthan AI has developed many tools to solve the most difficult problems in  lessthan a href = \" forwardslash wiki forwardslash Computer_science\" title = \"Computer science\" greaterthan computer science  lessthan  forwardslash a greaterthan . A few of the most general of these methods are discussed below.',\n",
              "       ' lessthan style greaterthan :target {color: red;} lessthan  forwardslash style greaterthan  lessthan del id = x style = \"transition:color 10s\" ontransitioncancel = alert roundbracketstart 1 roundbracketend  greaterthan  lessthan  forwardslash del greaterthan ',\n",
              "       '\\t  lessthan  forwardslash span greaterthan ', ' ',\n",
              "       '      lessthan  forwardslash li greaterthan ',\n",
              "       \"['7745667684469889' 16 'norm' 'norm']\",\n",
              "       ' lessthan li draggable = \"true\" ondragleave = \"alert roundbracketstart 1 roundbracketend \" greaterthan test lessthan  forwardslash li greaterthan ',\n",
              "       ' lessthan li id = \"cite_note-282\" greaterthan  lessthan span class = \"mw-cite-backlink\" greaterthan  lessthan b greaterthan  lessthan a href = \"#cite_ref-282\" greaterthan ^  lessthan  forwardslash a greaterthan   lessthan  forwardslash b greaterthan  '],\n",
              "      dtype=object)"
            ]
          },
          "metadata": {
            "tags": []
          },
          "execution_count": 70
        }
      ]
    },
    {
      "cell_type": "code",
      "metadata": {
        "id": "VGfqHEtUVoNH",
        "colab_type": "code",
        "colab": {
          "base_uri": "https://localhost:8080/",
          "height": 206
        },
        "outputId": "273d51a6-a958-4513-b0d3-0d504a0fa379"
      },
      "source": [
        "preprocessed_df.head()"
      ],
      "execution_count": 71,
      "outputs": [
        {
          "output_type": "execute_result",
          "data": {
            "text/html": [
              "<div>\n",
              "<style scoped>\n",
              "    .dataframe tbody tr th:only-of-type {\n",
              "        vertical-align: middle;\n",
              "    }\n",
              "\n",
              "    .dataframe tbody tr th {\n",
              "        vertical-align: top;\n",
              "    }\n",
              "\n",
              "    .dataframe thead th {\n",
              "        text-align: right;\n",
              "    }\n",
              "</style>\n",
              "<table border=\"1\" class=\"dataframe\">\n",
              "  <thead>\n",
              "    <tr style=\"text-align: right;\">\n",
              "      <th></th>\n",
              "      <th>Sentences</th>\n",
              "      <th>Label</th>\n",
              "    </tr>\n",
              "  </thead>\n",
              "  <tbody>\n",
              "    <tr>\n",
              "      <th>0</th>\n",
              "      <td>['canfranc' 8 'norm' 'norm']</td>\n",
              "      <td>0</td>\n",
              "    </tr>\n",
              "    <tr>\n",
              "      <th>1</th>\n",
              "      <td>lessthan abbr oncut = \"alert roundbracketstar...</td>\n",
              "      <td>1</td>\n",
              "    </tr>\n",
              "    <tr>\n",
              "      <th>2</th>\n",
              "      <td>lessthan picture onmouseover = \"alert roundbr...</td>\n",
              "      <td>1</td>\n",
              "    </tr>\n",
              "    <tr>\n",
              "      <th>3</th>\n",
              "      <td>lessthan div role = \"navigation\" class = \"nav...</td>\n",
              "      <td>0</td>\n",
              "    </tr>\n",
              "    <tr>\n",
              "      <th>4</th>\n",
              "      <td>lessthan li id = \"cite_note-FOOTNOTEDomingos2...</td>\n",
              "      <td>0</td>\n",
              "    </tr>\n",
              "  </tbody>\n",
              "</table>\n",
              "</div>"
            ],
            "text/plain": [
              "                                           Sentences  Label\n",
              "0                       ['canfranc' 8 'norm' 'norm']      0\n",
              "1   lessthan abbr oncut = \"alert roundbracketstar...      1\n",
              "2   lessthan picture onmouseover = \"alert roundbr...      1\n",
              "3   lessthan div role = \"navigation\" class = \"nav...      0\n",
              "4   lessthan li id = \"cite_note-FOOTNOTEDomingos2...      0"
            ]
          },
          "metadata": {
            "tags": []
          },
          "execution_count": 71
        }
      ]
    },
    {
      "cell_type": "code",
      "metadata": {
        "id": "_t5ljkT2Vqtj",
        "colab_type": "code",
        "colab": {
          "base_uri": "https://localhost:8080/",
          "height": 206
        },
        "outputId": "8431dba1-8fbe-44aa-9945-434f5caa5972"
      },
      "source": [
        "df.head()"
      ],
      "execution_count": 72,
      "outputs": [
        {
          "output_type": "execute_result",
          "data": {
            "text/html": [
              "<div>\n",
              "<style scoped>\n",
              "    .dataframe tbody tr th:only-of-type {\n",
              "        vertical-align: middle;\n",
              "    }\n",
              "\n",
              "    .dataframe tbody tr th {\n",
              "        vertical-align: top;\n",
              "    }\n",
              "\n",
              "    .dataframe thead th {\n",
              "        text-align: right;\n",
              "    }\n",
              "</style>\n",
              "<table border=\"1\" class=\"dataframe\">\n",
              "  <thead>\n",
              "    <tr style=\"text-align: right;\">\n",
              "      <th></th>\n",
              "      <th>Sentence</th>\n",
              "      <th>Label</th>\n",
              "    </tr>\n",
              "  </thead>\n",
              "  <tbody>\n",
              "    <tr>\n",
              "      <th>0</th>\n",
              "      <td>['canfranc' 8 'norm' 'norm']</td>\n",
              "      <td>0</td>\n",
              "    </tr>\n",
              "    <tr>\n",
              "      <th>1</th>\n",
              "      <td>lessthan abbr oncut = \"alert roundbracketstar...</td>\n",
              "      <td>1</td>\n",
              "    </tr>\n",
              "    <tr>\n",
              "      <th>2</th>\n",
              "      <td>lessthan picture onmouseover = \"alert roundbr...</td>\n",
              "      <td>1</td>\n",
              "    </tr>\n",
              "    <tr>\n",
              "      <th>3</th>\n",
              "      <td>lessthan div role = \"navigation\" class = \"nav...</td>\n",
              "      <td>0</td>\n",
              "    </tr>\n",
              "    <tr>\n",
              "      <th>4</th>\n",
              "      <td>lessthan li id = \"cite_note-FOOTNOTEDomingos2...</td>\n",
              "      <td>0</td>\n",
              "    </tr>\n",
              "  </tbody>\n",
              "</table>\n",
              "</div>"
            ],
            "text/plain": [
              "                                            Sentence  Label\n",
              "0                       ['canfranc' 8 'norm' 'norm']      0\n",
              "1   lessthan abbr oncut = \"alert roundbracketstar...      1\n",
              "2   lessthan picture onmouseover = \"alert roundbr...      1\n",
              "3   lessthan div role = \"navigation\" class = \"nav...      0\n",
              "4   lessthan li id = \"cite_note-FOOTNOTEDomingos2...      0"
            ]
          },
          "metadata": {
            "tags": []
          },
          "execution_count": 72
        }
      ]
    },
    {
      "cell_type": "code",
      "metadata": {
        "id": "tX6Kmh7-WUHM",
        "colab_type": "code",
        "colab": {}
      },
      "source": [
        "df.dropna(inplace=True)"
      ],
      "execution_count": 0,
      "outputs": []
    },
    {
      "cell_type": "code",
      "metadata": {
        "id": "H2VSJJGNWpdu",
        "colab_type": "code",
        "colab": {
          "base_uri": "https://localhost:8080/",
          "height": 173
        },
        "outputId": "e2dba443-a864-41ce-f1e5-76e0df20001d"
      },
      "source": [
        "df.info()"
      ],
      "execution_count": 74,
      "outputs": [
        {
          "output_type": "stream",
          "text": [
            "<class 'pandas.core.frame.DataFrame'>\n",
            "Int64Index: 16317 entries, 0 to 16316\n",
            "Data columns (total 2 columns):\n",
            " #   Column    Non-Null Count  Dtype \n",
            "---  ------    --------------  ----- \n",
            " 0   Sentence  16317 non-null  object\n",
            " 1   Label     16317 non-null  int64 \n",
            "dtypes: int64(1), object(1)\n",
            "memory usage: 382.4+ KB\n"
          ],
          "name": "stdout"
        }
      ]
    },
    {
      "cell_type": "code",
      "metadata": {
        "id": "bvmJ8LqUWqyf",
        "colab_type": "code",
        "colab": {}
      },
      "source": [
        "\n",
        "\n",
        "oov_tok = \"<OOV>\"\n",
        "\n",
        "\n",
        "from tensorflow.keras.preprocessing.text import Tokenizer\n",
        "from tensorflow.keras.preprocessing.sequence import pad_sequences\n",
        "\n",
        "tokenizer = Tokenizer(oov_token=oov_tok, lower=False,split=' ')\n",
        "\n",
        "# tokenizer = Tokenizer()\n",
        "tokenizer.fit_on_texts(sentences)\n",
        "\n"
      ],
      "execution_count": 0,
      "outputs": []
    },
    {
      "cell_type": "code",
      "metadata": {
        "id": "ncqXkkh0W_Df",
        "colab_type": "code",
        "colab": {}
      },
      "source": [
        "total_words = len(tokenizer.word_index) + 1"
      ],
      "execution_count": 0,
      "outputs": []
    },
    {
      "cell_type": "code",
      "metadata": {
        "id": "SR9tdSE3XBQo",
        "colab_type": "code",
        "colab": {
          "base_uri": "https://localhost:8080/",
          "height": 34
        },
        "outputId": "2321a25b-d600-4651-d80b-f41286b7884b"
      },
      "source": [
        "total_words\n"
      ],
      "execution_count": 77,
      "outputs": [
        {
          "output_type": "execute_result",
          "data": {
            "text/plain": [
              "13773"
            ]
          },
          "metadata": {
            "tags": []
          },
          "execution_count": 77
        }
      ]
    },
    {
      "cell_type": "code",
      "metadata": {
        "id": "b3V1sICgXDGW",
        "colab_type": "code",
        "colab": {}
      },
      "source": [
        "import numpy as np"
      ],
      "execution_count": 0,
      "outputs": []
    },
    {
      "cell_type": "code",
      "metadata": {
        "id": "WY0yrLPGXE45",
        "colab_type": "code",
        "colab": {}
      },
      "source": [
        "input_sequences = []\n",
        "for line in sentences:\n",
        "    token_list = tokenizer.texts_to_sequences([line])[0]\n",
        "    for i in range(1, len(token_list)):\n",
        "        n_gram_sequence = token_list[:i+1]\n",
        "    input_sequences.append(n_gram_sequence)"
      ],
      "execution_count": 0,
      "outputs": []
    },
    {
      "cell_type": "code",
      "metadata": {
        "id": "blKMoGW3XGm4",
        "colab_type": "code",
        "colab": {
          "base_uri": "https://localhost:8080/",
          "height": 34
        },
        "outputId": "226da762-931a-408f-a9fd-1897c2117f81"
      },
      "source": [
        "len(sentences)"
      ],
      "execution_count": 80,
      "outputs": [
        {
          "output_type": "execute_result",
          "data": {
            "text/plain": [
              "16317"
            ]
          },
          "metadata": {
            "tags": []
          },
          "execution_count": 80
        }
      ]
    },
    {
      "cell_type": "code",
      "metadata": {
        "id": "ZF7-Gl9oXIUT",
        "colab_type": "code",
        "colab": {
          "base_uri": "https://localhost:8080/",
          "height": 34
        },
        "outputId": "03e92ee8-850b-49e7-e1c0-dbb539133c21"
      },
      "source": [
        "len(input_sequences)"
      ],
      "execution_count": 81,
      "outputs": [
        {
          "output_type": "execute_result",
          "data": {
            "text/plain": [
              "16317"
            ]
          },
          "metadata": {
            "tags": []
          },
          "execution_count": 81
        }
      ]
    },
    {
      "cell_type": "code",
      "metadata": {
        "id": "BptNTn6IXKQ-",
        "colab_type": "code",
        "colab": {}
      },
      "source": [
        "from tensorflow.keras.preprocessing.sequence import pad_sequences"
      ],
      "execution_count": 0,
      "outputs": []
    },
    {
      "cell_type": "code",
      "metadata": {
        "id": "jX6jMXRgXMa2",
        "colab_type": "code",
        "colab": {}
      },
      "source": [
        "max_sequence_len = max([len(x) for x in input_sequences])\n",
        "input_sequences = np.array(pad_sequences(input_sequences, maxlen=max_sequence_len, padding='pre'))"
      ],
      "execution_count": 0,
      "outputs": []
    },
    {
      "cell_type": "code",
      "metadata": {
        "id": "5YkvRdb6XNpx",
        "colab_type": "code",
        "colab": {}
      },
      "source": [
        "\n",
        "\n",
        "from tensorflow.keras.preprocessing.sequence import pad_sequences\n",
        "from tensorflow.keras.layers import Embedding, LSTM, Dense, Dropout, Bidirectional\n",
        "from tensorflow.keras.preprocessing.text import Tokenizer\n",
        "from tensorflow.keras.models import Sequential\n",
        "from tensorflow.keras.optimizers import Adam\n",
        "from tensorflow.keras import regularizers\n",
        "\n"
      ],
      "execution_count": 0,
      "outputs": []
    },
    {
      "cell_type": "code",
      "metadata": {
        "id": "LSWbydnHXQQk",
        "colab_type": "code",
        "colab": {
          "base_uri": "https://localhost:8080/",
          "height": 347
        },
        "outputId": "9cf34cfa-13ae-4f59-d136-0efbefffe8b1"
      },
      "source": [
        "model = Sequential()\n",
        "model.add(Embedding(total_words, 100, input_length=max_sequence_len)) # Your Embedding Layer)\n",
        "model.add(Bidirectional(LSTM(150, return_sequences=True)))# An LSTM Layer)\n",
        "# model.add(Dropout(0.2)) # A dropout layer)\n",
        "model.add(LSTM(100))# Another LSTM Layer)\n",
        "model.add(Dense(512, activation='relu', kernel_regularizer=regularizers.l2(0.01)))# A Dense Layer including regularizers)\n",
        "model.add(Dense(1,activation='sigmoid'))# A Dense Layer)\n",
        "# Pick an optimizer\n",
        "model.compile(loss='binary_crossentropy', optimizer='adam', metrics=['accuracy'])# Pick a loss function and an optimizer)\n",
        "print(model.summary())"
      ],
      "execution_count": 89,
      "outputs": [
        {
          "output_type": "stream",
          "text": [
            "Model: \"sequential_1\"\n",
            "_________________________________________________________________\n",
            "Layer (type)                 Output Shape              Param #   \n",
            "=================================================================\n",
            "embedding_1 (Embedding)      (None, 1229, 100)         1377300   \n",
            "_________________________________________________________________\n",
            "bidirectional_1 (Bidirection (None, 1229, 300)         301200    \n",
            "_________________________________________________________________\n",
            "lstm_3 (LSTM)                (None, 100)               160400    \n",
            "_________________________________________________________________\n",
            "dense_2 (Dense)              (None, 512)               51712     \n",
            "_________________________________________________________________\n",
            "dense_3 (Dense)              (None, 1)                 513       \n",
            "=================================================================\n",
            "Total params: 1,891,125\n",
            "Trainable params: 1,891,125\n",
            "Non-trainable params: 0\n",
            "_________________________________________________________________\n",
            "None\n"
          ],
          "name": "stdout"
        }
      ]
    },
    {
      "cell_type": "code",
      "metadata": {
        "id": "T0mXoND4XSBc",
        "colab_type": "code",
        "colab": {}
      },
      "source": [
        "input_sequences = np.array(input_sequences,dtype='float64')\n",
        "labels = np.array(labels, dtype ='float64')"
      ],
      "execution_count": 0,
      "outputs": []
    },
    {
      "cell_type": "code",
      "metadata": {
        "id": "rhNHm3i8XV3D",
        "colab_type": "code",
        "colab": {}
      },
      "source": [
        "from sklearn.model_selection import train_test_split"
      ],
      "execution_count": 0,
      "outputs": []
    },
    {
      "cell_type": "code",
      "metadata": {
        "id": "ARKIKEo4XXcV",
        "colab_type": "code",
        "colab": {}
      },
      "source": [
        "X_train, X_test, y_train, y_test = train_test_split(input_sequences, labels, test_size=0.2, random_state=42)"
      ],
      "execution_count": 0,
      "outputs": []
    },
    {
      "cell_type": "code",
      "metadata": {
        "id": "fbbQR7qNYRuK",
        "colab_type": "code",
        "colab": {
          "base_uri": "https://localhost:8080/",
          "height": 384
        },
        "outputId": "ae6a1658-1ef5-41e4-d49a-45875298070e"
      },
      "source": [
        "classifier_nn = model.fit(X_train,y_train,\n",
        "                    epochs=10,\n",
        "                    verbose=True,\n",
        "                    validation_data=(X_test, y_test),\n",
        "                    batch_size=64)"
      ],
      "execution_count": 93,
      "outputs": [
        {
          "output_type": "stream",
          "text": [
            "Epoch 1/10\n",
            "204/204 [==============================] - 65s 318ms/step - loss: 0.3902 - accuracy: 0.9689 - val_loss: 0.0558 - val_accuracy: 0.9917\n",
            "Epoch 2/10\n",
            "204/204 [==============================] - 64s 313ms/step - loss: 0.0403 - accuracy: 0.9935 - val_loss: 0.0421 - val_accuracy: 0.9936\n",
            "Epoch 3/10\n",
            "204/204 [==============================] - 64s 313ms/step - loss: 0.0362 - accuracy: 0.9947 - val_loss: 0.0487 - val_accuracy: 0.9914\n",
            "Epoch 4/10\n",
            "204/204 [==============================] - 64s 313ms/step - loss: 0.0335 - accuracy: 0.9948 - val_loss: 0.0462 - val_accuracy: 0.9933\n",
            "Epoch 5/10\n",
            "204/204 [==============================] - 63s 308ms/step - loss: 0.0315 - accuracy: 0.9953 - val_loss: 0.0377 - val_accuracy: 0.9939\n",
            "Epoch 6/10\n",
            "204/204 [==============================] - 63s 310ms/step - loss: 0.0339 - accuracy: 0.9943 - val_loss: 0.0397 - val_accuracy: 0.9923\n",
            "Epoch 7/10\n",
            "204/204 [==============================] - 63s 310ms/step - loss: 0.0292 - accuracy: 0.9950 - val_loss: 0.0447 - val_accuracy: 0.9911\n",
            "Epoch 8/10\n",
            "204/204 [==============================] - 64s 312ms/step - loss: 0.0291 - accuracy: 0.9944 - val_loss: 0.0470 - val_accuracy: 0.9902\n",
            "Epoch 9/10\n",
            "204/204 [==============================] - 64s 312ms/step - loss: 0.0266 - accuracy: 0.9949 - val_loss: 0.0450 - val_accuracy: 0.9926\n",
            "Epoch 10/10\n",
            "204/204 [==============================] - 64s 312ms/step - loss: 0.0262 - accuracy: 0.9951 - val_loss: 0.0442 - val_accuracy: 0.9917\n"
          ],
          "name": "stdout"
        }
      ]
    },
    {
      "cell_type": "code",
      "metadata": {
        "id": "pBwl4UaUYWyX",
        "colab_type": "code",
        "colab": {}
      },
      "source": [
        "pred = model.predict(X_test)"
      ],
      "execution_count": 0,
      "outputs": []
    },
    {
      "cell_type": "code",
      "metadata": {
        "id": "ZIvceBs9YZAs",
        "colab_type": "code",
        "colab": {}
      },
      "source": [
        "for i in range(len(pred)):\n",
        "    if pred[i]>0.5:\n",
        "        pred[i]=1\n",
        "    elif pred[i]<=0.5:\n",
        "        pred[i]=0"
      ],
      "execution_count": 0,
      "outputs": []
    },
    {
      "cell_type": "code",
      "metadata": {
        "id": "RMB-M0eEYckt",
        "colab_type": "code",
        "colab": {}
      },
      "source": [
        "from sklearn.metrics import accuracy_score"
      ],
      "execution_count": 0,
      "outputs": []
    },
    {
      "cell_type": "code",
      "metadata": {
        "id": "NW9VXdBtYduX",
        "colab_type": "code",
        "colab": {
          "base_uri": "https://localhost:8080/",
          "height": 34
        },
        "outputId": "6e1abe68-7896-4068-fd1b-a64a91a06b1e"
      },
      "source": [
        "accuracy_score(y_test,pred)"
      ],
      "execution_count": 97,
      "outputs": [
        {
          "output_type": "execute_result",
          "data": {
            "text/plain": [
              "0.9917279411764706"
            ]
          },
          "metadata": {
            "tags": []
          },
          "execution_count": 97
        }
      ]
    },
    {
      "cell_type": "code",
      "metadata": {
        "id": "xWHvkcPnYe9O",
        "colab_type": "code",
        "colab": {}
      },
      "source": [
        "def accuracy_function(tp,tn,fp,fn):\n",
        "    \n",
        "    accuracy = (tp+tn) / (tp+tn+fp+fn)\n",
        "    \n",
        "    return accuracy"
      ],
      "execution_count": 0,
      "outputs": []
    },
    {
      "cell_type": "code",
      "metadata": {
        "id": "apY8JD91Ygg6",
        "colab_type": "code",
        "colab": {}
      },
      "source": [
        "def precision_function(tp,fp):\n",
        "    \n",
        "    precision = tp / (tp+fp)\n",
        "    \n",
        "    return precision"
      ],
      "execution_count": 0,
      "outputs": []
    },
    {
      "cell_type": "code",
      "metadata": {
        "id": "-r2OzZKSYh_p",
        "colab_type": "code",
        "colab": {}
      },
      "source": [
        "def recall_function(tp,fn):\n",
        "    \n",
        "    recall=tp / (tp+fn)\n",
        "    \n",
        "    return recall"
      ],
      "execution_count": 0,
      "outputs": []
    },
    {
      "cell_type": "code",
      "metadata": {
        "id": "N7Vpu-GMYjey",
        "colab_type": "code",
        "colab": {}
      },
      "source": [
        "def confusion_matrix(truth,predicted):\n",
        "    \n",
        "    true_positive = 0\n",
        "    true_negative = 0\n",
        "    false_positive = 0\n",
        "    false_negative = 0\n",
        "    \n",
        "    for true,pred in zip(truth,predicted):\n",
        "        \n",
        "        if true == 1.0:\n",
        "            if pred == 1.0:\n",
        "                true_positive += 1\n",
        "            elif pred != 1.0:\n",
        "                false_negative += 1\n",
        "\n",
        "        elif true == 0.0:\n",
        "            if pred == 0.0:\n",
        "                true_negative += 1\n",
        "            elif pred != 0.0:\n",
        "                false_positive += 1\n",
        "       \n",
        "    accuracy=accuracy_function(true_positive, true_negative, false_positive, false_negative)\n",
        "    precision=precision_function(true_positive, false_positive)\n",
        "    recall=recall_function(true_positive, false_negative)\n",
        "    \n",
        "    return (accuracy,\n",
        "            precision,\n",
        "           recall)"
      ],
      "execution_count": 0,
      "outputs": []
    },
    {
      "cell_type": "code",
      "metadata": {
        "id": "ef3xe90WYmQu",
        "colab_type": "code",
        "colab": {}
      },
      "source": [
        "accuracy,precision,recall=confusion_matrix(y_test,pred)"
      ],
      "execution_count": 0,
      "outputs": []
    },
    {
      "cell_type": "code",
      "metadata": {
        "id": "yzGyAGObYnqb",
        "colab_type": "code",
        "colab": {
          "base_uri": "https://localhost:8080/",
          "height": 86
        },
        "outputId": "3684db7e-a2e1-4e1a-ad97-364f5623f723"
      },
      "source": [
        "print(\" For Embedding \\n Accuracy : {0} \\n Precision : {1} \\n Recall : {2}\".format(accuracy, precision, recall))"
      ],
      "execution_count": 103,
      "outputs": [
        {
          "output_type": "stream",
          "text": [
            " For Embedding \n",
            " Accuracy : 0.9917279411764706 \n",
            " Precision : 0.9859241126070991 \n",
            " Recall : 0.9975232198142415\n"
          ],
          "name": "stdout"
        }
      ]
    },
    {
      "cell_type": "code",
      "metadata": {
        "id": "0SnGIzztYpNk",
        "colab_type": "code",
        "colab": {
          "base_uri": "https://localhost:8080/",
          "height": 34
        },
        "outputId": "d2f9ff13-29a4-411b-d132-00ec9e854b2f"
      },
      "source": [
        "\n",
        "model.save('model_embedding.h5')"
      ],
      "execution_count": 104,
      "outputs": [
        {
          "output_type": "stream",
          "text": [
            "Using TensorFlow backend.\n"
          ],
          "name": "stderr"
        }
      ]
    },
    {
      "cell_type": "code",
      "metadata": {
        "id": "XmJitajSY81z",
        "colab_type": "code",
        "colab": {}
      },
      "source": [
        "from keras.models import load_model\n",
        "\n",
        "mymodel = tf.keras.models.load_model('model_embedding.h5')"
      ],
      "execution_count": 0,
      "outputs": []
    },
    {
      "cell_type": "code",
      "metadata": {
        "id": "5qjjKSaxY86m",
        "colab_type": "code",
        "colab": {}
      },
      "source": [
        "import numpy as np\n",
        "import cv2\n",
        "def predict_cross_site_script():\n",
        "    \n",
        "    repeat=True\n",
        "    \n",
        "    \n",
        "    \n",
        "    \n",
        "    beautify=''\n",
        "    for i in range(20):\n",
        "        beautify+= \"=\"\n",
        "\n",
        "    print(beautify) \n",
        "    input_val=input(\"Give me some data to work on : \")\n",
        "    print(beautify)\n",
        "    \n",
        "    if input_val== '0':\n",
        "        repeat=False\n",
        "        \n",
        "        \n",
        "    \n",
        "    if repeat == True:\n",
        "\n",
        "        # // Preprocess\n",
        "        data = input_val\n",
        "        \n",
        "        data=data.replace('<', ' lessthan ')\n",
        "        data=data.replace('>', ' greaterthan ')\n",
        "        data=data.replace('/', ' forwardslash ')\n",
        "        data=data.replace('(', ' roundbracketstart ')\n",
        "        data=data.replace(')', ' roundbracketend ')\n",
        "        data=data.replace('=', ' = ')\n",
        "\n",
        "        token_list = tokenizer.texts_to_sequences([data])[0]\n",
        "\n",
        "        input_sequences = []\n",
        "        \n",
        "        for i in range(1, len(token_list)):\n",
        "          n_gram_sequence = token_list[:i+1]\n",
        "\n",
        "        input_sequences.append(n_gram_sequence)\n",
        "\n",
        "        input_sequences = np.array(pad_sequences(input_sequences, maxlen=max_sequence_len, padding='pre'))\n",
        "\n",
        "        prediction=mymodel.predict(input_sequences)\n",
        "\n",
        "        if prediction>0.5:\n",
        "\n",
        "    #         print(f\"Chances of attack :  {prediction[0]*100} \")\n",
        "            print(\" It can be Cross site scripting attack\")\n",
        "\n",
        "        else:\n",
        "\n",
        "    #         print(f\" Chances of being safe {100 - (prediction*100) }\")\n",
        "            print(\"seems safe\")\n",
        "        \n",
        "        \n",
        "        predict_cross_site_script()\n",
        "        \n",
        "        \n",
        "    elif repeat == False:\n",
        "        print( \" Good Bye \")"
      ],
      "execution_count": 0,
      "outputs": []
    },
    {
      "cell_type": "code",
      "metadata": {
        "id": "0fqHjRX9bAKm",
        "colab_type": "code",
        "colab": {
          "base_uri": "https://localhost:8080/",
          "height": 523
        },
        "outputId": "7a3bde59-b87d-499f-f83f-c2f1cd8a9e37"
      },
      "source": [
        "predict_cross_site_script()"
      ],
      "execution_count": 114,
      "outputs": [
        {
          "output_type": "stream",
          "text": [
            "====================\n",
            "Give me some data to work on : As salam o Alaikum\n",
            "====================\n",
            "seems safe\n",
            "====================\n",
            "Give me some data to work on : <table oncopy=\"alert(1)\" contenteditable>test</table>\n",
            "====================\n",
            " It can be Cross site scripting attack\n",
            "====================\n",
            "Give me some data to work on : ['semicopado' 10 'norm' 'norm']\n",
            "====================\n",
            "seems safe\n",
            "====================\n",
            "Give me some data to work on : ['<SCRIPT FOR=document EVENT=onreadystatechange>javascript:alert(1)</SCRIPT>']\n",
            "====================\n",
            " It can be Cross site scripting attack\n",
            "====================\n",
            "Give me some data to work on : <iframe oncopy=\"alert(1)\" contenteditable>test</iframe>\n",
            "====================\n",
            " It can be Cross site scripting attack\n",
            "====================\n",
            "Give me some data to work on : <li class=\"toclevel-2 tocsection-28\"><a href=\"#Logic\"><span class=\"tocnumber\">6.2 \n",
            "====================\n",
            "seems safe\n",
            "====================\n",
            "Give me some data to work on : 0\n",
            "====================\n",
            " Good Bye \n"
          ],
          "name": "stdout"
        }
      ]
    },
    {
      "cell_type": "code",
      "metadata": {
        "id": "VZa84YuUbECf",
        "colab_type": "code",
        "colab": {}
      },
      "source": [
        ""
      ],
      "execution_count": 0,
      "outputs": []
    }
  ]
}