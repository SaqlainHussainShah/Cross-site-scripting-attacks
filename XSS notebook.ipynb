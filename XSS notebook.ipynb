{
 "cells": [
  {
   "cell_type": "markdown",
   "metadata": {},
   "source": [
    "### Paper:\n",
    "   #### Classification of Malicious Web Code Using Deep Learning [Manoj Kumar Selvam]\n",
    "### Dataset:\n",
    "    Total data 11516\n",
    "    XSS : 7121 + 853 = 7974\n",
    "    Benign : 3066 + 476 = 3542\n",
    "   \n",
    "   "
   ]
  },
  {
   "cell_type": "code",
   "execution_count": 144,
   "metadata": {},
   "outputs": [
    {
     "name": "stderr",
     "output_type": "stream",
     "text": [
      "[nltk_data] Downloading package punkt to /home/ebryx/nltk_data...\n",
      "[nltk_data]   Package punkt is already up-to-date!\n",
      "[nltk_data] Downloading package stopwords to /home/ebryx/nltk_data...\n",
      "[nltk_data]   Package stopwords is already up-to-date!\n",
      "[nltk_data] Downloading package wordnet to /home/ebryx/nltk_data...\n",
      "[nltk_data]   Package wordnet is already up-to-date!\n"
     ]
    }
   ],
   "source": [
    "import numpy as np\n",
    "import pandas as pd\n",
    "import glob\n",
    "import time\n",
    "import pandas as pd\n",
    "# from xml.dom import minidom\n",
    "\n",
    "import nltk\n",
    "nltk.download('punkt')\n",
    "nltk.download('stopwords')\n",
    "nltk.download('wordnet')\n",
    "from nltk.corpus import stopwords \n",
    "\n",
    "\n",
    "import os\n",
    "import matplotlib.pyplot as plt\n",
    "import keras"
   ]
  },
  {
   "cell_type": "code",
   "execution_count": 145,
   "metadata": {},
   "outputs": [],
   "source": [
    "import cv2"
   ]
  },
  {
   "cell_type": "code",
   "execution_count": 146,
   "metadata": {},
   "outputs": [],
   "source": [
    "path='./data/portswigger.txt'\n",
    "\n",
    "XSS=[]\n",
    "f = open(path, \"r\")\n",
    "for x in f:\n",
    "    XSS.append(x)"
   ]
  },
  {
   "cell_type": "code",
   "execution_count": 147,
   "metadata": {},
   "outputs": [],
   "source": [
    "# Manually removed tag data\n",
    "\n",
    "\n",
    "path='./data/'\n",
    "file=\"scottparker_ml_sqli_src__trainingdata_plain.txt\""
   ]
  },
  {
   "cell_type": "code",
   "execution_count": 148,
   "metadata": {},
   "outputs": [],
   "source": [
    "df = pd.read_csv(os.path.join(path,file), sep='Aw3s0meSc0t7', names=['benign'], header=None, engine='python')"
   ]
  },
  {
   "cell_type": "code",
   "execution_count": 149,
   "metadata": {},
   "outputs": [
    {
     "data": {
      "text/html": [
       "<div>\n",
       "<style scoped>\n",
       "    .dataframe tbody tr th:only-of-type {\n",
       "        vertical-align: middle;\n",
       "    }\n",
       "\n",
       "    .dataframe tbody tr th {\n",
       "        vertical-align: top;\n",
       "    }\n",
       "\n",
       "    .dataframe thead th {\n",
       "        text-align: right;\n",
       "    }\n",
       "</style>\n",
       "<table border=\"1\" class=\"dataframe\">\n",
       "  <thead>\n",
       "    <tr style=\"text-align: right;\">\n",
       "      <th></th>\n",
       "      <th>benign</th>\n",
       "    </tr>\n",
       "  </thead>\n",
       "  <tbody>\n",
       "    <tr>\n",
       "      <th>0</th>\n",
       "      <td>Add plain text here</td>\n",
       "    </tr>\n",
       "    <tr>\n",
       "      <th>1</th>\n",
       "      <td>Ne te quaesiveris extra.</td>\n",
       "    </tr>\n",
       "    <tr>\n",
       "      <th>2</th>\n",
       "      <td>Man is his own star; and the soul that can</td>\n",
       "    </tr>\n",
       "    <tr>\n",
       "      <th>3</th>\n",
       "      <td>Render an honest and a perfect man,</td>\n",
       "    </tr>\n",
       "    <tr>\n",
       "      <th>4</th>\n",
       "      <td>Commands all light, all influence, all fate;</td>\n",
       "    </tr>\n",
       "  </tbody>\n",
       "</table>\n",
       "</div>"
      ],
      "text/plain": [
       "                                         benign\n",
       "0                           Add plain text here\n",
       "1                      Ne te quaesiveris extra.\n",
       "2    Man is his own star; and the soul that can\n",
       "3           Render an honest and a perfect man,\n",
       "4  Commands all light, all influence, all fate;"
      ]
     },
     "execution_count": 149,
     "metadata": {},
     "output_type": "execute_result"
    }
   ],
   "source": [
    "df.head()"
   ]
  },
  {
   "cell_type": "code",
   "execution_count": 150,
   "metadata": {},
   "outputs": [],
   "source": [
    "plain_text=df['benign'].values"
   ]
  },
  {
   "cell_type": "code",
   "execution_count": 151,
   "metadata": {},
   "outputs": [
    {
     "data": {
      "text/plain": [
       "array(['Add plain text here', 'Ne te quaesiveris extra.',\n",
       "       'Man is his own star; and the soul that can',\n",
       "       'Render an honest and a perfect man,',\n",
       "       'Commands all light, all influence, all fate;'], dtype=object)"
      ]
     },
     "execution_count": 151,
     "metadata": {},
     "output_type": "execute_result"
    }
   ],
   "source": [
    "plain_text[:5]"
   ]
  },
  {
   "cell_type": "code",
   "execution_count": 152,
   "metadata": {},
   "outputs": [],
   "source": [
    "plain_text=plain_text[:-22] # removed last 22 records that were urls"
   ]
  },
  {
   "cell_type": "code",
   "execution_count": 153,
   "metadata": {},
   "outputs": [
    {
     "data": {
      "text/plain": [
       "3641"
      ]
     },
     "execution_count": 153,
     "metadata": {},
     "output_type": "execute_result"
    }
   ],
   "source": [
    "len(plain_text)"
   ]
  },
  {
   "cell_type": "code",
   "execution_count": 154,
   "metadata": {},
   "outputs": [],
   "source": [
    "data=''\n",
    "for x in plain_text:\n",
    "    data+=\" \" + x"
   ]
  },
  {
   "cell_type": "code",
   "execution_count": 155,
   "metadata": {},
   "outputs": [],
   "source": [
    "stop_words = set(stopwords.words('english')) \n",
    "def fun_remove_stop_words(posts):\n",
    "    filtered=''\n",
    "    for x in posts.split(' '):\n",
    "        if x not in stop_words:\n",
    "            filtered+=' '+x\n",
    "    return filtered"
   ]
  },
  {
   "cell_type": "code",
   "execution_count": 156,
   "metadata": {},
   "outputs": [],
   "source": [
    "data=fun_remove_stop_words(data)\n",
    "data=data.split('.')"
   ]
  },
  {
   "cell_type": "code",
   "execution_count": 157,
   "metadata": {},
   "outputs": [
    {
     "data": {
      "text/plain": [
       "['  Add plain text Ne te quaesiveris extra',\n",
       " ' Man star; soul Render honest perfect man, Commands light, influence, fate; Nothing falls early late',\n",
       " ' Our acts angels are, good ill, Our fatal shadows walk us still',\n",
       " ' Epilogue Beaumont Fletcher’s Honest Man’s Fortune Cast bantling rocks, Suckle she-wolf’s teat; Wintered hawk fox, Power speed hands feet',\n",
       " ' I read day verses written eminent painter original conventional']"
      ]
     },
     "execution_count": 157,
     "metadata": {},
     "output_type": "execute_result"
    }
   ],
   "source": [
    "data[:5]"
   ]
  },
  {
   "cell_type": "code",
   "execution_count": 158,
   "metadata": {},
   "outputs": [
    {
     "data": {
      "text/plain": [
       "3066"
      ]
     },
     "execution_count": 158,
     "metadata": {},
     "output_type": "execute_result"
    }
   ],
   "source": [
    "len(data)"
   ]
  },
  {
   "cell_type": "code",
   "execution_count": 159,
   "metadata": {},
   "outputs": [],
   "source": [
    "## Additional benign data \n",
    "\n",
    "path='./data/benign_for_training.txt'\n",
    "benign_data=[]\n",
    "f = open(path, \"r\")\n",
    "for x in f:\n",
    "    benign_data.append(x)"
   ]
  },
  {
   "cell_type": "code",
   "execution_count": 160,
   "metadata": {},
   "outputs": [],
   "source": [
    "path='./data/xss_for_training.txt'\n",
    "xss_data=[]\n",
    "f = open(path, \"r\")\n",
    "for x in f:\n",
    "    xss_data.append(x)"
   ]
  },
  {
   "cell_type": "code",
   "execution_count": 161,
   "metadata": {},
   "outputs": [],
   "source": [
    "values=[]\n",
    "for i in XSS:\n",
    "    values.append((i,1))"
   ]
  },
  {
   "cell_type": "code",
   "execution_count": 162,
   "metadata": {},
   "outputs": [],
   "source": [
    "\n",
    "\n",
    "for i in data:\n",
    "    values.append((i,0))\n",
    "\n"
   ]
  },
  {
   "cell_type": "code",
   "execution_count": 163,
   "metadata": {},
   "outputs": [],
   "source": [
    "for i in benign_data:\n",
    "    values.append((i,0))"
   ]
  },
  {
   "cell_type": "code",
   "execution_count": 164,
   "metadata": {},
   "outputs": [],
   "source": [
    "for i in xss_data:\n",
    "    values.append((i,1))"
   ]
  },
  {
   "cell_type": "code",
   "execution_count": 165,
   "metadata": {},
   "outputs": [
    {
     "data": {
      "text/plain": [
       "440"
      ]
     },
     "execution_count": 165,
     "metadata": {},
     "output_type": "execute_result"
    }
   ],
   "source": [
    "len(benign_data)"
   ]
  },
  {
   "cell_type": "code",
   "execution_count": 166,
   "metadata": {},
   "outputs": [
    {
     "data": {
      "text/plain": [
       "231"
      ]
     },
     "execution_count": 166,
     "metadata": {},
     "output_type": "execute_result"
    }
   ],
   "source": [
    "len(xss_data)"
   ]
  },
  {
   "cell_type": "code",
   "execution_count": 167,
   "metadata": {},
   "outputs": [
    {
     "data": {
      "text/plain": [
       "7121"
      ]
     },
     "execution_count": 167,
     "metadata": {},
     "output_type": "execute_result"
    }
   ],
   "source": [
    "len(XSS)"
   ]
  },
  {
   "cell_type": "code",
   "execution_count": 168,
   "metadata": {},
   "outputs": [],
   "source": [
    "df=pd.DataFrame(values,columns=['Sentence','Label'])"
   ]
  },
  {
   "cell_type": "code",
   "execution_count": 169,
   "metadata": {},
   "outputs": [],
   "source": [
    "df.to_csv('XSS_dataset.csv', encoding='utf-8-sig')"
   ]
  },
  {
   "cell_type": "code",
   "execution_count": 170,
   "metadata": {},
   "outputs": [
    {
     "data": {
      "text/plain": [
       "10858"
      ]
     },
     "execution_count": 170,
     "metadata": {},
     "output_type": "execute_result"
    }
   ],
   "source": [
    "len(values)"
   ]
  },
  {
   "cell_type": "code",
   "execution_count": 171,
   "metadata": {},
   "outputs": [
    {
     "data": {
      "text/plain": [
       "('<a draggable=\"true\" ondragend=\"alert(1)\">test</a>\\n', 1)"
      ]
     },
     "execution_count": 171,
     "metadata": {},
     "output_type": "execute_result"
    }
   ],
   "source": [
    "values[1]"
   ]
  },
  {
   "cell_type": "code",
   "execution_count": 172,
   "metadata": {},
   "outputs": [
    {
     "data": {
      "text/plain": [
       "('document.write()', 1)"
      ]
     },
     "execution_count": 172,
     "metadata": {},
     "output_type": "execute_result"
    }
   ],
   "source": [
    "values[-1]"
   ]
  },
  {
   "cell_type": "code",
   "execution_count": 173,
   "metadata": {},
   "outputs": [
    {
     "data": {
      "text/plain": [
       "'<a draggable=\"true\" ondragend=\"alert(1)\">test</a>\\n'"
      ]
     },
     "execution_count": 173,
     "metadata": {},
     "output_type": "execute_result"
    }
   ],
   "source": [
    "sentences=df['Sentence'].values\n",
    "sentences[1]"
   ]
  },
  {
   "cell_type": "code",
   "execution_count": 174,
   "metadata": {},
   "outputs": [],
   "source": [
    "def convert_to_ascii(sentence):\n",
    "    sentence_ascii=[]\n",
    "\n",
    "    for i in sentence:\n",
    "        sentence_ascii.append(ord(i))\n",
    "\n",
    "    zer=np.zeros((10000))\n",
    "\n",
    "    for i in range(len(sentence_ascii)):\n",
    "        zer[i]=sentence_ascii[i]\n",
    "\n",
    "    zer.shape=(100, 100)\n",
    "\n",
    "\n",
    "#     plt.plot(image)\n",
    "#     plt.show()\n",
    "    return zer\n"
   ]
  },
  {
   "cell_type": "code",
   "execution_count": 175,
   "metadata": {},
   "outputs": [],
   "source": [
    "# display_ascii(sentences[100])\n",
    "\n",
    "\n",
    "arr=np.zeros((10858,100,100))\n",
    "\n",
    "for i in range(len(sentences)):\n",
    "    \n",
    "    image=convert_to_ascii(sentences[i])\n",
    "\n",
    "    x=np.asarray(image,dtype='float')\n",
    "    image =  cv2.resize(x, dsize=(100,100), interpolation=cv2.INTER_CUBIC)\n",
    "    image/=128\n",
    "    \n",
    "#     if i==1:\n",
    "#         plt.plot(image)\n",
    "#         plt.show()    \n",
    "    arr[i]=image"
   ]
  },
  {
   "cell_type": "code",
   "execution_count": 176,
   "metadata": {},
   "outputs": [
    {
     "data": {
      "text/plain": [
       "(10858, 100, 100)"
      ]
     },
     "execution_count": 176,
     "metadata": {},
     "output_type": "execute_result"
    }
   ],
   "source": [
    "arr.shape"
   ]
  },
  {
   "cell_type": "code",
   "execution_count": 177,
   "metadata": {},
   "outputs": [],
   "source": [
    "data = arr.reshape(arr.shape[0], 100, 100, 1)"
   ]
  },
  {
   "cell_type": "code",
   "execution_count": 178,
   "metadata": {},
   "outputs": [],
   "source": [
    "y=df['Label'].values"
   ]
  },
  {
   "cell_type": "code",
   "execution_count": 179,
   "metadata": {},
   "outputs": [],
   "source": [
    "from sklearn.model_selection import train_test_split\n",
    "trainX, testX, trainY, testY = train_test_split(data,y, test_size=0.2, random_state=42)"
   ]
  },
  {
   "cell_type": "code",
   "execution_count": 180,
   "metadata": {},
   "outputs": [],
   "source": [
    "\n",
    "\n",
    "from keras.models import Sequential\n",
    "from keras.layers import Dense, Activation, Conv2D, MaxPooling2D,Flatten,Dropout,MaxPool2D, BatchNormalization\n",
    "\n"
   ]
  },
  {
   "cell_type": "code",
   "execution_count": 181,
   "metadata": {},
   "outputs": [],
   "source": [
    "\n",
    "model = Sequential()\n",
    "model.add(keras.layers.Flatten(input_shape=(100,100,1)))\n",
    "\n",
    "model.add(keras.layers.Dense(1024, activation='relu'))\n",
    "model.add(keras.layers.Dense(512, activation='relu'))\n",
    "\n",
    "model.add(keras.layers.Dense(256, activation='relu'))\n",
    "\n",
    "model.add(keras.layers.Dense(128, activation='relu'))\n",
    "\n",
    "# model.add(keras.layers.Dense(20,  activation='relu'))\n",
    "# model.add(keras.layers.Dense(10,  activation='tanh'))\n",
    "# # model.add(layers.Flatten())\n",
    "# model.add(keras.layers.Dense(1024, activation='relu'))\n",
    "\n",
    "model.add(keras.layers.BatchNormalization())\n",
    "model.add(keras.layers.Dropout(0.5))\n",
    "model.add(keras.layers.Dense(1, activation='sigmoid'))"
   ]
  },
  {
   "cell_type": "code",
   "execution_count": 182,
   "metadata": {},
   "outputs": [
    {
     "name": "stdout",
     "output_type": "stream",
     "text": [
      "Model: \"sequential_3\"\n",
      "_________________________________________________________________\n",
      "Layer (type)                 Output Shape              Param #   \n",
      "=================================================================\n",
      "flatten_3 (Flatten)          (None, 10000)             0         \n",
      "_________________________________________________________________\n",
      "dense_11 (Dense)             (None, 1024)              10241024  \n",
      "_________________________________________________________________\n",
      "dense_12 (Dense)             (None, 512)               524800    \n",
      "_________________________________________________________________\n",
      "dense_13 (Dense)             (None, 256)               131328    \n",
      "_________________________________________________________________\n",
      "dense_14 (Dense)             (None, 128)               32896     \n",
      "_________________________________________________________________\n",
      "batch_normalization_3 (Batch (None, 128)               512       \n",
      "_________________________________________________________________\n",
      "dropout_3 (Dropout)          (None, 128)               0         \n",
      "_________________________________________________________________\n",
      "dense_15 (Dense)             (None, 1)                 129       \n",
      "=================================================================\n",
      "Total params: 10,930,689\n",
      "Trainable params: 10,930,433\n",
      "Non-trainable params: 256\n",
      "_________________________________________________________________\n"
     ]
    }
   ],
   "source": [
    "\n",
    "\n",
    "model.compile(loss='binary_crossentropy', \n",
    "              optimizer='adam', \n",
    "              metrics=['accuracy'])\n",
    "model.summary()\n",
    "\n"
   ]
  },
  {
   "cell_type": "code",
   "execution_count": 183,
   "metadata": {},
   "outputs": [],
   "source": [
    "import tensorflow as tf\n",
    "\n",
    "class myCallback(tf.keras.callbacks.Callback):\n",
    "    def on_epoch_end(self, epoch, logs={}):\n",
    "        if(logs.get('val_accuracy')>0.96):\n",
    "            print(\" \\n Reached 95% + validation accuracy\")\n",
    "            self.model.stop_training=True\n",
    "callbacks = myCallback()"
   ]
  },
  {
   "cell_type": "code",
   "execution_count": 184,
   "metadata": {},
   "outputs": [
    {
     "name": "stdout",
     "output_type": "stream",
     "text": [
      "Train on 8686 samples, validate on 2172 samples\n",
      "Epoch 1/10\n",
      "8686/8686 [==============================] - 18s 2ms/step - loss: 0.3461 - accuracy: 0.8631 - val_loss: 0.4598 - val_accuracy: 0.7136\n",
      "Epoch 2/10\n",
      "8686/8686 [==============================] - 18s 2ms/step - loss: 0.1220 - accuracy: 0.9666 - val_loss: 0.2220 - val_accuracy: 0.9185\n",
      "Epoch 3/10\n",
      "8686/8686 [==============================] - 17s 2ms/step - loss: 0.0828 - accuracy: 0.9786 - val_loss: 0.1566 - val_accuracy: 0.9567\n",
      "Epoch 4/10\n",
      "8686/8686 [==============================] - 18s 2ms/step - loss: 0.0822 - accuracy: 0.9773 - val_loss: 0.1134 - val_accuracy: 0.9613\n",
      " \n",
      " Reached 95% + validation accuracy\n"
     ]
    }
   ],
   "source": [
    "batch_size = 128\n",
    "num_epoch = 10\n",
    "#model training\n",
    "model_log = model.fit(trainX, trainY,\n",
    "          batch_size=batch_size,\n",
    "          epochs=num_epoch,\n",
    "          verbose=1,\n",
    "          validation_data=( testX,  testY),\n",
    "                      callbacks=[callbacks])"
   ]
  },
  {
   "cell_type": "code",
   "execution_count": 185,
   "metadata": {},
   "outputs": [],
   "source": [
    "pred=model.predict(testX)"
   ]
  },
  {
   "cell_type": "code",
   "execution_count": 186,
   "metadata": {},
   "outputs": [],
   "source": [
    "for i in range(len(pred)):\n",
    "    if pred[i]>0.5:\n",
    "        pred[i]=1\n",
    "    elif pred[i]<=0.5:\n",
    "        pred[i]=0"
   ]
  },
  {
   "cell_type": "code",
   "execution_count": 187,
   "metadata": {},
   "outputs": [],
   "source": [
    "true=0\n",
    "false=0\n",
    "\n",
    "for i in range(len(pred)):\n",
    "    if pred[i] == testY[i]:\n",
    "        true+=1\n",
    "    else:\n",
    "        false+=1"
   ]
  },
  {
   "cell_type": "code",
   "execution_count": 188,
   "metadata": {},
   "outputs": [
    {
     "name": "stdout",
     "output_type": "stream",
     "text": [
      "correct predicted ::  2088\n"
     ]
    }
   ],
   "source": [
    "print(\"correct predicted :: \", true)"
   ]
  },
  {
   "cell_type": "code",
   "execution_count": 189,
   "metadata": {},
   "outputs": [
    {
     "name": "stdout",
     "output_type": "stream",
     "text": [
      "false prediction ::  84\n"
     ]
    }
   ],
   "source": [
    "print(\"false prediction :: \", false)"
   ]
  },
  {
   "cell_type": "code",
   "execution_count": 190,
   "metadata": {},
   "outputs": [],
   "source": [
    "attack=0\n",
    "benign=0\n",
    "for i in range(len(testY)):\n",
    "    if testY[i]==1:\n",
    "        attack+=1\n",
    "    else:\n",
    "        benign+=1"
   ]
  },
  {
   "cell_type": "code",
   "execution_count": 191,
   "metadata": {},
   "outputs": [
    {
     "name": "stdout",
     "output_type": "stream",
     "text": [
      "Attack data in test set ::  1486\n"
     ]
    }
   ],
   "source": [
    "print(\"Attack data in test set :: \", attack)"
   ]
  },
  {
   "cell_type": "code",
   "execution_count": 192,
   "metadata": {},
   "outputs": [
    {
     "name": "stdout",
     "output_type": "stream",
     "text": [
      " Benign data in test set ::  686\n"
     ]
    }
   ],
   "source": [
    "print(\" Benign data in test set :: \", benign)"
   ]
  },
  {
   "cell_type": "markdown",
   "metadata": {},
   "source": [
    "## Confusion Matrix"
   ]
  },
  {
   "cell_type": "code",
   "execution_count": 193,
   "metadata": {},
   "outputs": [],
   "source": [
    "def accuracy_function(tp,tn,fp,fn):\n",
    "    \n",
    "    accuracy = (tp+tn) / (tp+tn+fp+fn)\n",
    "    \n",
    "    return accuracy\n"
   ]
  },
  {
   "cell_type": "code",
   "execution_count": 194,
   "metadata": {},
   "outputs": [],
   "source": [
    "def precision_function(tp,fp):\n",
    "    \n",
    "    precision = tp / (tp+fp)\n",
    "    \n",
    "    return precision\n"
   ]
  },
  {
   "cell_type": "code",
   "execution_count": 195,
   "metadata": {},
   "outputs": [],
   "source": [
    "\n",
    "\n",
    "def recall_function(tp,fn):\n",
    "    \n",
    "    recall=tp / (tp+fn)\n",
    "    \n",
    "    return recall\n",
    "\n"
   ]
  },
  {
   "cell_type": "code",
   "execution_count": 196,
   "metadata": {},
   "outputs": [],
   "source": [
    "def confusion_matrix(truth,predicted):\n",
    "    \n",
    "    true_positive = 0\n",
    "    true_negative = 0\n",
    "    false_positive = 0\n",
    "    false_negative = 0\n",
    "    \n",
    "    for true,pred in zip(truth,predicted):\n",
    "        if true == 1:\n",
    "            if pred == true:\n",
    "                true_positive += 1\n",
    "            elif pred != true:\n",
    "                false_negative += 1\n",
    "\n",
    "        elif true == 0:\n",
    "            if pred == true:\n",
    "                true_negative += 1\n",
    "            elif pred != true:\n",
    "                false_positive += 1\n",
    "            \n",
    "    accuracy=accuracy_function(true_positive, true_negative, false_positive, false_negative)\n",
    "    precision=precision_function(true_positive, false_positive)\n",
    "    recall=recall_function(true_positive, false_negative)\n",
    "    \n",
    "    return (accuracy,\n",
    "            precision,\n",
    "           recall)"
   ]
  },
  {
   "cell_type": "code",
   "execution_count": 197,
   "metadata": {},
   "outputs": [],
   "source": [
    "accuracy,precision,recall=confusion_matrix(testY,pred)"
   ]
  },
  {
   "cell_type": "code",
   "execution_count": 198,
   "metadata": {},
   "outputs": [
    {
     "name": "stdout",
     "output_type": "stream",
     "text": [
      " Accuracy : 0.9613259668508287 \n",
      " Precision : 0.9557867360208062 \n",
      " Recall : 0.9892328398384926\n"
     ]
    }
   ],
   "source": [
    "print(\" Accuracy : {0} \\n Precision : {1} \\n Recall : {2}\".format(accuracy, precision, recall))\n"
   ]
  },
  {
   "cell_type": "code",
   "execution_count": 199,
   "metadata": {},
   "outputs": [
    {
     "data": {
      "text/plain": [
       "0.9557867360208062"
      ]
     },
     "execution_count": 199,
     "metadata": {},
     "output_type": "execute_result"
    }
   ],
   "source": [
    "from sklearn.metrics import precision_score\n",
    "precision_score(testY, pred)"
   ]
  },
  {
   "cell_type": "code",
   "execution_count": 200,
   "metadata": {},
   "outputs": [
    {
     "data": {
      "text/plain": [
       "0.9892328398384926"
      ]
     },
     "execution_count": 200,
     "metadata": {},
     "output_type": "execute_result"
    }
   ],
   "source": [
    "from sklearn.metrics import recall_score\n",
    "recall_score(testY, pred)\n"
   ]
  },
  {
   "cell_type": "markdown",
   "metadata": {},
   "source": [
    "### Save Model"
   ]
  },
  {
   "cell_type": "code",
   "execution_count": 138,
   "metadata": {},
   "outputs": [],
   "source": [
    "from keras.models import load_model\n",
    "\n",
    "model.save('my_model_additional_xss_benign_data.h5')\n"
   ]
  },
  {
   "cell_type": "markdown",
   "metadata": {},
   "source": [
    "#### Testing"
   ]
  },
  {
   "cell_type": "code",
   "execution_count": 139,
   "metadata": {},
   "outputs": [],
   "source": [
    "from keras.models import load_model\n",
    "\n",
    "mymodel = load_model('my_model_additional_xss_benign_data.h5')"
   ]
  },
  {
   "cell_type": "code",
   "execution_count": 201,
   "metadata": {},
   "outputs": [],
   "source": [
    "import numpy as np\n",
    "import cv2\n",
    "def predict_cross_site_script():\n",
    "    \n",
    "    repeat=True\n",
    "    \n",
    "    \n",
    "    \n",
    "    \n",
    "    beautify=''\n",
    "    for i in range(20):\n",
    "        beautify+= \"=\"\n",
    "\n",
    "    print(beautify) \n",
    "    input_val=input(\"Give me some data to work on : \")\n",
    "    print(beautify)\n",
    "    \n",
    "    if input_val== '0':\n",
    "        repeat=False\n",
    "        \n",
    "        \n",
    "    \n",
    "    if repeat == True:\n",
    "\n",
    "        sentence_ascii=[]\n",
    "\n",
    "        for i in input_val:\n",
    "            sentence_ascii.append(ord(i))\n",
    "\n",
    "        storage=np.zeros((10000))\n",
    "\n",
    "        for i in range(len(sentence_ascii)):\n",
    "            storage[i]=sentence_ascii[i]\n",
    "\n",
    "        storage.shape=(100, 100)\n",
    "\n",
    "        x=np.asarray(storage,dtype='float')\n",
    "        image =  cv2.resize(x, dsize=(100,100), interpolation=cv2.INTER_CUBIC)\n",
    "        image.shape=(1,100,100,1)\n",
    "        image/=128\n",
    "\n",
    "        prediction=mymodel.predict(image)\n",
    "\n",
    "        if prediction>0.5:\n",
    "\n",
    "    #         print(f\"Chances of attack :  {prediction[0]*100} \")\n",
    "            print(\" It can be Cross site scripting attack\")\n",
    "\n",
    "        else:\n",
    "\n",
    "    #         print(f\" Chances of being safe {100 - (prediction*100) }\")\n",
    "            print(\"seems safe\")\n",
    "        \n",
    "        \n",
    "        predict_cross_site_script()\n",
    "        \n",
    "        \n",
    "    elif repeat == False:\n",
    "        print( \" Good Bye \")"
   ]
  },
  {
   "cell_type": "code",
   "execution_count": 7,
   "metadata": {
    "scrolled": false
   },
   "outputs": [
    {
     "name": "stdout",
     "output_type": "stream",
     "text": [
      "====================\n",
      "Give me some data to work on : <a id=x tabindex=1 onactivate=alert(1)></a>\n",
      "====================\n",
      " It can be Cross site scripting attack\n",
      "====================\n",
      "Give me some data to work on : <body onafterprint=alert(1)>\n",
      "====================\n",
      " It can be Cross site scripting attack\n",
      "====================\n",
      "Give me some data to work on : <style>@keyframes x{from {left:0;}to {left: 1000px;}}:target {animation:10s ease-in-out \t\t\t\t\t\t\t\t\t0s 1 x;}</style><a id=x style=\"position:absolute;\" onanimationcancel=\"alert(1)\"></a>\n",
      "====================\n",
      " It can be Cross site scripting attack\n",
      "====================\n",
      "Give me some data to work on : <style>@keyframes x{}</style><a style=\"animation-name:x\" \t\t\t\t\t\t\t\t\tonanimationend=\"alert(1)\"></a>\n",
      "====================\n",
      " It can be Cross site scripting attack\n",
      "====================\n",
      "Give me some data to work on : <style>@keyframes slidein {}</style><a style=\"animation-duration:1s;animation-name:slidein;animation-iteration-count:2\" \t\t\t\t\t\t\t\t\tonanimationiteration=\"alert(1)\"></a>\n",
      "====================\n",
      " It can be Cross site scripting attack\n",
      "====================\n",
      "Give me some data to work on : <style>@keyframes x{}</style><a style=\"animation-name:x\" \t\t\t\t\t\t\t\t\tonanimationstart=\"alert(1)\"></a>\n",
      "====================\n",
      " It can be Cross site scripting attack\n",
      "====================\n",
      "Give me some data to work on : <a id=x tabindex=1 onbeforeactivate=alert(1)></a>\n",
      "====================\n",
      " It can be Cross site scripting attack\n",
      "====================\n",
      "Give me some data to work on : <a id=x tabindex=1 onbeforedeactivate=alert(1)></a><input autofocus>\n",
      "====================\n",
      " It can be Cross site scripting attack\n",
      "====================\n",
      "Give me some data to work on : <a id=x tabindex=1 onfocus=alert(1)></a>\n",
      "====================\n",
      " It can be Cross site scripting attack\n",
      "====================\n",
      "Give me some data to work on : <a id=x tabindex=1 onfocusin=alert(1)></a>\n",
      "====================\n",
      " It can be Cross site scripting attack\n",
      "====================\n",
      "Give me some data to work on : <a onbeforecopy=\"alert(1)\" contenteditable>test</a>\n",
      "====================\n",
      " It can be Cross site scripting attack\n",
      "====================\n",
      "Give me some data to work on : <a onbeforecut=\"alert(1)\" contenteditable>test</a>\n",
      "====================\n",
      " It can be Cross site scripting attack\n",
      "====================\n",
      "Give me some data to work on : <a onbeforepaste=\"alert(1)\" contenteditable>test</a>\n",
      "====================\n",
      " It can be Cross site scripting attack\n",
      "====================\n",
      "Give me some data to work on : <a onblur=alert(1) tabindex=1 id=x></a><input autofocus>\n",
      "====================\n",
      " It can be Cross site scripting attack\n",
      "====================\n",
      "Give me some data to work on : <a onclick=\"alert(1)\">test</a>\n",
      "====================\n",
      " It can be Cross site scripting attack\n",
      "====================\n",
      "Give me some data to work on : <a onmouseleave=\"alert(1)\">test</a>\n",
      "====================\n",
      " It can be Cross site scripting attack\n",
      "====================\n",
      "Give me some data to work on : <a onpaste=\"alert(1)\" contenteditable>test</a>\n",
      "====================\n",
      " It can be Cross site scripting attack\n",
      "====================\n",
      "Give me some data to work on : <a onpointerout=alert(1)>XSS</a>\n",
      "====================\n",
      " It can be Cross site scripting attack\n",
      "====================\n",
      "Give me some data to work on : <abbr draggable=\"true\" ondrag=\"alert(1)\">test</abbr>\n",
      "====================\n",
      " It can be Cross site scripting attack\n",
      "====================\n",
      "Give me some data to work on : <abbr draggable=\"true\" ondragenter=\"alert(1)\">test</abbr>\n",
      "====================\n",
      " It can be Cross site scripting attack\n",
      "====================\n",
      "Give me some data to work on : <abbr id=x tabindex=1 onactivate=alert(1)></abbr>\n",
      "====================\n",
      " It can be Cross site scripting attack\n",
      "====================\n",
      "Give me some data to work on : <acronym draggable=\"true\" ondragenter=\"alert(1)\">test</acronym>\n",
      "====================\n",
      " It can be Cross site scripting attack\n",
      "====================\n",
      "Give me some data to work on : <acronym onbeforepaste=\"alert(1)\" contenteditable>test</acronym>\n",
      "====================\n",
      " It can be Cross site scripting attack\n",
      "====================\n",
      "Give me some data to work on : <acronym onblur=alert(1) tabindex=1 id=x></acronym><input autofocus>\n",
      "====================\n",
      " It can be Cross site scripting attack\n",
      "====================\n",
      "Give me some data to work on : <acronym oncontextmenu=\"alert(1)\">test</acronym>\n",
      "====================\n",
      " It can be Cross site scripting attack\n",
      "====================\n",
      "Give me some data to work on : <acronym onclick=\"alert(1)\">test</acronym>\n",
      "====================\n",
      " It can be Cross site scripting attack\n",
      "====================\n",
      "Give me some data to work on : <address draggable=\"true\" ondragstart=\"alert(1)\">test</address>\n",
      "====================\n",
      " It can be Cross site scripting attack\n",
      "====================\n",
      "Give me some data to work on : <address id=x tabindex=1 ondeactivate=alert(1)></address><input id=y autofocus>\n",
      "====================\n",
      " It can be Cross site scripting attack\n",
      "====================\n",
      "Give me some data to work on : <address onbeforecut=\"alert(1)\" contenteditable>test</address>\n",
      "====================\n",
      " It can be Cross site scripting attack\n",
      "====================\n",
      "Give me some data to work on : <address onblur=alert(1) tabindex=1 id=x></address><input autofocus>\n",
      "====================\n",
      " It can be Cross site scripting attack\n",
      "====================\n",
      "Give me some data to work on : alert(1)\n",
      "====================\n",
      "seems safe\n",
      "====================\n",
      "Give me some data to work on : <script>alert(1)</script>\n",
      "====================\n",
      " It can be Cross site scripting attack\n",
      "====================\n",
      "Give me some data to work on : <address onclick=\"alert(1)\">test</address>\n",
      "====================\n",
      " It can be Cross site scripting attack\n",
      "====================\n",
      "Give me some data to work on : <address oncut=\"alert(1)\" contenteditable>test</address>\n",
      "====================\n",
      " It can be Cross site scripting attack\n",
      "====================\n",
      "Give me some data to work on : <address onkeyup=\"alert(1)\" contenteditable>test</address>\n",
      "====================\n",
      " It can be Cross site scripting attack\n",
      "====================\n",
      "Give me some data to work on : <address onmouseleave=\"alert(1)\">test</address>\n",
      "====================\n",
      " It can be Cross site scripting attack\n",
      "====================\n",
      "Give me some data to work on : <address onpointerdown=alert(1)>XSS</address>\n",
      "====================\n",
      " It can be Cross site scripting attack\n",
      "====================\n",
      "Give me some data to work on : <animate onpointerleave=alert(1)>XSS</animate>\n",
      "====================\n",
      " It can be Cross site scripting attack\n",
      "====================\n",
      "Give me some data to work on : <animatetransform onpointerenter=alert(1)>XSS</animatetransform>\n",
      "====================\n",
      " It can be Cross site scripting attack\n",
      "====================\n",
      "Give me some data to work on : <applet oncopy=\"alert(1)\" contenteditable>test</applet>\n",
      "====================\n",
      " It can be Cross site scripting attack\n",
      "====================\n",
      "Give me some data to work on : <applet ondblclick=\"alert(1)\">test</applet>\n",
      "====================\n",
      " It can be Cross site scripting attack\n",
      "====================\n",
      "Give me some data to work on : <applet onreadystatechange=alert(1)></applet>\n",
      "====================\n",
      " It can be Cross site scripting attack\n",
      "====================\n",
      "Give me some data to work on : <area draggable=\"true\" ondragenter=\"alert(1)\">test</area>\n",
      "====================\n",
      " It can be Cross site scripting attack\n",
      "====================\n",
      "Give me some data to work on : <area id=x tabindex=1 onbeforedeactivate=alert(1)></area><input autofocus>\n",
      "====================\n",
      " It can be Cross site scripting attack\n",
      "====================\n",
      "Give me some data to work on : <area onbeforecut=\"alert(1)\" contenteditable>test</area>\n",
      "====================\n",
      " It can be Cross site scripting attack\n",
      "====================\n",
      "Give me some data to work on : <area id=x tabindex=1 ondeactivate=alert(1)></area><input id=y autofocus>\n",
      "====================\n",
      " It can be Cross site scripting attack\n",
      "====================\n",
      "Give me some data to work on : <area onclick=\"alert(1)\">test</area>\n",
      "====================\n",
      " It can be Cross site scripting attack\n",
      "====================\n",
      "Give me some data to work on : <area onkeydown=\"alert(1)\" contenteditable>test</area>\n",
      "====================\n",
      " It can be Cross site scripting attack\n",
      "====================\n",
      "Give me some data to work on : <area onmouseenter=\"alert(1)\">test</area>\n"
     ]
    },
    {
     "name": "stdout",
     "output_type": "stream",
     "text": [
      "====================\n",
      " It can be Cross site scripting attack\n",
      "====================\n",
      "Give me some data to work on : <article onbeforepaste=\"alert(1)\" contenteditable>test</article>\n",
      "====================\n",
      " It can be Cross site scripting attack\n",
      "====================\n",
      "Give me some data to work on : <article onpaste=\"alert(1)\" contenteditable>test</article>\n",
      "====================\n",
      " It can be Cross site scripting attack\n",
      "====================\n",
      "Give me some data to work on : <aside draggable=\"true\" ondragleave=\"alert(1)\">test</aside>\n",
      "====================\n",
      " It can be Cross site scripting attack\n",
      "====================\n",
      "Give me some data to work on : <aside id=x tabindex=1 onbeforeactivate=alert(1)></aside>\n",
      "====================\n",
      " It can be Cross site scripting attack\n",
      "====================\n",
      "Give me some data to work on : <aside onbeforepaste=\"alert(1)\" contenteditable>test</aside>\n",
      "====================\n",
      " It can be Cross site scripting attack\n",
      "====================\n",
      "Give me some data to work on : onclick=\"alert(1)\"\n",
      "====================\n",
      " It can be Cross site scripting attack\n",
      "====================\n",
      "Give me some data to work on : alert(1)\n",
      "====================\n",
      "seems safe\n",
      "====================\n",
      "Give me some data to work on : <audio autoplay onplay=alert(1)><source src=\"validaudio.wav\" type=\"audio/wav\"></audio>\n",
      "====================\n",
      " It can be Cross site scripting attack\n",
      "====================\n",
      "Give me some data to work on : <audio id=x tabindex=1 onbeforeactivate=alert(1)></audio>\n",
      "====================\n",
      " It can be Cross site scripting attack\n",
      "====================\n",
      "Give me some data to work on : <audio onmouseenter=\"alert(1)\">test</audio>\n",
      "====================\n",
      " It can be Cross site scripting attack\n",
      "====================\n",
      "Give me some data to work on : <b draggable=\"true\" ondragend=\"alert(1)\">test</b>\n",
      "====================\n",
      " It can be Cross site scripting attack\n",
      "====================\n",
      "Give me some data to work on : <b id=x tabindex=1 onbeforedeactivate=alert(1)></b><input autofocus>\n",
      "====================\n",
      " It can be Cross site scripting attack\n",
      "====================\n",
      "Give me some data to work on : <b onbeforecopy=\"alert(1)\" contenteditable>test</b>\n",
      "====================\n",
      " It can be Cross site scripting attack\n",
      "====================\n",
      "Give me some data to work on : <b onblur=alert(1) tabindex=1 id=x></b><input autofocus>\n",
      "====================\n",
      " It can be Cross site scripting attack\n",
      "====================\n",
      "Give me some data to work on : <b onclick=\"alert(1)\">test</b>\n",
      "====================\n",
      " It can be Cross site scripting attack\n",
      "====================\n",
      "Give me some data to work on : <b oncopy=\"alert(1)\" contenteditable>test</b>\n",
      "====================\n",
      " It can be Cross site scripting attack\n",
      "====================\n",
      "Give me some data to work on : <b onfocusout=alert(1) tabindex=1 id=x></b><input autofocus>\n",
      "====================\n",
      " It can be Cross site scripting attack\n",
      "====================\n",
      "Give me some data to work on : <b onmouseout=\"alert(1)\">test</b>\n",
      "====================\n",
      " It can be Cross site scripting attack\n",
      "====================\n",
      "Give me some data to work on : <base oncopy=\"alert(1)\" contenteditable>test</base>\n",
      "====================\n",
      " It can be Cross site scripting attack\n",
      "====================\n",
      "Give me some data to work on : <bdi id=x tabindex=1 onbeforedeactivate=alert(1)></bdi><input autofocus>\n",
      "====================\n",
      " It can be Cross site scripting attack\n",
      "====================\n",
      "Give me some data to work on : <bdi draggable=\"true\" ondragend=\"alert(1)\">test</bdi>\n",
      "====================\n",
      " It can be Cross site scripting attack\n",
      "====================\n",
      "Give me some data to work on : <bdi onclick=\"alert(1)\">test</bdi>\n",
      "====================\n",
      " It can be Cross site scripting attack\n",
      "====================\n",
      "Give me some data to work on : <bdi onmouseleave=\"alert(1)\">test</bdi>\n",
      "====================\n",
      " It can be Cross site scripting attack\n",
      "====================\n",
      "Give me some data to work on : <bdi onpaste=\"alert(1)\" contenteditable>test</bdi>\n",
      "====================\n",
      " It can be Cross site scripting attack\n",
      "====================\n",
      "Give me some data to work on : <bdi onpointerout=alert(1)>XSS</bdi>\n",
      "====================\n",
      " It can be Cross site scripting attack\n",
      "====================\n",
      "Give me some data to work on : <bdo onbeforecut=\"alert(1)\" contenteditable>test</bdo>\n",
      "====================\n",
      " It can be Cross site scripting attack\n",
      "====================\n",
      "Give me some data to work on : <bgsound onmouseenter=\"alert(1)\">test</bgsound>\n",
      "====================\n",
      " It can be Cross site scripting attack\n",
      "====================\n",
      "Give me some data to work on : <big id=x tabindex=1 onactivate=alert(1)></big>\n",
      "====================\n",
      " It can be Cross site scripting attack\n",
      "====================\n",
      "Give me some data to work on : <big onmouseover=\"alert(1)\">test</big>\n",
      "====================\n",
      " It can be Cross site scripting attack\n",
      "====================\n",
      "Give me some data to work on : <blink onblur=alert(1) tabindex=1 id=x></blink><input autofocus>\n",
      "====================\n",
      " It can be Cross site scripting attack\n",
      "====================\n",
      "Give me some data to work on : <blink oncopy=\"alert(1)\" contenteditable>test</blink>\n",
      "====================\n",
      " It can be Cross site scripting attack\n",
      "====================\n",
      "Give me some data to work on : he blink his eyes\n",
      "====================\n",
      " It can be Cross site scripting attack\n",
      "====================\n",
      "Give me some data to work on : are you blinking?\n",
      "====================\n",
      " It can be Cross site scripting attack\n",
      "====================\n",
      "Give me some data to work on : <blink onpointerleave=alert(1)>XSS</blink>\n",
      "====================\n",
      " It can be Cross site scripting attack\n",
      "====================\n",
      "Give me some data to work on : <blockquote onbeforecopy=\"alert(1)\" contenteditable>test</blockquote>\n",
      "====================\n",
      " It can be Cross site scripting attack\n",
      "====================\n",
      "Give me some data to work on : <body onclick=\"alert(1)\">test</body>\n",
      "====================\n",
      " It can be Cross site scripting attack\n",
      "====================\n",
      "Give me some data to work on : <body onbeforeunload=\"location='javascript:alert(1)'\">\n",
      "====================\n",
      " It can be Cross site scripting attack\n",
      "====================\n",
      "Give me some data to work on : <body onfocusout=alert(1) id=x><iframe id=x>\n",
      "====================\n",
      " It can be Cross site scripting attack\n",
      "====================\n",
      "Give me some data to work on : <body onmouseenter=\"alert(1)\">test</body>\n",
      "====================\n",
      " It can be Cross site scripting attack\n",
      "====================\n",
      "Give me some data to work on : <body ontouchmove=alert(1)> \n",
      "====================\n",
      " It can be Cross site scripting attack\n",
      "====================\n",
      "Give me some data to work on : <br id=x tabindex=1 onbeforedeactivate=alert(1)></br><input autofocus>\n",
      "====================\n",
      " It can be Cross site scripting attack\n",
      "====================\n",
      "Give me some data to work on : <br oncopy=\"alert(1)\" contenteditable>test</br>\n",
      "====================\n",
      " It can be Cross site scripting attack\n",
      "====================\n",
      "Give me some data to work on : <br onmousemove=\"alert(1)\">test</br>\n",
      "====================\n",
      " It can be Cross site scripting attack\n",
      "====================\n",
      "Give me some data to work on : <br onpointerup=alert(1)>XSS</br>\n",
      "====================\n",
      " It can be Cross site scripting attack\n",
      "====================\n",
      "Give me some data to work on : <del onpaste=\"alert(1)\" contenteditable>test</del>\n",
      "====================\n",
      " It can be Cross site scripting attack\n",
      "====================\n",
      "Give me some data to work on : <details onpointerout=alert(1)>XSS</details>\n",
      "====================\n",
      " It can be Cross site scripting attack\n",
      "====================\n",
      "Give me some data to work on : <dir id=x tabindex=1 onbeforeactivate=alert(1)></dir>\n",
      "====================\n",
      " It can be Cross site scripting attack\n",
      "====================\n",
      "Give me some data to work on : <div draggable=\"true\" contenteditable>drag me</div><blink ondragover=alert(1) contenteditable>drop here</blink>\n",
      "====================\n",
      " It can be Cross site scripting attack\n",
      "====================\n",
      "Give me some data to work on : <q onmousedown=\"alert(1)\">test</q>\n",
      "====================\n",
      " It can be Cross site scripting attack\n",
      "====================\n",
      "Give me some data to work on : <q onclick=\"alert(1)\">test</q>\n",
      "====================\n",
      " It can be Cross site scripting attack\n",
      "====================\n",
      "Give me some data to work on : <q onmousemove=\"alert(1)\">test</q>\n",
      "====================\n",
      " It can be Cross site scripting attack\n",
      "====================\n"
     ]
    },
    {
     "name": "stdout",
     "output_type": "stream",
     "text": [
      "Give me some data to work on : <rt onmousedown=\"alert(1)\">test</rt>\n",
      "====================\n",
      " It can be Cross site scripting attack\n",
      "====================\n",
      "Give me some data to work on : <s onblur=alert(1) tabindex=1 id=x></s><input autofocus>\n",
      "====================\n",
      " It can be Cross site scripting attack\n",
      "====================\n",
      "Give me some data to work on : <script draggable=\"true\" ondragstart=\"alert(1)\">test</script>\n",
      "====================\n",
      " It can be Cross site scripting attack\n",
      "====================\n",
      "Give me some data to work on : <script oncut=\"alert(1)\" contenteditable>test</script>\n",
      "====================\n",
      " It can be Cross site scripting attack\n",
      "====================\n",
      "Give me some data to work on : <section onmouseup=\"alert(1)\">test</section>\n",
      "====================\n",
      " It can be Cross site scripting attack\n",
      "====================\n",
      "Give me some data to work on : <shadow id=x tabindex=1 onfocusin=alert(1)></shadow>\n",
      "====================\n",
      " It can be Cross site scripting attack\n",
      "====================\n",
      "Give me some data to work on : <slot draggable=\"true\" ondragstart=\"alert(1)\">test</slot>\n",
      "====================\n",
      " It can be Cross site scripting attack\n",
      "====================\n",
      "Give me some data to work on : <small onkeyup=\"alert(1)\" contenteditable>test</small>\n",
      "====================\n",
      " It can be Cross site scripting attack\n",
      "====================\n",
      "Give me some data to work on : <source ondblclick=\"alert(1)\">test</source>\n",
      "====================\n",
      " It can be Cross site scripting attack\n",
      "====================\n",
      "Give me some data to work on : <source onblur=alert(1) tabindex=1 id=x></source><input autofocus>\n",
      "====================\n",
      " It can be Cross site scripting attack\n",
      "====================\n",
      "Give me some data to work on : <spacer onmouseout=\"alert(1)\">test</spacer>\n",
      "====================\n",
      " It can be Cross site scripting attack\n",
      "====================\n",
      "Give me some data to work on : <span draggable=\"true\" ondrag=\"alert(1)\">test</span>\n",
      "====================\n",
      " It can be Cross site scripting attack\n",
      "====================\n",
      "Give me some data to work on : <span onkeydown=\"alert(1)\" contenteditable>test</span>\n",
      "====================\n",
      " It can be Cross site scripting attack\n",
      "====================\n",
      "Give me some data to work on : <strike onkeydown=\"alert(1)\" contenteditable>test</strike>\n",
      "====================\n",
      " It can be Cross site scripting attack\n",
      "====================\n",
      "Give me some data to work on : <strong onclick=\"alert(1)\">test</strong>\n",
      "====================\n",
      " It can be Cross site scripting attack\n",
      "====================\n",
      "Give me some data to work on : <style draggable=\"true\" ondragstart=\"alert(1)\">test</style>\n",
      "====================\n",
      " It can be Cross site scripting attack\n",
      "====================\n",
      "Give me some data to work on : <style>:target {color:red;}</style><center id=x style=\"transition:color 1s\" ontransitionend=alert(1)></center>\n",
      "====================\n",
      " It can be Cross site scripting attack\n",
      "====================\n",
      "Give me some data to work on : <style>:target {transform: rotate(180deg);}</style><header id=x style=\"transition:transform 2s\" ontransitionrun=alert(1)></header>\n",
      "====================\n",
      " It can be Cross site scripting attack\n",
      "====================\n",
      "Give me some data to work on : ontransitionrun=alert(1)\n",
      "====================\n",
      " It can be Cross site scripting attack\n",
      "====================\n",
      "Give me some data to work on : onanimationiteration=\"alert(1)\n",
      "====================\n",
      " It can be Cross site scripting attack\n",
      "====================\n",
      "Give me some data to work on : <svg><dt onload=alert(1)></dt>\n",
      "====================\n",
      " It can be Cross site scripting attack\n",
      "====================\n",
      "Give me some data to work on : <sup onmouseup=\"alert(1)\">test</sup>\n",
      "====================\n",
      " It can be Cross site scripting attack\n",
      "====================\n",
      "Give me some data to work on : <table onkeyup=\"alert(1)\" contenteditable>test</table>\n",
      "====================\n",
      " It can be Cross site scripting attack\n",
      "====================\n",
      "Give me some data to work on : <table onmousemove=\"alert(1)\">test</table>\n",
      "====================\n",
      " It can be Cross site scripting attack\n",
      "====================\n",
      "Give me some data to work on : <table onpointerleave=alert(1)>XSS</table>\n",
      "====================\n",
      " It can be Cross site scripting attack\n",
      "====================\n",
      "Give me some data to work on : <tbody id=x tabindex=1 onbeforedeactivate=alert(1)></tbody><input autofocus>\n",
      "====================\n",
      " It can be Cross site scripting attack\n",
      "====================\n",
      "Give me some data to work on : <tbody draggable=\"true\" ondragleave=\"alert(1)\">test</tbody>\n",
      "====================\n",
      " It can be Cross site scripting attack\n",
      "====================\n",
      "Give me some data to work on : <tbody onmouseover=\"alert(1)\">test</tbody>\n",
      "====================\n",
      " It can be Cross site scripting attack\n",
      "====================\n",
      "Give me some data to work on : <td draggable=\"true\" ondragenter=\"alert(1)\">test</td>\n",
      "====================\n",
      " It can be Cross site scripting attack\n",
      "====================\n",
      "Give me some data to work on : <td oncontextmenu=\"alert(1)\">test</td>\n",
      "====================\n",
      " It can be Cross site scripting attack\n",
      "====================\n",
      "Give me some data to work on : <template onblur=alert(1) tabindex=1 id=x></template><input autofocus>\n",
      "====================\n",
      " It can be Cross site scripting attack\n",
      "====================\n",
      "Give me some data to work on : <textarea ondblclick=\"alert(1)\">test</textarea>\n",
      "====================\n",
      " It can be Cross site scripting attack\n",
      "====================\n",
      "Give me some data to work on : <tfoot id=x tabindex=1 onbeforedeactivate=alert(1)></tfoot><input autofocus>\n",
      "====================\n",
      " It can be Cross site scripting attack\n",
      "====================\n",
      "Give me some data to work on : <tfoot onpointerleave=alert(1)>XSS</tfoot>\n",
      "====================\n",
      " It can be Cross site scripting attack\n",
      "====================\n",
      "Give me some data to work on : <thead draggable=\"true\" ondragleave=\"alert(1)\">test</thead>\n",
      "====================\n",
      " It can be Cross site scripting attack\n",
      "====================\n",
      "Give me some data to work on : <time onmousedown=\"alert(1)\">test</time>\\\n",
      "====================\n",
      " It can be Cross site scripting attack\n",
      "====================\n",
      "Give me some data to work on : <time onkeypress=\"alert(1)\" contenteditable>test</time>\n",
      "====================\n",
      " It can be Cross site scripting attack\n",
      "====================\n",
      "Give me some data to work on : onkeypress=\"alert(1)\"\n",
      "====================\n",
      " It can be Cross site scripting attack\n",
      "====================\n",
      "Give me some data to work on : onpaste=\"alert(1)\" \n",
      "====================\n",
      " It can be Cross site scripting attack\n",
      "====================\n",
      "Give me some data to work on :  ondeactivate\n",
      "====================\n",
      "seems safe\n",
      "====================\n",
      "Give me some data to work on :  ondeactivate=alert(1)\n",
      "====================\n",
      "seems safe\n",
      "====================\n",
      "Give me some data to work on : <tr onpointerdown=alert(1)>XSS</tr>\n",
      "====================\n",
      " It can be Cross site scripting attack\n",
      "====================\n",
      "Give me some data to work on : <track draggable=\"true\" ondragstart=\"alert(1)\">test</track>\n",
      "====================\n",
      " It can be Cross site scripting attack\n",
      "====================\n",
      "Give me some data to work on : <track oncopy=\"alert(1)\" contenteditable>test</track>\n",
      "====================\n",
      " It can be Cross site scripting attack\n",
      "====================\n",
      "Give me some data to work on : <track onpointerup=alert(1)>XSS</track>\n",
      "====================\n",
      " It can be Cross site scripting attack\n",
      "====================\n",
      "Give me some data to work on : <tt onpointerenter=alert(1)>XSS</tt>\n",
      "====================\n",
      " It can be Cross site scripting attack\n",
      "====================\n",
      "Give me some data to work on : <video onbeforecopy=\"alert(1)\" contenteditable>test</video>\n",
      "====================\n",
      " It can be Cross site scripting attack\n",
      "====================\n",
      "Give me some data to work on :  <IMG SRC=\"javascript:alert('XSS');\">\n",
      "====================\n",
      "seems safe\n",
      "====================\n",
      "Give me some data to work on : javascript:alert('XSS')\n",
      "====================\n",
      " It can be Cross site scripting attack\n",
      "====================\n",
      "Give me some data to work on : 0\n",
      "====================\n",
      " Good Bye \n"
     ]
    }
   ],
   "source": [
    "# Test for XSS cheatsheet\n",
    "\n",
    "predict_cross_site_script()"
   ]
  },
  {
   "cell_type": "code",
   "execution_count": null,
   "metadata": {},
   "outputs": [],
   "source": []
  }
 ],
 "metadata": {
  "kernelspec": {
   "display_name": "Python 3",
   "language": "python",
   "name": "python3"
  },
  "language_info": {
   "codemirror_mode": {
    "name": "ipython",
    "version": 3
   },
   "file_extension": ".py",
   "mimetype": "text/x-python",
   "name": "python",
   "nbconvert_exporter": "python",
   "pygments_lexer": "ipython3",
   "version": "3.7.6"
  }
 },
 "nbformat": 4,
 "nbformat_minor": 4
}
